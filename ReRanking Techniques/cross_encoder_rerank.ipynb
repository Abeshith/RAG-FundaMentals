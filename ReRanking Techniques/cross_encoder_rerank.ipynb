{
 "cells": [
  {
   "cell_type": "code",
   "execution_count": 1,
   "id": "6fe62dbd",
   "metadata": {},
   "outputs": [
    {
     "name": "stderr",
     "output_type": "stream",
     "text": [
      "d:\\RAG Pipeline\\.venv\\Lib\\site-packages\\tqdm\\auto.py:21: TqdmWarning: IProgress not found. Please update jupyter and ipywidgets. See https://ipywidgets.readthedocs.io/en/stable/user_install.html\n",
      "  from .autonotebook import tqdm as notebook_tqdm\n"
     ]
    }
   ],
   "source": [
    "from sentence_transformers import SentenceTransformer"
   ]
  },
  {
   "cell_type": "code",
   "execution_count": null,
   "id": "4f201444",
   "metadata": {},
   "outputs": [
    {
     "data": {
      "text/plain": [
       "8"
      ]
     },
     "execution_count": 2,
     "metadata": {},
     "output_type": "execute_result"
    }
   ],
   "source": [
    "documents = [\n",
    "    \"This a list which containing sample documents.\",\n",
    "    \"Keywords are important for keyword-based search.\",\n",
    "    \"Document analysis involves extracting keywords.\",\n",
    "    \"Keyword-based search relies on sparse embeddings.\",\n",
    "    \"Understsnding document structure aids in keyword extraction.\",\n",
    "    \"Efficient keyword extraction enhances search accuracy.\",\n",
    "    \"Semacntic similarity improves document retrieval performance.\",\n",
    "    \"Machine learning techniques can optimize keyword extraction methods.\"\n",
    "]\n",
    "len(documents)"
   ]
  },
  {
   "cell_type": "code",
   "execution_count": 4,
   "id": "499681fc",
   "metadata": {},
   "outputs": [],
   "source": [
    "query = \"Natural language processing techniques enhances keyword extraction efficiency.\""
   ]
  },
  {
   "cell_type": "code",
   "execution_count": 3,
   "id": "92e940a0",
   "metadata": {},
   "outputs": [],
   "source": [
    "model = SentenceTransformer('sentence-transformers/paraphrase-xlm-r-multilingual-v1')"
   ]
  },
  {
   "cell_type": "code",
   "execution_count": 6,
   "id": "70d92cca",
   "metadata": {},
   "outputs": [],
   "source": [
    "docs_embeddings = model.encode(documents)"
   ]
  },
  {
   "cell_type": "code",
   "execution_count": 7,
   "id": "c187de00",
   "metadata": {},
   "outputs": [],
   "source": [
    "query_embedding = model.encode(query)"
   ]
  },
  {
   "cell_type": "code",
   "execution_count": 9,
   "id": "ecdd67bf",
   "metadata": {},
   "outputs": [
    {
     "data": {
      "text/plain": [
       "array([[0.18442771, 0.45484942, 0.57262063, 0.44097388, 0.61043894,\n",
       "        0.7594256 , 0.5526097 , 0.79599875]], dtype=float32)"
      ]
     },
     "execution_count": 9,
     "metadata": {},
     "output_type": "execute_result"
    }
   ],
   "source": [
    "from sklearn.metrics.pairwise import cosine_similarity\n",
    "import numpy as np\n",
    "\n",
    "similarities = cosine_similarity(np.array([query_embedding]), docs_embeddings)\n",
    "similarities"
   ]
  },
  {
   "cell_type": "code",
   "execution_count": 11,
   "id": "f92993d3",
   "metadata": {},
   "outputs": [
    {
     "data": {
      "text/plain": [
       "array([7, 5, 4, 2, 6, 1, 3, 0])"
      ]
     },
     "execution_count": 11,
     "metadata": {},
     "output_type": "execute_result"
    }
   ],
   "source": [
    "index = np.argsort(similarities[0])[::-1]\n",
    "index"
   ]
  },
  {
   "cell_type": "code",
   "execution_count": 13,
   "id": "adf14bf4",
   "metadata": {},
   "outputs": [
    {
     "data": {
      "text/plain": [
       "[('Machine learning techniques can optimize keyword extraction methods.',\n",
       "  np.float32(0.79599875)),\n",
       " ('Efficient keyword extraction enhances search accuracy.',\n",
       "  np.float32(0.7594256)),\n",
       " ('Understsnding document structure aids in keyword extraction.',\n",
       "  np.float32(0.61043894)),\n",
       " ('Document analysis involves extracting keywords.', np.float32(0.57262063)),\n",
       " ('Semacntic similarity improves document retrieval performance.',\n",
       "  np.float32(0.5526097)),\n",
       " ('Keywords are important for keyword-based search.', np.float32(0.45484942)),\n",
       " ('Keyword-based search relies on sparse embeddings.', np.float32(0.44097388)),\n",
       " ('This a list which containing sample documents.', np.float32(0.18442771))]"
      ]
     },
     "execution_count": 13,
     "metadata": {},
     "output_type": "execute_result"
    }
   ],
   "source": [
    "ranked_docs = [(documents[i], similarities[0][i]) for i in index]\n",
    "ranked_docs"
   ]
  },
  {
   "cell_type": "code",
   "execution_count": 20,
   "id": "a95970f1",
   "metadata": {},
   "outputs": [
    {
     "data": {
      "text/plain": [
       "['Machine learning techniques can optimize keyword extraction methods.',\n",
       " 'Efficient keyword extraction enhances search accuracy.',\n",
       " 'Understsnding document structure aids in keyword extraction.',\n",
       " 'Document analysis involves extracting keywords.']"
      ]
     },
     "execution_count": 20,
     "metadata": {},
     "output_type": "execute_result"
    }
   ],
   "source": [
    "top_4_docs = [docs[0] for docs in ranked_docs[:4]]\n",
    "top_4_docs"
   ]
  },
  {
   "cell_type": "code",
   "execution_count": 21,
   "id": "550a2baa",
   "metadata": {},
   "outputs": [],
   "source": [
    "from sentence_transformers import CrossEncoder\n",
    "encoder = CrossEncoder('cross-encoder/ms-marco-MiniLM-L-6-v2')"
   ]
  },
  {
   "cell_type": "code",
   "execution_count": 22,
   "id": "3fb459ab",
   "metadata": {},
   "outputs": [
    {
     "data": {
      "text/plain": [
       "[('Natural language processing techniques enhances keyword extraction efficiency.',\n",
       "  'Machine learning techniques can optimize keyword extraction methods.'),\n",
       " ('Natural language processing techniques enhances keyword extraction efficiency.',\n",
       "  'Efficient keyword extraction enhances search accuracy.'),\n",
       " ('Natural language processing techniques enhances keyword extraction efficiency.',\n",
       "  'Understsnding document structure aids in keyword extraction.'),\n",
       " ('Natural language processing techniques enhances keyword extraction efficiency.',\n",
       "  'Document analysis involves extracting keywords.')]"
      ]
     },
     "execution_count": 22,
     "metadata": {},
     "output_type": "execute_result"
    }
   ],
   "source": [
    "pairs = []\n",
    "for doc in top_4_docs:\n",
    "    pairs.append((query, doc))\n",
    "\n",
    "pairs"
   ]
  },
  {
   "cell_type": "code",
   "execution_count": 23,
   "id": "f8c49d95",
   "metadata": {},
   "outputs": [
    {
     "data": {
      "text/plain": [
       "array([ 2.6330397,  3.4095516, -2.921854 , -3.2398996], dtype=float32)"
      ]
     },
     "execution_count": 23,
     "metadata": {},
     "output_type": "execute_result"
    }
   ],
   "source": [
    "scores = encoder.predict(pairs)\n",
    "scores"
   ]
  },
  {
   "cell_type": "code",
   "execution_count": 24,
   "id": "5dac8525",
   "metadata": {},
   "outputs": [
    {
     "data": {
      "text/plain": [
       "<zip at 0x180584e9400>"
      ]
     },
     "execution_count": 24,
     "metadata": {},
     "output_type": "execute_result"
    }
   ],
   "source": [
    "scored_docs = zip(scores, top_4_docs)\n",
    "scored_docs"
   ]
  },
  {
   "cell_type": "code",
   "execution_count": 25,
   "id": "72cdc93e",
   "metadata": {},
   "outputs": [
    {
     "data": {
      "text/plain": [
       "[(np.float32(3.4095516),\n",
       "  'Efficient keyword extraction enhances search accuracy.'),\n",
       " (np.float32(2.6330397),\n",
       "  'Machine learning techniques can optimize keyword extraction methods.'),\n",
       " (np.float32(-2.921854),\n",
       "  'Understsnding document structure aids in keyword extraction.'),\n",
       " (np.float32(-3.2398996), 'Document analysis involves extracting keywords.')]"
      ]
     },
     "execution_count": 25,
     "metadata": {},
     "output_type": "execute_result"
    }
   ],
   "source": [
    "reranked_docs_cross_encoder = sorted(scored_docs, key=lambda x: x[0], reverse=True)\n",
    "reranked_docs_cross_encoder"
   ]
  },
  {
   "cell_type": "code",
   "execution_count": null,
   "id": "610b4dd1",
   "metadata": {},
   "outputs": [],
   "source": []
  }
 ],
 "metadata": {
  "kernelspec": {
   "display_name": ".venv",
   "language": "python",
   "name": "python3"
  },
  "language_info": {
   "codemirror_mode": {
    "name": "ipython",
    "version": 3
   },
   "file_extension": ".py",
   "mimetype": "text/x-python",
   "name": "python",
   "nbconvert_exporter": "python",
   "pygments_lexer": "ipython3",
   "version": "3.11.1"
  }
 },
 "nbformat": 4,
 "nbformat_minor": 5
}
