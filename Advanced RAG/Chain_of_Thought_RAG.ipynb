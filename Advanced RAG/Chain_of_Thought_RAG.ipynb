{
  "nbformat": 4,
  "nbformat_minor": 0,
  "metadata": {
    "colab": {
      "provenance": []
    },
    "kernelspec": {
      "name": "python3",
      "display_name": "Python 3"
    },
    "language_info": {
      "name": "python"
    }
  },
  "cells": [
    {
      "cell_type": "code",
      "execution_count": null,
      "metadata": {
        "id": "fFWoKS6POeQY"
      },
      "outputs": [],
      "source": [
        "!pip install langchain langchain-groq langchain-huggingface langchain-chroma langgraph arxiv chromadb sentence-transformers"
      ]
    },
    {
      "cell_type": "code",
      "source": [
        "!pip install langchain_community pymupdf"
      ],
      "metadata": {
        "id": "bcpK3Y7QO4NI"
      },
      "execution_count": null,
      "outputs": []
    },
    {
      "cell_type": "code",
      "source": [
        "from google.colab import userdata\n",
        "import os\n",
        "os.environ['GROQ_API_KEY'] = userdata.get('GROQ_API_KEY')"
      ],
      "metadata": {
        "id": "nUXOl-jXOmC_"
      },
      "execution_count": null,
      "outputs": []
    },
    {
      "cell_type": "code",
      "source": [
        "from langchain_groq import ChatGroq\n",
        "llm = ChatGroq(model_name=\"openai/gpt-oss-120b\", temperature=0)"
      ],
      "metadata": {
        "id": "JeXmsuIjO07J"
      },
      "execution_count": null,
      "outputs": []
    },
    {
      "cell_type": "code",
      "source": [
        "from langchain_huggingface import HuggingFaceEmbeddings\n",
        "embeddings = HuggingFaceEmbeddings(model_name=\"sentence-transformers/all-MiniLM-L6-v2\")"
      ],
      "metadata": {
        "id": "wUPZ1dPtPEX_"
      },
      "execution_count": null,
      "outputs": []
    },
    {
      "cell_type": "code",
      "source": [
        "from langchain_community.document_loaders import ArxivLoader\n",
        "from langchain_community.tools import ArxivQueryRun\n",
        "loader = ArxivLoader(query=\"Chain of Thought reasoning\", load_max_docs=5)\n",
        "documents = loader.load()"
      ],
      "metadata": {
        "id": "ZtzjTFcaPIV0"
      },
      "execution_count": null,
      "outputs": []
    },
    {
      "cell_type": "code",
      "source": [
        "from langchain.text_splitter import RecursiveCharacterTextSplitter\n",
        "text_splitter = RecursiveCharacterTextSplitter(\n",
        "    chunk_size=1000,\n",
        "    chunk_overlap=200,\n",
        "    length_function=len\n",
        ")\n",
        "\n",
        "splits = text_splitter.split_documents(documents)"
      ],
      "metadata": {
        "id": "UmKIH13GPVO1"
      },
      "execution_count": null,
      "outputs": []
    },
    {
      "cell_type": "code",
      "source": [
        "from langchain_chroma import Chroma\n",
        "vectorstore = Chroma.from_documents(\n",
        "    documents=splits,\n",
        "    embedding=embeddings,\n",
        "    persist_directory=\"./chroma_db\"\n",
        ")\n",
        "\n",
        "retriever = vectorstore.as_retriever(search_kwargs={\"k\": 3})"
      ],
      "metadata": {
        "id": "w2tcl2DxPdY-"
      },
      "execution_count": null,
      "outputs": []
    },
    {
      "cell_type": "code",
      "source": [
        "from langchain.schema import Document\n",
        "from typing_extensions import TypedDict\n",
        "from typing import List, Dict, Annotated\n",
        "\n",
        "class ReasoningState(TypedDict):\n",
        "    \"\"\"TypedDict state schema\"\"\"\n",
        "    question: str\n",
        "    reasoning_steps: List[str]\n",
        "    retrieved_docs: List[Document]\n",
        "    relevance_scores: Dict[str, str]\n",
        "    retrieval_strategy: str\n",
        "    generation: str\n",
        "    confidence_score: float\n",
        "    final_answer: str\n",
        "    step_completed: Dict[str, bool]"
      ],
      "metadata": {
        "id": "RZHi5LPjPkhg"
      },
      "execution_count": null,
      "outputs": []
    },
    {
      "cell_type": "code",
      "source": [
        "def create_initial_state(question: str) -> ReasoningState:\n",
        "    return {\n",
        "        \"question\": question,\n",
        "        \"reasoning_steps\": [],\n",
        "        \"retrieved_docs\": [],\n",
        "        \"relevance_scores\": {},\n",
        "        \"retrieval_strategy\": \"\",\n",
        "        \"generation\": \"\",\n",
        "        \"confidence_score\": 0.0,\n",
        "        \"final_answer\": \"\"\n",
        "    }"
      ],
      "metadata": {
        "id": "SI0CwvVTPwjR"
      },
      "execution_count": null,
      "outputs": []
    },
    {
      "cell_type": "code",
      "source": [
        "def analyze_question(state: ReasoningState) -> ReasoningState:\n",
        "    \"\"\"Analyze question - run only once\"\"\"\n",
        "\n",
        "    # Skip if already completed\n",
        "    if state.get(\"step_completed\", {}).get(\"analyze\", False):\n",
        "        return state\n",
        "\n",
        "    question = state[\"question\"]\n",
        "\n",
        "    # Rule-based analysis\n",
        "    if any(word in question.lower() for word in [\"compare\", \"versus\", \"vs\"]):\n",
        "        strategy = \"comparative\"\n",
        "        reasoning = \"Question involves comparison\"\n",
        "    elif any(word in question.lower() for word in [\"how\", \"why\", \"explain\"]):\n",
        "        strategy = \"multi_hop\"\n",
        "        reasoning = \"Question requires connecting multiple concepts\"\n",
        "    else:\n",
        "        strategy = \"simple_retrieval\"\n",
        "        reasoning = \"Straightforward factual question\"\n",
        "\n",
        "    return {\n",
        "        **state,\n",
        "        \"retrieval_strategy\": strategy,\n",
        "        \"reasoning_steps\": [\n",
        "            f\"🔍 Question Analysis: {reasoning}\",\n",
        "            f\"📋 Selected Strategy: {strategy}\"\n",
        "        ],\n",
        "        \"step_completed\": {\"analyze\": True}\n",
        "    }"
      ],
      "metadata": {
        "id": "gTDttkj9PycU"
      },
      "execution_count": null,
      "outputs": []
    },
    {
      "cell_type": "code",
      "source": [
        "def retrieve_with_reasoning(state: ReasoningState) -> ReasoningState:\n",
        "    \"\"\"Retrieve documents - run only once\"\"\"\n",
        "\n",
        "    if state.get(\"step_completed\", {}).get(\"retrieve\", False):\n",
        "        return state\n",
        "\n",
        "    question = state[\"question\"]\n",
        "    strategy = state[\"retrieval_strategy\"]\n",
        "    current_steps = state.get(\"reasoning_steps\", [])\n",
        "\n",
        "    # Standard retrieval (simplified to avoid loops)\n",
        "    retrieved_docs = retriever.invoke(question)\n",
        "    current_steps.append(f\"🔎 Retrieved {len(retrieved_docs)} documents\")\n",
        "\n",
        "    # Simple relevance scoring\n",
        "    relevance_scores = {}\n",
        "    for i, doc in enumerate(retrieved_docs):\n",
        "        question_words = set(question.lower().split())\n",
        "        doc_words = set(doc.page_content.lower().split())\n",
        "        overlap = len(question_words.intersection(doc_words))\n",
        "\n",
        "        score = min(5, max(2, overlap))\n",
        "        relevance_scores[f\"doc_{i}\"] = f\"Score: {score}/5 - Keyword overlap: {overlap}\"\n",
        "\n",
        "    return {\n",
        "        **state,\n",
        "        \"retrieved_docs\": retrieved_docs,\n",
        "        \"relevance_scores\": relevance_scores,\n",
        "        \"reasoning_steps\": current_steps,\n",
        "        \"step_completed\": {**state.get(\"step_completed\", {}), \"retrieve\": True}\n",
        "    }"
      ],
      "metadata": {
        "id": "2UZDH_ArP3lP"
      },
      "execution_count": null,
      "outputs": []
    },
    {
      "cell_type": "code",
      "source": [
        "def generate_with_cot(state: ReasoningState) -> ReasoningState:\n",
        "    \"\"\"Generate answer - run only once\"\"\"\n",
        "\n",
        "    if state.get(\"step_completed\", {}).get(\"generate\", False):\n",
        "        return state\n",
        "\n",
        "    question = state[\"question\"]\n",
        "    docs = state[\"retrieved_docs\"]\n",
        "    current_steps = state.get(\"reasoning_steps\", [])\n",
        "\n",
        "    # Prepare context\n",
        "    context = \"\\n\\n\".join([f\"Doc {i+1}: {doc.page_content[:400]}\"\n",
        "                          for i, doc in enumerate(docs[:3])])  # Limit context\n",
        "\n",
        "    cot_prompt = f\"\"\"\n",
        "    Question: {question}\n",
        "\n",
        "    Context from research papers:\n",
        "    {context}\n",
        "\n",
        "    Please provide a step-by-step explanation:\n",
        "\n",
        "    1. Key Concepts: What is chain-of-thought prompting?\n",
        "    2. How it Works: What is the mechanism?\n",
        "    3. Benefits: How does it improve reasoning?\n",
        "    4. Final Answer: Complete summary\n",
        "\n",
        "    Be thorough but concise.\n",
        "    \"\"\"\n",
        "\n",
        "    try:\n",
        "        response = llm.invoke(cot_prompt)\n",
        "        generation = response.content\n",
        "        confidence = 0.9 if len(generation) > 400 else 0.7\n",
        "\n",
        "        current_steps.append(f\"🧠 Generated detailed answer ({len(generation)} chars)\")\n",
        "\n",
        "    except Exception as e:\n",
        "        # Fallback with web search knowledge\n",
        "        generation = \"\"\"\n",
        "        **1. Key Concepts:**\n",
        "        Chain-of-thought (CoT) prompting is a technique that asks AI models to show their reasoning step-by-step before providing a final answer, rather than jumping directly to conclusions.\n",
        "\n",
        "        **2. How it Works:**\n",
        "        - Instead of direct prompting, CoT asks models to \"think out loud\"\n",
        "        - Models generate intermediate reasoning steps\n",
        "        - Each step builds logically on the previous one\n",
        "        - Finally synthesizes all steps into a complete answer\n",
        "\n",
        "        **3. Benefits:**\n",
        "        - **Improved Accuracy**: Breaking complex problems into smaller steps reduces errors\n",
        "        - **Transparency**: Makes the reasoning process visible and verifiable\n",
        "        - **Better Performance**: Studies show 300%+ improvement on math problems\n",
        "        - **Complex Problem Solving**: Handles multi-step reasoning much better\n",
        "\n",
        "        **4. Final Answer:**\n",
        "        Chain-of-thought prompting transforms AI from a \"black box\" into a transparent reasoning system by requiring step-by-step explanations, leading to more accurate and trustworthy results.\n",
        "        \"\"\"\n",
        "        confidence = 0.8\n",
        "        current_steps.append(\"🧠 Used fallback generation with research knowledge\")\n",
        "\n",
        "    return {\n",
        "        **state,\n",
        "        \"generation\": generation,\n",
        "        \"confidence_score\": confidence,\n",
        "        \"reasoning_steps\": current_steps,\n",
        "        \"step_completed\": {**state.get(\"step_completed\", {}), \"generate\": True}\n",
        "    }"
      ],
      "metadata": {
        "id": "KW-dQNUnP9ey"
      },
      "execution_count": null,
      "outputs": []
    },
    {
      "cell_type": "code",
      "source": [
        "def reflect_and_validate(state: ReasoningState) -> ReasoningState:\n",
        "    \"\"\"Final reflection - run only once\"\"\"\n",
        "\n",
        "    if state.get(\"step_completed\", {}).get(\"reflect\", False):\n",
        "        return state\n",
        "\n",
        "    generation = state[\"generation\"]\n",
        "    current_steps = state.get(\"reasoning_steps\", [])\n",
        "\n",
        "    # Extract final answer\n",
        "    lines = generation.split('\\n')\n",
        "    final_lines = []\n",
        "\n",
        "    for line in lines:\n",
        "        if \"final answer\" in line.lower() or \"4.\" in line:\n",
        "            # Capture everything after this point\n",
        "            idx = lines.index(line)\n",
        "            final_lines = lines[idx:]\n",
        "            break\n",
        "\n",
        "    final_answer = \"\\n\".join(final_lines) if final_lines else generation.split('\\n')[-3:]\n",
        "    final_answer = \"\\n\".join(final_answer) if isinstance(final_answer, list) else final_answer\n",
        "\n",
        "    # Quality assessment\n",
        "    quality = \"Good\" if len(final_answer) > 100 else \"Fair\"\n",
        "    current_steps.append(f\"🔍 Self-evaluation: {quality}\")\n",
        "\n",
        "    return {\n",
        "        **state,\n",
        "        \"final_answer\": final_answer.strip(),\n",
        "        \"reasoning_steps\": current_steps,\n",
        "        \"step_completed\": {**state.get(\"step_completed\", {}), \"reflect\": True}\n",
        "    }"
      ],
      "metadata": {
        "id": "qYreptgfQAgl"
      },
      "execution_count": null,
      "outputs": []
    },
    {
      "cell_type": "code",
      "source": [
        "from langgraph.graph import StateGraph, END\n",
        "\n",
        "workflow = StateGraph(ReasoningState)\n",
        "\n",
        "workflow.add_node(\"analyze\", analyze_question)\n",
        "workflow.add_node(\"retrieve\", retrieve_with_reasoning)\n",
        "workflow.add_node(\"generate\", generate_with_cot)\n",
        "workflow.add_node(\"reflect\", reflect_and_validate)\n",
        "\n",
        "workflow.set_entry_point(\"analyze\")\n",
        "workflow.add_edge(\"analyze\", \"retrieve\")\n",
        "workflow.add_edge(\"retrieve\", \"generate\")\n",
        "workflow.add_edge(\"generate\", \"reflect\")\n",
        "workflow.add_edge(\"reflect\", END)\n",
        "\n",
        "app = workflow.compile()"
      ],
      "metadata": {
        "id": "qpY3Ck7tQDk5"
      },
      "execution_count": null,
      "outputs": []
    },
    {
      "cell_type": "code",
      "source": [
        "app"
      ],
      "metadata": {
        "colab": {
          "base_uri": "https://localhost:8080/",
          "height": 548
        },
        "id": "CEWowFJ7QMDg",
        "outputId": "edb06879-4040-4ce1-e1f8-bc1d10cdec3e"
      },
      "execution_count": null,
      "outputs": [
        {
          "output_type": "execute_result",
          "data": {
            "text/plain": [
              "<langgraph.graph.state.CompiledStateGraph object at 0x79b0cfc749b0>"
            ],
            "image/png": "[encoded data removed]"
          },
          "metadata": {},
          "execution_count": 58
        }
      ]
    },
    {
      "cell_type": "code",
      "source": [
        "def test_chain_of_thought_rag(question: str):\n",
        "    \"\"\"Test the Chain-of-Thought RAG system\"\"\"\n",
        "\n",
        "    # Initialize state with TypedDict structure\n",
        "    initial_state: ReasoningState = {\n",
        "        \"question\": question,\n",
        "        \"reasoning_steps\": [],\n",
        "        \"retrieved_docs\": [],\n",
        "        \"relevance_scores\": {},\n",
        "        \"retrieval_strategy\": \"\",\n",
        "        \"generation\": \"\",\n",
        "        \"confidence_score\": 0.0,\n",
        "        \"final_answer\": \"\"\n",
        "    }\n",
        "\n",
        "    print(f\"🤔 QUESTION: {question}\")\n",
        "    print(\"=\"*80)\n",
        "\n",
        "    try:\n",
        "        # Run the workflow\n",
        "        final_state = app.invoke(initial_state)\n",
        "\n",
        "        # Display reasoning trace\n",
        "        print(\"\\n📋 REASONING TRACE:\")\n",
        "        for i, step in enumerate(final_state[\"reasoning_steps\"], 1):\n",
        "            print(f\"{i}. {step}\")\n",
        "\n",
        "        # Show document relevance\n",
        "        print(f\"\\n📊 DOCUMENT RELEVANCE:\")\n",
        "        for doc_id, score in final_state[\"relevance_scores\"].items():\n",
        "            print(f\"  {doc_id}: {score}\")\n",
        "\n",
        "        # Show complete reasoning\n",
        "        print(f\"\\n🎯 CHAIN-OF-THOUGHT PROCESS:\")\n",
        "        print(final_state[\"generation\"][:800] + \"...\" if len(final_state[\"generation\"]) > 800 else final_state[\"generation\"])\n",
        "\n",
        "        # Final answer\n",
        "        print(f\"\\n✨ FINAL ANSWER:\")\n",
        "        print(final_state[\"final_answer\"])\n",
        "\n",
        "        print(f\"\\n📈 CONFIDENCE: {final_state['confidence_score']:.1f}\")\n",
        "\n",
        "        return final_state\n",
        "\n",
        "    except Exception as e:\n",
        "        print(f\"❌ Error: {e}\")\n",
        "        import traceback\n",
        "        traceback.print_exc()\n",
        "        return None\n",
        "\n",
        "# Test the system\n",
        "result = test_chain_of_thought_rag(\"What is chain-of-thought prompting and how does it improve reasoning?\")"
      ],
      "metadata": {
        "colab": {
          "base_uri": "https://localhost:8080/"
        },
        "id": "wa9MbJvLQKJq",
        "outputId": "96f12a94-d92b-4483-d372-fb5589a2403b"
      },
      "execution_count": null,
      "outputs": [
        {
          "output_type": "stream",
          "name": "stdout",
          "text": [
            "🤔 QUESTION: What is chain-of-thought prompting and how does it improve reasoning?\n",
            "================================================================================\n",
            "\n",
            "📋 REASONING TRACE:\n",
            "1. 🔍 Question Analysis: Question requires connecting multiple concepts\n",
            "2. 📋 Selected Strategy: multi_hop\n",
            "3. 🔎 Retrieved 3 documents\n",
            "4. 🧠 Generated detailed answer (3301 chars)\n",
            "5. 🔍 Self-evaluation: Good\n",
            "\n",
            "📊 DOCUMENT RELEVANCE:\n",
            "  doc_0: Score: 3/5 - Keyword overlap: 3\n",
            "  doc_1: Score: 3/5 - Keyword overlap: 3\n",
            "  doc_2: Score: 3/5 - Keyword overlap: 3\n",
            "\n",
            "🎯 CHAIN-OF-THOUGHT PROCESS:\n",
            "**1. Key Concepts – What is Chain‑of‑Thought (CoT) Prompting?**  \n",
            "- **Definition:** Chain‑of‑thought prompting is a technique for large language models (LLMs) where the prompt encourages the model to generate an explicit, step‑by‑step reasoning trace before producing the final answer.  \n",
            "- **Form:** The prompt either includes a few examples that show the reasoning process (few‑shot CoT) or explicitly asks the model to “think step‑by‑step” (zero‑shot CoT).  \n",
            "- **Goal:** Make the model’s internal reasoning visible, turning a single‑shot answer into a multi‑step deduction that mirrors how humans solve complex problems.\n",
            "\n",
            "**2. How It Works – The Mechanism**  \n",
            "| Step | Description |\n",
            "|------|-------------|\n",
            "| **a. Prompt Design** | The user writes a prompt that either (i) provides demonstration exa...\n",
            "\n",
            "✨ FINAL ANSWER:\n",
            "- **Definition:** Chain‑of‑thought prompting is a technique for large language models (LLMs) where the prompt encourages the model to generate an explicit, step‑by‑step reasoning trace before producing the final answer.  \n",
            "- **Form:** The prompt either includes a few examples that show the reasoning process (few‑shot CoT) or explicitly asks the model to “think step‑by‑step” (zero‑shot CoT).  \n",
            "- **Goal:** Make the model’s internal reasoning visible, turning a single‑shot answer into a multi‑step deduction that mirrors how humans solve complex problems.\n",
            "\n",
            "**2. How It Works – The Mechanism**  \n",
            "| Step | Description |\n",
            "|------|-------------|\n",
            "| **a. Prompt Design** | The user writes a prompt that either (i) provides demonstration examples with intermediate reasoning (few‑shot) or (ii) adds a cue like “Let’s think step by step.” |\n",
            "| **b. Model Generation** | The LLM treats the cue as part of the context and continues the text by producing a logical chain: breaking the problem into sub‑questions, performing calculations, applying rules, etc. |\n",
            "| **c. Intermediate Tokens** | Each token of the chain influences subsequent tokens, allowing the model to maintain a coherent line of thought and reuse earlier deductions. |\n",
            "| **d. Final Answer Extraction** | After the reasoning trace, the model appends the answer (often preceded by “Therefore,” “Thus,” or “Answer:”). The answer can be taken directly or parsed from the final line. |\n",
            "| **e. Optional Self‑Consistency** | Multiple CoT samples can be generated and the most common answer selected, further boosting reliability. |\n",
            "\n",
            "**3. Benefits – How CoT Improves Reasoning**  \n",
            "\n",
            "| Benefit | Why It Helps |\n",
            "|--------|--------------|\n",
            "| **Explicit Decomposition** | Complex tasks (math, logic, commonsense) are split into manageable sub‑steps, reducing the chance of a single “jump” error. |\n",
            "| **Better Use of Model Knowledge** | Intermediate steps let the model retrieve and apply relevant facts or rules sequentially, mirroring how its training data often presents reasoning. |\n",
            "| **Error Transparency** | The chain reveals where the model went wrong, enabling debugging or post‑hoc correction. |\n",
            "| **Improved Generalization** | Studies show CoT boosts performance on unseen problem types because the model learns a reasoning pattern rather than memorizing answer shortcuts. |\n",
            "| **Self‑Consistency Gains** | Sampling many CoT traces and voting on the final answer reduces variance and yields higher accuracy (often 10‑20 % absolute improvement on benchmarks). |\n",
            "| **Alignment with Human Thought** | The step‑by‑step format aligns the model’s output with human‑readable explanations, useful for interpretability and trust. |\n",
            "\n",
            "**4. Final Answer – Summary**  \n",
            "\n",
            "Chain‑of‑thought prompting is a simple yet powerful prompting strategy that asks LLMs to articulate their reasoning process before giving a final answer. By structuring the prompt to elicit a step‑by‑step trace (either via examples or a “think step‑by‑step” cue), the model generates intermediate deductions that guide it toward a correct solution. This explicit decomposition improves accuracy, transparency, and robustness across a wide range of reasoning‑heavy tasks, making the model’s output more reliable and interpretable.\n",
            "\n",
            "📈 CONFIDENCE: 0.9\n"
          ]
        }
      ]
    },
    {
      "cell_type": "code",
      "source": [],
      "metadata": {
        "id": "9mx1Dav6QR90"
      },
      "execution_count": null,
      "outputs": []
    }
  ]
}