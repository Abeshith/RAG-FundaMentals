{
  "nbformat": 4,
  "nbformat_minor": 0,
  "metadata": {
    "colab": {
      "provenance": [],
      "gpuType": "T4"
    },
    "kernelspec": {
      "name": "python3",
      "display_name": "Python 3"
    },
    "language_info": {
      "name": "python"
    },
    "accelerator": "GPU"
  },
  "cells": [
    {
      "cell_type": "code",
      "execution_count": null,
      "metadata": {
        "id": "v0Wrx1HmMCBZ"
      },
      "outputs": [],
      "source": [
        "!pip install langchain langgraph tiktoken faiss-cpu sentence-transformers langchain_community langchain_groq chromadb langchain_tavily"
      ]
    },
    {
      "cell_type": "code",
      "source": [
        "import os\n",
        "from google.colab import userdata\n",
        "GROQ_API_KEY = userdata.get('GROQ_API_KEY')\n",
        "os.environ['GROQ_API_KEY'] = GROQ_API_KEY"
      ],
      "metadata": {
        "id": "qyirIpanmkgy"
      },
      "execution_count": 1,
      "outputs": []
    },
    {
      "cell_type": "code",
      "source": [
        "import warnings\n",
        "warnings.filterwarnings(\"ignore\")"
      ],
      "metadata": {
        "id": "IhF-kFhGqWQR"
      },
      "execution_count": 2,
      "outputs": []
    },
    {
      "cell_type": "code",
      "source": [
        "from langchain.document_loaders import TextLoader\n",
        "import os, glob\n",
        "from langchain_core.documents import Document\n",
        "\n",
        "all_text = \"\"\n",
        "for file_path in glob.glob(\"Curie_Radiation_Documents/*.txt\"):\n",
        "    loader = TextLoader(file_path)\n",
        "    docs = loader.load()\n",
        "    for doc in docs:\n",
        "        all_text += doc.page_content + \"\\n\"\n",
        "\n",
        "# Create a single Document object\n",
        "combined_doc = Document(page_content=all_text)\n",
        "\n",
        "docs = [combined_doc]\n",
        "len(docs)"
      ],
      "metadata": {
        "colab": {
          "base_uri": "https://localhost:8080/"
        },
        "id": "LPEp91fGkwiQ",
        "outputId": "b29485ac-b159-4141-c673-03231ab2c942"
      },
      "execution_count": 3,
      "outputs": [
        {
          "output_type": "execute_result",
          "data": {
            "text/plain": [
              "1"
            ]
          },
          "metadata": {},
          "execution_count": 3
        }
      ]
    },
    {
      "cell_type": "code",
      "source": [
        "from langchain.text_splitter import RecursiveCharacterTextSplitter\n",
        "splitter = RecursiveCharacterTextSplitter(chunk_size=500, chunk_overlap=100)\n",
        "chunks = splitter.split_documents(docs)"
      ],
      "metadata": {
        "id": "w3yByitPlNyb"
      },
      "execution_count": 8,
      "outputs": []
    },
    {
      "cell_type": "code",
      "source": [
        "len(chunks)"
      ],
      "metadata": {
        "colab": {
          "base_uri": "https://localhost:8080/"
        },
        "id": "4nkWfoNzsoVl",
        "outputId": "53b0af17-c08b-468d-abf9-aa979c72dcfe"
      },
      "execution_count": 9,
      "outputs": [
        {
          "output_type": "execute_result",
          "data": {
            "text/plain": [
              "20"
            ]
          },
          "metadata": {},
          "execution_count": 9
        }
      ]
    },
    {
      "cell_type": "code",
      "source": [
        "from langchain.embeddings import HuggingFaceEmbeddings\n",
        "embedding = HuggingFaceEmbeddings(model_name=\"sentence-transformers/all-MiniLM-L6-v2\")"
      ],
      "metadata": {
        "id": "4Sg15QZ1l0ZT"
      },
      "execution_count": 10,
      "outputs": []
    },
    {
      "cell_type": "code",
      "source": [
        "from langchain.vectorstores import Chroma\n",
        "\n",
        "vectorstore = Chroma.from_documents(chunks, embedding)\n",
        "retriever = vectorstore.as_retriever(search_kwargs={\"k\": 3})"
      ],
      "metadata": {
        "id": "Clo6lwval_yO"
      },
      "execution_count": 11,
      "outputs": []
    },
    {
      "cell_type": "code",
      "source": [
        "retriever.get_relevant_documents(\"What is the Curie radiation?\")"
      ],
      "metadata": {
        "colab": {
          "base_uri": "https://localhost:8080/"
        },
        "id": "OxIQfi-7tLym",
        "outputId": "1e4daa2d-de27-46bd-f525-4aa7197f0f32"
      },
      "execution_count": 12,
      "outputs": [
        {
          "output_type": "stream",
          "name": "stderr",
          "text": [
            "/tmp/ipython-input-7707427.py:1: LangChainDeprecationWarning: The method `BaseRetriever.get_relevant_documents` was deprecated in langchain-core 0.1.46 and will be removed in 1.0. Use :meth:`~invoke` instead.\n",
            "  retriever.get_relevant_documents(\"What is the Curie radiation?\")\n"
          ]
        },
        {
          "output_type": "execute_result",
          "data": {
            "text/plain": [
              "[Document(metadata={}, page_content='Techniques like PET scans and CT imaging rely on radioactive tracers.\\nRadiation is also used to sterilize medical equipment and food products.\\nIn cancer therapy, radiation is finely targeted with computer-assisted precision.\\nCurie’s discoveries helped usher in the nuclear age and atomic research.\\nSafety protocols now ensure minimal risk during radiation exposure.\\nThe principles of radiation detection and shielding stem from early Curie experiments.'),\n",
              " Document(metadata={}, page_content='Their discoveries laid the foundation for nuclear physics and modern atomic theory.\\nRadium, in particular, emitted powerful radiation, which intrigued scientists globally.\\nTheir work marked the beginning of a new era in physical science.\\nMarie Curie coined the term \"radioactivity\" to describe this phenomenon.\\nCurie’s discoveries redefined the field of chemistry.\\nShe proved that atoms could emit energy, transforming the atomic model.'),\n",
              " Document(metadata={}, page_content='The principles of radiation detection and shielding stem from early Curie experiments.\\nNuclear power plants use radioactive decay for energy generation.\\nRadiation science remains a critical part of modern technology and healthcare.')]"
            ]
          },
          "metadata": {},
          "execution_count": 12
        }
      ]
    },
    {
      "cell_type": "code",
      "source": [
        "from langchain_core.prompts import ChatPromptTemplate\n",
        "from langchain_groq import ChatGroq\n",
        "\n",
        "llm = ChatGroq(model='llama-3.1-8b-instant',\n",
        "                temperature=0,\n",
        "                max_tokens=None,\n",
        "                timeout=None,\n",
        "                max_retries=2,)"
      ],
      "metadata": {
        "id": "anre1ubLmKob"
      },
      "execution_count": 13,
      "outputs": []
    },
    {
      "cell_type": "code",
      "source": [
        "router_prompt = ChatPromptTemplate.from_messages([\n",
        "    (\"system\", \"Classify the query as one of the following:\\n- RETRIEVE: Use knowledge from files.\\n- GENERATE: General world knowledge.\\nReturn only the label.\"),\n",
        "    (\"human\", \"{query}\")\n",
        "])\n",
        "\n",
        "router_chain = router_prompt | llm | (lambda x: {\"destination\": x.content.strip().upper()})"
      ],
      "metadata": {
        "id": "tRQnEZKgmhWU"
      },
      "execution_count": 14,
      "outputs": []
    },
    {
      "cell_type": "code",
      "source": [
        "from langchain_core.runnables import RunnableLambda\n",
        "from langchain_core.output_parsers import StrOutputParser\n",
        "from langchain_core.messages import HumanMessage, AIMessage, BaseMessage\n",
        "\n",
        "rag_prompt = ChatPromptTemplate.from_messages([\n",
        "    (\"system\", \"Use the context to answer the question.\"),\n",
        "    (\"human\", \"Context:\\n{context}\\n\\nQuestion: {query}\")\n",
        "])\n",
        "rag_chain = rag_prompt | llm | StrOutputParser()\n",
        "\n",
        "gen_prompt = ChatPromptTemplate.from_messages([\n",
        "    (\"system\", \"Answer this general question.\"),\n",
        "    (\"human\", \"{query}\")\n",
        "])\n",
        "gen_chain = gen_prompt | llm | StrOutputParser()"
      ],
      "metadata": {
        "id": "wWOteEVzm5Ct"
      },
      "execution_count": 15,
      "outputs": []
    },
    {
      "cell_type": "code",
      "source": [
        "from typing import TypedDict\n",
        "from langgraph.graph import StateGraph, END\n",
        "from langchain_core.runnables import RunnableConfig\n",
        "\n",
        "class State(TypedDict):\n",
        "    query: str\n",
        "    destination: str\n",
        "    context: str\n",
        "    answer: str"
      ],
      "metadata": {
        "id": "UAYeIB2Wnca0"
      },
      "execution_count": 16,
      "outputs": []
    },
    {
      "cell_type": "code",
      "source": [
        "def do_route(state: State):\n",
        "    out = router_chain.invoke({\"query\": state[\"query\"]})\n",
        "    return {\"destination\": out[\"destination\"]}\n",
        "\n",
        "def do_retrieve(state: State):\n",
        "    docs = retriever.get_relevant_documents(state[\"query\"])\n",
        "    context = \"\\n---\\n\".join([doc.page_content for doc in docs])\n",
        "    return {\"context\": context}\n",
        "\n",
        "def do_rag(state: State):\n",
        "    return {\"answer\": rag_chain.invoke({\"query\": state[\"query\"], \"context\": state[\"context\"]})}\n",
        "\n",
        "def do_gen(state: State):\n",
        "    return {\"answer\": gen_chain.invoke({\"query\": state[\"query\"]})}"
      ],
      "metadata": {
        "id": "CRw5Njd_nfPB"
      },
      "execution_count": 17,
      "outputs": []
    },
    {
      "cell_type": "code",
      "source": [
        "graph = StateGraph(State)\n",
        "\n",
        "graph.add_node(\"route\", do_route)\n",
        "graph.add_node(\"retrieve\", do_retrieve)\n",
        "graph.add_node(\"rag\", do_rag)\n",
        "graph.add_node(\"generate\", do_gen)\n",
        "\n",
        "graph.add_conditional_edges(\n",
        "    \"route\",\n",
        "    lambda state: state[\"destination\"],\n",
        "    {\n",
        "        \"RETRIEVE\": \"retrieve\",\n",
        "        \"GENERATE\": \"generate\"\n",
        "    }\n",
        ")\n",
        "\n",
        "graph.add_edge(\"retrieve\", \"rag\")\n",
        "graph.add_edge(\"rag\", END)\n",
        "graph.add_edge(\"generate\", END)\n",
        "\n",
        "graph.set_entry_point(\"route\")\n",
        "\n",
        "builder = graph.compile()"
      ],
      "metadata": {
        "id": "Y5ZGDtngnjrD"
      },
      "execution_count": 18,
      "outputs": []
    },
    {
      "cell_type": "code",
      "source": [
        "builder"
      ],
      "metadata": {
        "colab": {
          "base_uri": "https://localhost:8080/",
          "height": 473
        },
        "id": "2Gsvz8dFrXPK",
        "outputId": "23f58d70-e98a-4fb7-c79f-94cc1f20a173"
      },
      "execution_count": 19,
      "outputs": [
        {
          "output_type": "execute_result",
          "data": {
            "text/plain": [
              "<langgraph.graph.state.CompiledStateGraph object at 0x7a1e641b7910>"
            ],
            "image/png": "[encoded data removed]"
          },
          "metadata": {},
          "execution_count": 19
        }
      ]
    },
    {
      "cell_type": "code",
      "source": [
        "res = builder.invoke({\"query\": \"Who is Marie Curie and What She Did and Why did She get Nobel Price for?\"})\n",
        "\"Answer:\", res[\"answer\"]"
      ],
      "metadata": {
        "colab": {
          "base_uri": "https://localhost:8080/"
        },
        "id": "KPlC7drCnlw3",
        "outputId": "0008f4ef-0578-45db-8b6b-4ebb72178eb8"
      },
      "execution_count": 27,
      "outputs": [
        {
          "output_type": "execute_result",
          "data": {
            "text/plain": [
              "('Answer:',\n",
              " \"Marie Curie (1867-1934) was a Polish-born physicist and chemist who made groundbreaking contributions to our understanding of the universe. She is best known for her pioneering work on radioactivity, a term she coined herself.\\n\\n**Early Life and Education**\\n\\nMarie Curie was born Maria Skłodowska in Warsaw, Poland, which was then under Russian rule. She was the fifth of seven children, and her family was part of the Polish intelligentsia. Due to the limited educational opportunities for women in Poland at the time, Marie traveled to Paris, where she enrolled in the Sorbonne (now the University of Paris) and studied physics, mathematics, and chemistry.\\n\\n**Research and Discoveries**\\n\\nIn 1897, Marie Curie met her future husband, Pierre Curie, a French physicist who was also working on radioactivity. Together, they formed a research partnership that would last a lifetime. Their research focused on the properties of radioactive elements, particularly uranium and thorium. They discovered two new elements: polonium (named after Marie's homeland, Poland) and radium.\\n\\n**Nobel Prizes**\\n\\nMarie Curie's work on radioactivity led to two Nobel Prizes:\\n\\n1. **Nobel Prize in Physics (1903)**: Marie Curie, along with her husband Pierre and Henri Becquerel, was awarded the Nobel Prize in Physics for their pioneering work on radioactivity. This was the first time a woman had received a Nobel Prize.\\n2. **Nobel Prize in Chemistry (1911)**: Marie Curie was awarded the Nobel Prize in Chemistry for her work on the isolation of pure radium, which she had discovered with her husband Pierre.\\n\\n**Legacy**\\n\\nMarie Curie's contributions to science were immense. She was the first woman to:\\n\\n* Receive a Nobel Prize\\n* Become a professor at the University of Paris\\n* Found the Curie Institutes in Warsaw and Paris, which remain major centers for medical research today\\n* Develop mobile X-ray units during World War I, which helped to save countless lives\\n\\nMarie Curie's legacy extends beyond her scientific achievements. She paved the way for future generations of women in science, inspiring countless women to pursue careers in physics, chemistry, and other STEM fields.\\n\\n**Personal Life**\\n\\nMarie Curie's personal life was marked by tragedy. Her husband Pierre was killed in a street accident in 1906. She continued her research, raising their two daughters, Irène and Ève, on her own. Irène would go on to become a physicist and win the Nobel Prize in Chemistry in 1935, along with her husband Frédéric Joliot-Curie.\\n\\nMarie Curie's life was cut short when she died of aplastic anemia, a blood disorder likely caused by her prolonged exposure to radioactive materials, in 1934. Her legacy, however, continues to inspire scientists and women around the world.\")"
            ]
          },
          "metadata": {},
          "execution_count": 27
        }
      ]
    },
    {
      "cell_type": "code",
      "source": [
        "res = builder.invoke({\"query\": \"Tell Me About Machine Learning?\"})\n",
        "print(\"Answer:\", res[\"answer\"])"
      ],
      "metadata": {
        "colab": {
          "base_uri": "https://localhost:8080/"
        },
        "id": "0_fkRt9SohAM",
        "outputId": "e9c472a7-0ae4-4bc3-da29-1a8baa402e6c"
      },
      "execution_count": 26,
      "outputs": [
        {
          "output_type": "stream",
          "name": "stdout",
          "text": [
            "Answer: Machine learning is a subset of artificial intelligence (AI) that involves the use of algorithms and statistical models to enable machines to learn from data, make decisions, and improve their performance over time. The primary goal of machine learning is to enable machines to automatically improve their performance on a task without being explicitly programmed.\n",
            "\n",
            "**Key Concepts:**\n",
            "\n",
            "1. **Supervised Learning:** In this type of learning, the machine is trained on labeled data, where the correct output is already known. The machine learns to map inputs to outputs based on the labeled data.\n",
            "2. **Unsupervised Learning:** In this type of learning, the machine is trained on unlabeled data, and it must find patterns or relationships in the data on its own.\n",
            "3. **Reinforcement Learning:** In this type of learning, the machine learns by interacting with an environment and receiving feedback in the form of rewards or penalties.\n",
            "4. **Deep Learning:** A type of machine learning that uses neural networks with multiple layers to learn complex patterns in data.\n",
            "\n",
            "**Types of Machine Learning:**\n",
            "\n",
            "1. **Classification:** Predicting a categorical output (e.g., spam vs. not spam email)\n",
            "2. **Regression:** Predicting a continuous output (e.g., predicting house prices)\n",
            "3. **Clustering:** Grouping similar data points together (e.g., customer segmentation)\n",
            "4. **Recommendation Systems:** Suggesting products or services based on user behavior\n",
            "\n",
            "**Applications of Machine Learning:**\n",
            "\n",
            "1. **Image Recognition:** Self-driving cars, facial recognition, object detection\n",
            "2. **Natural Language Processing (NLP):** Chatbots, language translation, sentiment analysis\n",
            "3. **Predictive Maintenance:** Predicting equipment failures, optimizing maintenance schedules\n",
            "4. **Recommendation Systems:** Personalized product recommendations, content suggestions\n",
            "\n",
            "**Benefits of Machine Learning:**\n",
            "\n",
            "1. **Improved Accuracy:** Machines can learn from large datasets and make more accurate predictions.\n",
            "2. **Increased Efficiency:** Machines can automate tasks, freeing up human time for more strategic work.\n",
            "3. **Enhanced Decision-Making:** Machines can provide insights and recommendations to support human decision-making.\n",
            "4. **Cost Savings:** Machines can reduce costs by optimizing processes and predicting maintenance needs.\n",
            "\n",
            "**Challenges of Machine Learning:**\n",
            "\n",
            "1. **Data Quality:** Machine learning requires high-quality, relevant data to learn from.\n",
            "2. **Bias and Fairness:** Machines can perpetuate biases and unfairness if trained on biased data.\n",
            "3. **Explainability:** Machines can be difficult to interpret and understand, making it challenging to explain their decisions.\n",
            "4. **Security:** Machines can be vulnerable to cyber attacks and data breaches.\n",
            "\n",
            "**Future of Machine Learning:**\n",
            "\n",
            "1. **Edge AI:** Machine learning on edge devices, such as smartphones and smart home devices.\n",
            "2. **Explainable AI:** Developing machines that can provide clear explanations for their decisions.\n",
            "3. **Transfer Learning:** Machines that can learn from one task and apply that knowledge to another task.\n",
            "4. **Human-Machine Collaboration:** Machines that can collaborate with humans to achieve common goals.\n"
          ]
        }
      ]
    },
    {
      "cell_type": "code",
      "source": [],
      "metadata": {
        "id": "2_Vy8rZtre2L"
      },
      "execution_count": null,
      "outputs": []
    }
  ]
}