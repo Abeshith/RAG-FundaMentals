{
  "nbformat": 4,
  "nbformat_minor": 0,
  "metadata": {
    "colab": {
      "provenance": [],
      "gpuType": "T4"
    },
    "kernelspec": {
      "name": "python3",
      "display_name": "Python 3"
    },
    "language_info": {
      "name": "python"
    },
    "accelerator": "GPU",
    "widgets": {
      "application/vnd.jupyter.widget-state+json": {
        "36ed169150e44659bbc0ac629b4baf5d": {
          "model_module": "@jupyter-widgets/controls",
          "model_name": "HBoxModel",
          "model_module_version": "1.5.0",
          "state": {
            "_dom_classes": [],
            "_model_module": "@jupyter-widgets/controls",
            "_model_module_version": "1.5.0",
            "_model_name": "HBoxModel",
            "_view_count": null,
            "_view_module": "@jupyter-widgets/controls",
            "_view_module_version": "1.5.0",
            "_view_name": "HBoxView",
            "box_style": "",
            "children": [
              "IPY_MODEL_530b897e6cb5413fad3457e462672b0b",
              "IPY_MODEL_6230dd622b014f919fb98f243b5fd60f",
              "IPY_MODEL_117b4df6b833489883f9b06d777f2d9f"
            ],
            "layout": "IPY_MODEL_d4aa6cf64060414ba27826e14e4fb24e"
          }
        },
        "530b897e6cb5413fad3457e462672b0b": {
          "model_module": "@jupyter-widgets/controls",
          "model_name": "HTMLModel",
          "model_module_version": "1.5.0",
          "state": {
            "_dom_classes": [],
            "_model_module": "@jupyter-widgets/controls",
            "_model_module_version": "1.5.0",
            "_model_name": "HTMLModel",
            "_view_count": null,
            "_view_module": "@jupyter-widgets/controls",
            "_view_module_version": "1.5.0",
            "_view_name": "HTMLView",
            "description": "",
            "description_tooltip": null,
            "layout": "IPY_MODEL_736d57779cdb4deb9361ddd6e8d0adfb",
            "placeholder": "​",
            "style": "IPY_MODEL_bf3d62891a0a4f55b7bdb0e7a1bf30f9",
            "value": "Evaluating: 100%"
          }
        },
        "6230dd622b014f919fb98f243b5fd60f": {
          "model_module": "@jupyter-widgets/controls",
          "model_name": "FloatProgressModel",
          "model_module_version": "1.5.0",
          "state": {
            "_dom_classes": [],
            "_model_module": "@jupyter-widgets/controls",
            "_model_module_version": "1.5.0",
            "_model_name": "FloatProgressModel",
            "_view_count": null,
            "_view_module": "@jupyter-widgets/controls",
            "_view_module_version": "1.5.0",
            "_view_name": "ProgressView",
            "bar_style": "success",
            "description": "",
            "description_tooltip": null,
            "layout": "IPY_MODEL_9d944561da12472690f721f8cb72fa53",
            "max": 12,
            "min": 0,
            "orientation": "horizontal",
            "style": "IPY_MODEL_ce2f60b15dba4b56af52202ad43a5570",
            "value": 12
          }
        },
        "117b4df6b833489883f9b06d777f2d9f": {
          "model_module": "@jupyter-widgets/controls",
          "model_name": "HTMLModel",
          "model_module_version": "1.5.0",
          "state": {
            "_dom_classes": [],
            "_model_module": "@jupyter-widgets/controls",
            "_model_module_version": "1.5.0",
            "_model_name": "HTMLModel",
            "_view_count": null,
            "_view_module": "@jupyter-widgets/controls",
            "_view_module_version": "1.5.0",
            "_view_name": "HTMLView",
            "description": "",
            "description_tooltip": null,
            "layout": "IPY_MODEL_1b793e99f24a4dd4b0e3424a57355289",
            "placeholder": "​",
            "style": "IPY_MODEL_a890206210dc49d99b564c956612e68c",
            "value": " 12/12 [03:00&lt;00:00, 37.95s/it]"
          }
        },
        "d4aa6cf64060414ba27826e14e4fb24e": {
          "model_module": "@jupyter-widgets/base",
          "model_name": "LayoutModel",
          "model_module_version": "1.2.0",
          "state": {
            "_model_module": "@jupyter-widgets/base",
            "_model_module_version": "1.2.0",
            "_model_name": "LayoutModel",
            "_view_count": null,
            "_view_module": "@jupyter-widgets/base",
            "_view_module_version": "1.2.0",
            "_view_name": "LayoutView",
            "align_content": null,
            "align_items": null,
            "align_self": null,
            "border": null,
            "bottom": null,
            "display": null,
            "flex": null,
            "flex_flow": null,
            "grid_area": null,
            "grid_auto_columns": null,
            "grid_auto_flow": null,
            "grid_auto_rows": null,
            "grid_column": null,
            "grid_gap": null,
            "grid_row": null,
            "grid_template_areas": null,
            "grid_template_columns": null,
            "grid_template_rows": null,
            "height": null,
            "justify_content": null,
            "justify_items": null,
            "left": null,
            "margin": null,
            "max_height": null,
            "max_width": null,
            "min_height": null,
            "min_width": null,
            "object_fit": null,
            "object_position": null,
            "order": null,
            "overflow": null,
            "overflow_x": null,
            "overflow_y": null,
            "padding": null,
            "right": null,
            "top": null,
            "visibility": null,
            "width": null
          }
        },
        "736d57779cdb4deb9361ddd6e8d0adfb": {
          "model_module": "@jupyter-widgets/base",
          "model_name": "LayoutModel",
          "model_module_version": "1.2.0",
          "state": {
            "_model_module": "@jupyter-widgets/base",
            "_model_module_version": "1.2.0",
            "_model_name": "LayoutModel",
            "_view_count": null,
            "_view_module": "@jupyter-widgets/base",
            "_view_module_version": "1.2.0",
            "_view_name": "LayoutView",
            "align_content": null,
            "align_items": null,
            "align_self": null,
            "border": null,
            "bottom": null,
            "display": null,
            "flex": null,
            "flex_flow": null,
            "grid_area": null,
            "grid_auto_columns": null,
            "grid_auto_flow": null,
            "grid_auto_rows": null,
            "grid_column": null,
            "grid_gap": null,
            "grid_row": null,
            "grid_template_areas": null,
            "grid_template_columns": null,
            "grid_template_rows": null,
            "height": null,
            "justify_content": null,
            "justify_items": null,
            "left": null,
            "margin": null,
            "max_height": null,
            "max_width": null,
            "min_height": null,
            "min_width": null,
            "object_fit": null,
            "object_position": null,
            "order": null,
            "overflow": null,
            "overflow_x": null,
            "overflow_y": null,
            "padding": null,
            "right": null,
            "top": null,
            "visibility": null,
            "width": null
          }
        },
        "bf3d62891a0a4f55b7bdb0e7a1bf30f9": {
          "model_module": "@jupyter-widgets/controls",
          "model_name": "DescriptionStyleModel",
          "model_module_version": "1.5.0",
          "state": {
            "_model_module": "@jupyter-widgets/controls",
            "_model_module_version": "1.5.0",
            "_model_name": "DescriptionStyleModel",
            "_view_count": null,
            "_view_module": "@jupyter-widgets/base",
            "_view_module_version": "1.2.0",
            "_view_name": "StyleView",
            "description_width": ""
          }
        },
        "9d944561da12472690f721f8cb72fa53": {
          "model_module": "@jupyter-widgets/base",
          "model_name": "LayoutModel",
          "model_module_version": "1.2.0",
          "state": {
            "_model_module": "@jupyter-widgets/base",
            "_model_module_version": "1.2.0",
            "_model_name": "LayoutModel",
            "_view_count": null,
            "_view_module": "@jupyter-widgets/base",
            "_view_module_version": "1.2.0",
            "_view_name": "LayoutView",
            "align_content": null,
            "align_items": null,
            "align_self": null,
            "border": null,
            "bottom": null,
            "display": null,
            "flex": null,
            "flex_flow": null,
            "grid_area": null,
            "grid_auto_columns": null,
            "grid_auto_flow": null,
            "grid_auto_rows": null,
            "grid_column": null,
            "grid_gap": null,
            "grid_row": null,
            "grid_template_areas": null,
            "grid_template_columns": null,
            "grid_template_rows": null,
            "height": null,
            "justify_content": null,
            "justify_items": null,
            "left": null,
            "margin": null,
            "max_height": null,
            "max_width": null,
            "min_height": null,
            "min_width": null,
            "object_fit": null,
            "object_position": null,
            "order": null,
            "overflow": null,
            "overflow_x": null,
            "overflow_y": null,
            "padding": null,
            "right": null,
            "top": null,
            "visibility": null,
            "width": null
          }
        },
        "ce2f60b15dba4b56af52202ad43a5570": {
          "model_module": "@jupyter-widgets/controls",
          "model_name": "ProgressStyleModel",
          "model_module_version": "1.5.0",
          "state": {
            "_model_module": "@jupyter-widgets/controls",
            "_model_module_version": "1.5.0",
            "_model_name": "ProgressStyleModel",
            "_view_count": null,
            "_view_module": "@jupyter-widgets/base",
            "_view_module_version": "1.2.0",
            "_view_name": "StyleView",
            "bar_color": null,
            "description_width": ""
          }
        },
        "1b793e99f24a4dd4b0e3424a57355289": {
          "model_module": "@jupyter-widgets/base",
          "model_name": "LayoutModel",
          "model_module_version": "1.2.0",
          "state": {
            "_model_module": "@jupyter-widgets/base",
            "_model_module_version": "1.2.0",
            "_model_name": "LayoutModel",
            "_view_count": null,
            "_view_module": "@jupyter-widgets/base",
            "_view_module_version": "1.2.0",
            "_view_name": "LayoutView",
            "align_content": null,
            "align_items": null,
            "align_self": null,
            "border": null,
            "bottom": null,
            "display": null,
            "flex": null,
            "flex_flow": null,
            "grid_area": null,
            "grid_auto_columns": null,
            "grid_auto_flow": null,
            "grid_auto_rows": null,
            "grid_column": null,
            "grid_gap": null,
            "grid_row": null,
            "grid_template_areas": null,
            "grid_template_columns": null,
            "grid_template_rows": null,
            "height": null,
            "justify_content": null,
            "justify_items": null,
            "left": null,
            "margin": null,
            "max_height": null,
            "max_width": null,
            "min_height": null,
            "min_width": null,
            "object_fit": null,
            "object_position": null,
            "order": null,
            "overflow": null,
            "overflow_x": null,
            "overflow_y": null,
            "padding": null,
            "right": null,
            "top": null,
            "visibility": null,
            "width": null
          }
        },
        "a890206210dc49d99b564c956612e68c": {
          "model_module": "@jupyter-widgets/controls",
          "model_name": "DescriptionStyleModel",
          "model_module_version": "1.5.0",
          "state": {
            "_model_module": "@jupyter-widgets/controls",
            "_model_module_version": "1.5.0",
            "_model_name": "DescriptionStyleModel",
            "_view_count": null,
            "_view_module": "@jupyter-widgets/base",
            "_view_module_version": "1.2.0",
            "_view_name": "StyleView",
            "description_width": ""
          }
        }
      }
    }
  },
  "cells": [
    {
      "cell_type": "code",
      "execution_count": null,
      "metadata": {
        "id": "VDJHIidNcwjR"
      },
      "outputs": [],
      "source": [
        "pip install langchain langchain_community langchain_groq sentence-transformers"
      ]
    },
    {
      "cell_type": "code",
      "source": [
        "pip install chromadb ragas"
      ],
      "metadata": {
        "id": "M4X_JaNHdFgc"
      },
      "execution_count": null,
      "outputs": []
    },
    {
      "cell_type": "code",
      "source": [
        "import os\n",
        "from google.colab import userdata\n",
        "\n",
        "GROQ_API_KEY = userdata.get('GROQ_API_KEY')\n",
        "os.environ['GROQ_API_KEY'] = GROQ_API_KEY"
      ],
      "metadata": {
        "id": "aI07qd64ddyJ"
      },
      "execution_count": 36,
      "outputs": []
    },
    {
      "cell_type": "code",
      "source": [
        "from langchain.document_loaders import TextLoader\n",
        "\n",
        "docs = TextLoader('/content/state_of_the_union.txt').load()\n",
        "len(docs)"
      ],
      "metadata": {
        "colab": {
          "base_uri": "https://localhost:8080/"
        },
        "id": "Xph-f-rtdmN3",
        "outputId": "5e6e790b-7e4a-4049-a43d-e07e5b0181bf"
      },
      "execution_count": 37,
      "outputs": [
        {
          "output_type": "execute_result",
          "data": {
            "text/plain": [
              "1"
            ]
          },
          "metadata": {},
          "execution_count": 37
        }
      ]
    },
    {
      "cell_type": "code",
      "source": [
        "from langchain.text_splitter import RecursiveCharacterTextSplitter\n",
        "splitter = RecursiveCharacterTextSplitter(chunk_size=500, chunk_overlap=100)\n",
        "chunks = splitter.split_documents(docs)\n",
        "len(chunks)"
      ],
      "metadata": {
        "colab": {
          "base_uri": "https://localhost:8080/"
        },
        "id": "TSsxAP4Kdvuw",
        "outputId": "74ec3e92-a987-472d-816a-020264c1a923"
      },
      "execution_count": 38,
      "outputs": [
        {
          "output_type": "execute_result",
          "data": {
            "text/plain": [
              "96"
            ]
          },
          "metadata": {},
          "execution_count": 38
        }
      ]
    },
    {
      "cell_type": "code",
      "source": [
        "from langchain.embeddings import HuggingFaceEmbeddings\n",
        "embeddings = HuggingFaceEmbeddings(model_name=\"sentence-transformers/all-MiniLM-L6-v2\")"
      ],
      "metadata": {
        "id": "6dS15Flwd2nx"
      },
      "execution_count": 39,
      "outputs": []
    },
    {
      "cell_type": "code",
      "source": [
        "from langchain_groq import ChatGroq\n",
        "llm = ChatGroq(model='qwen/qwen3-32b')"
      ],
      "metadata": {
        "id": "L7ihkyW7eMCH"
      },
      "execution_count": 40,
      "outputs": []
    },
    {
      "cell_type": "code",
      "source": [
        "from langchain.vectorstores import Chroma\n",
        "\n",
        "vector_store = Chroma.from_documents(chunks, embeddings)"
      ],
      "metadata": {
        "id": "b0UPzG_qeWen"
      },
      "execution_count": 41,
      "outputs": []
    },
    {
      "cell_type": "code",
      "source": [
        "retriever = vector_store.as_retriever(search_kwargs={\"k\": 3})"
      ],
      "metadata": {
        "id": "YDLapXooebah"
      },
      "execution_count": 42,
      "outputs": []
    },
    {
      "cell_type": "code",
      "source": [
        "from langchain.prompts import ChatPromptTemplate\n",
        "from langchain.schema.runnable import RunnablePassthrough\n",
        "from langchain.schema.output_parser import StrOutputParser\n",
        "template = \"\"\"\n",
        "ou are an assistant for question-answering tasks.\n",
        "Use the following pieces of retrieved context to answer the question.\n",
        "If you don't know the answer, just say that you don't know.\n",
        "Use two sentences maximum and keep the answer concise.\n",
        "\n",
        "Question: {question}\n",
        "Context: {context}\n",
        "Answer:\n",
        "\"\"\"\n",
        "prompt = ChatPromptTemplate.from_template(template)"
      ],
      "metadata": {
        "id": "mJJqw4BCe3RS"
      },
      "execution_count": 43,
      "outputs": []
    },
    {
      "cell_type": "code",
      "source": [
        "chain = (\n",
        "    {\"context\": retriever, \"question\": RunnablePassthrough()}\n",
        "    | prompt\n",
        "    | llm\n",
        "    | StrOutputParser()\n",
        ")\n",
        "\n",
        "chain.invoke(\"What did president say about Ketanji Brown Jackson?\")"
      ],
      "metadata": {
        "colab": {
          "base_uri": "https://localhost:8080/",
          "height": 140
        },
        "id": "0U6OP4lEfKB6",
        "outputId": "34763182-4826-4752-b9d5-7ce560e5e848"
      },
      "execution_count": 44,
      "outputs": [
        {
          "output_type": "execute_result",
          "data": {
            "text/plain": [
              "'<think>\\nOkay, the user is asking what the president said about Ketanji Brown Jackson. Let me check the provided context. There are three documents, all from the same source, the State of the Union address.\\n\\nLooking at the first two documents, they have identical content. The president mentions that nominating someone to the Supreme Court is a serious responsibility and that he nominated Judge Ketanji Brown Jackson four days ago, calling her one of the nation\\'s top legal minds who will continue Justice Breyer\\'s legacy. The third document talks about Justice Breyer and voting rights acts but doesn\\'t mention Jackson. \\n\\nSo the answer should be that the president nominated her to the Supreme Court, praising her legal expertise and linking her to Justice Breyer\\'s legacy. I need to make sure the answer is concise, two sentences max, and only uses the given context. Since the first two documents are duplicates, I can just reference one. The key points are the nomination, her role as a Circuit Court Judge, and the mention of continuing Justice Breyer\\'s legacy. No need to include the third document since it doesn\\'t add info about Jackson. Alright, that\\'s all the info needed.\\n</think>\\n\\nThe president stated that nominating Ketanji Brown Jackson to the U.S. Supreme Court was one of his most serious constitutional responsibilities, praising her as \"one of our nation’s top legal minds\" who will continue Justice Breyer’s legacy of excellence.'"
            ],
            "application/vnd.google.colaboratory.intrinsic+json": {
              "type": "string"
            }
          },
          "metadata": {},
          "execution_count": 44
        }
      ]
    },
    {
      "cell_type": "code",
      "source": [
        "questions = [\n",
        "    \"What did president say about Justice Breyer?\",\n",
        "    \"What did president say about Intel's CEO?\",\n",
        "    \"What did president say about the gun violence?\"\n",
        "]"
      ],
      "metadata": {
        "id": "O0JnsWKffz9h"
      },
      "execution_count": 45,
      "outputs": []
    },
    {
      "cell_type": "code",
      "source": [
        "ground_truth = [\n",
        "    \"The president said that Justice Breyer has dedicated his life to serve the country and thanked him for his service.\",\n",
        "    \"The president said that Pat Gelsinger is ready to increase Intel’s investment to $100 billion.\",\n",
        "    \"The president asked Congress to pass proven measures to reduce gun violence.\"\n",
        "    ]"
      ],
      "metadata": {
        "id": "RIOsWYULgbkn"
      },
      "execution_count": 46,
      "outputs": []
    },
    {
      "cell_type": "code",
      "source": [
        "answer = []\n",
        "content = []"
      ],
      "metadata": {
        "id": "P8jLUgCRgq_S"
      },
      "execution_count": 47,
      "outputs": []
    },
    {
      "cell_type": "code",
      "source": [
        "for query in questions:\n",
        "  answer.append(chain.invoke(query))\n",
        "  content.append([doc.page_content for doc in retriever.get_relevant_documents(query)])"
      ],
      "metadata": {
        "id": "bGyPyfItguSq"
      },
      "execution_count": 48,
      "outputs": []
    },
    {
      "cell_type": "code",
      "source": [
        "content"
      ],
      "metadata": {
        "colab": {
          "base_uri": "https://localhost:8080/"
        },
        "id": "yNbTiPhEhEE6",
        "outputId": "ac7885bd-8b12-4160-b5b4-cfaa24634f31"
      },
      "execution_count": 49,
      "outputs": [
        {
          "output_type": "execute_result",
          "data": {
            "text/plain": [
              "[['One of the most serious constitutional responsibilities a President has is nominating someone to serve on the United States Supreme Court. \\n\\nAnd I did that 4 days ago, when I nominated Circuit Court of Appeals Judge Ketanji Brown Jackson. One of our nation’s top legal minds, who will continue Justice Breyer’s legacy of excellence.',\n",
              "  'One of the most serious constitutional responsibilities a President has is nominating someone to serve on the United States Supreme Court. \\n\\nAnd I did that 4 days ago, when I nominated Circuit Court of Appeals Judge Ketanji Brown Jackson. One of our nation’s top legal minds, who will continue Justice Breyer’s legacy of excellence.',\n",
              "  'We cannot let this happen. \\n\\nTonight. I call on the Senate to: Pass the Freedom to Vote Act. Pass the John Lewis Voting Rights Act. And while you’re at it, pass the Disclose Act so Americans can know who is funding our elections. \\n\\nTonight, I’d like to honor someone who has dedicated his life to serve this country: Justice Stephen Breyer—an Army veteran, Constitutional scholar, and retiring Justice of the United States Supreme Court. Justice Breyer, thank you for your service.'],\n",
              " ['So let’s not wait any longer. Send it to my desk. I’ll sign it.  \\n\\nAnd we will really take off. \\n\\nAnd Intel is not alone. \\n\\nThere’s something happening in America. \\n\\nJust look around and you’ll see an amazing story. \\n\\nThe rebirth of the pride that comes from stamping products “Made In America.” The revitalization of American manufacturing.   \\n\\nCompanies are choosing to build new factories here, when just a few years ago, they would have built them overseas.',\n",
              "  'So let’s not wait any longer. Send it to my desk. I’ll sign it.  \\n\\nAnd we will really take off. \\n\\nAnd Intel is not alone. \\n\\nThere’s something happening in America. \\n\\nJust look around and you’ll see an amazing story. \\n\\nThe rebirth of the pride that comes from stamping products “Made In America.” The revitalization of American manufacturing.   \\n\\nCompanies are choosing to build new factories here, when just a few years ago, they would have built them overseas.',\n",
              "  'This is where Intel, the American company that helped build Silicon Valley, is going to build its $20 billion semiconductor “mega site”. \\n\\nUp to eight state-of-the-art factories in one place. 10,000 new good-paying jobs. \\n\\nSome of the most sophisticated manufacturing in the world to make computer chips the size of a fingertip that power the world and our everyday lives. \\n\\nSmartphones. The Internet. Technology we have yet to invent. \\n\\nBut that’s just the beginning.'],\n",
              " ['Ban assault weapons and high-capacity magazines. \\n\\nRepeal the liability shield that makes gun manufacturers the only industry in America that can’t be sued. \\n\\nThese laws don’t infringe on the Second Amendment. They save lives. \\n\\nThe most fundamental right in America is the right to vote – and to have it counted. And it’s under assault. \\n\\nIn state after state, new laws have been passed, not only to suppress the vote, but to subvert entire elections. \\n\\nWe cannot let this happen.',\n",
              "  'Ban assault weapons and high-capacity magazines. \\n\\nRepeal the liability shield that makes gun manufacturers the only industry in America that can’t be sued. \\n\\nThese laws don’t infringe on the Second Amendment. They save lives. \\n\\nThe most fundamental right in America is the right to vote – and to have it counted. And it’s under assault. \\n\\nIn state after state, new laws have been passed, not only to suppress the vote, but to subvert entire elections. \\n\\nWe cannot let this happen.',\n",
              "  'I ask Democrats and Republicans alike: Pass my budget and keep our neighborhoods safe.  \\n\\nAnd I will keep doing everything in my power to crack down on gun trafficking and ghost guns you can buy online and make at home—they have no serial numbers and can’t be traced. \\n\\nAnd I ask Congress to pass proven measures to reduce gun violence. Pass universal background checks. Why should anyone on a terrorist list be able to purchase a weapon? \\n\\nBan assault weapons and high-capacity magazines.']]"
            ]
          },
          "metadata": {},
          "execution_count": 49
        }
      ]
    },
    {
      "cell_type": "code",
      "source": [
        "answer"
      ],
      "metadata": {
        "colab": {
          "base_uri": "https://localhost:8080/"
        },
        "id": "l-JJPdBShG8P",
        "outputId": "8d58cc18-7139-4a7e-9ed0-cdfcf5830bbc"
      },
      "execution_count": 50,
      "outputs": [
        {
          "output_type": "execute_result",
          "data": {
            "text/plain": [
              "['<think>\\nOkay, the user is asking what the president said about Justice Breyer. Let me check the provided context.\\n\\nLooking at the documents, there\\'s a part where the president mentions Justice Breyer. The key sentence is: \"Justice Stephen Breyer—an Army veteran, Constitutional scholar, and retiring Justice of the United States Supreme Court. Justice Breyer, thank you for your service.\" Also, earlier the president talks about nominating Ketanji Brown Jackson to continue Breyer\\'s legacy. So the president acknowledged Breyer\\'s service and highlighted his background as a veteran and scholar. The answer should combine these points concisely.\\n</think>\\n\\nThe President honored Justice Stephen Breyer as an Army veteran, Constitutional scholar, and retiring Supreme Court Justice, thanking him for his service. He also noted that Judge Ketanji Brown Jackson would continue Breyer’s legacy of excellence.',\n",
              " '<think>\\nOkay, let\\'s see. The user is asking what the president said about Intel\\'s CEO. I need to check the provided context documents.\\n\\nLooking at the documents, they all come from the same file, the state_of_the_union.txt. The content mentions Intel in a couple of places. The first part says \"Intel is not alone\" and talks about companies building factories in America. The second part mentions Intel building a $20 billion semiconductor site with 10,000 jobs, but it refers to Intel as an American company that helped build Silicon Valley. \\n\\nNowhere in the provided context does it mention the president directly addressing Intel\\'s CEO by name or making specific comments about the CEO. The president is talking about Intel\\'s investments and contributions to American manufacturing. There\\'s no indication of any criticism or praise directed at the CEO personally. The answer should reflect that the president highlighted Intel\\'s investments and job creation, but there\\'s no specific mention of the CEO. Since the user is asking about the CEO specifically, and the context doesn\\'t include that, I should state that the president didn\\'t mention the CEO but talked about Intel\\'s contributions.\\n</think>\\n\\nThe president highlighted Intel\\'s significant investment in building a $20 billion semiconductor \"mega site\" in the U.S., creating 10,000 jobs, but did not specifically mention Intel\\'s CEO in the provided context. The speech emphasized Intel\\'s role in revitalizing American manufacturing without naming individual leadership.',\n",
              " '<think>\\nOkay, let\\'s see. The user is asking what the president said about gun violence. I need to look at the provided context documents to find the answer.\\n\\nLooking at the first document, the president mentions banning assault weapons and high-capacity magazines, repealing the liability shield for gun manufacturers, and says these laws don\\'t infringe on the Second Amendment. Also, in the third document, the president asks Congress to pass measures like universal background checks and mentions cracking down on ghost guns. \\n\\nSo the key points are banning assault weapons, background checks, and addressing ghost guns. The answer should be concise, two sentences max. Need to make sure not to include the part about voting rights since that\\'s a different topic. Also, check if there\\'s any repetition between the documents. All three documents have similar content, so combining the unique points from each. \\n\\nTherefore, the answer should include the president\\'s call for banning assault weapons, universal background checks, and measures against ghost guns, along with repealing the liability shield. Make sure to keep it within two sentences.\\n</think>\\n\\nThe president called for banning assault weapons and high-capacity magazines, passing universal background checks, and cracking down on untraceable \"ghost guns.\" They emphasized these measures as necessary to reduce gun violence without infringing on the Second Amendment.']"
            ]
          },
          "metadata": {},
          "execution_count": 50
        }
      ]
    },
    {
      "cell_type": "code",
      "source": [
        "data = {\n",
        "    \"question\":questions,\n",
        "    \"ground_truth\": ground_truth,\n",
        "    \"answer\": answer,\n",
        "    \"context\": content\n",
        "}"
      ],
      "metadata": {
        "id": "RY7HBBpDhN9M"
      },
      "execution_count": 51,
      "outputs": []
    },
    {
      "cell_type": "code",
      "source": [
        "data = {\n",
        "    \"question\":questions,\n",
        "    \"ground_truth\": ground_truth,\n",
        "    \"answer\": answer,\n",
        "    \"retrieved_contexts\": content # Renamed 'context' to 'retrieved_contexts'\n",
        "}\n",
        "from datasets import Dataset\n",
        "\n",
        "dataset = Dataset.from_dict(data)"
      ],
      "metadata": {
        "id": "yJDO54kRhcOt"
      },
      "execution_count": 62,
      "outputs": []
    },
    {
      "cell_type": "code",
      "source": [
        "dataset"
      ],
      "metadata": {
        "colab": {
          "base_uri": "https://localhost:8080/"
        },
        "id": "6lR7q_DlhfsT",
        "outputId": "6291c7b5-f342-495c-fa21-271c5e2960e7"
      },
      "execution_count": 63,
      "outputs": [
        {
          "output_type": "execute_result",
          "data": {
            "text/plain": [
              "Dataset({\n",
              "    features: ['question', 'ground_truth', 'answer', 'retrieved_contexts'],\n",
              "    num_rows: 3\n",
              "})"
            ]
          },
          "metadata": {},
          "execution_count": 63
        }
      ]
    },
    {
      "cell_type": "code",
      "source": [
        "from ragas.metrics import (\n",
        "        context_precision,\n",
        "        faithfulness,\n",
        "        answer_relevancy,\n",
        "        context_recall,\n",
        ")\n",
        "from ragas import evaluate\n",
        "\n",
        "ragas_metrics = [\n",
        "    context_precision,\n",
        "    faithfulness,\n",
        "    answer_relevancy,\n",
        "    context_recall,\n",
        "]"
      ],
      "metadata": {
        "id": "G4rkedZRh7V3"
      },
      "execution_count": 64,
      "outputs": []
    },
    {
      "cell_type": "code",
      "source": [
        "result = evaluate(dataset,ragas_metrics, llm, embeddings)"
      ],
      "metadata": {
        "colab": {
          "base_uri": "https://localhost:8080/",
          "height": 153,
          "referenced_widgets": [
            "36ed169150e44659bbc0ac629b4baf5d",
            "530b897e6cb5413fad3457e462672b0b",
            "6230dd622b014f919fb98f243b5fd60f",
            "117b4df6b833489883f9b06d777f2d9f",
            "d4aa6cf64060414ba27826e14e4fb24e",
            "736d57779cdb4deb9361ddd6e8d0adfb",
            "bf3d62891a0a4f55b7bdb0e7a1bf30f9",
            "9d944561da12472690f721f8cb72fa53",
            "ce2f60b15dba4b56af52202ad43a5570",
            "1b793e99f24a4dd4b0e3424a57355289",
            "a890206210dc49d99b564c956612e68c"
          ]
        },
        "id": "W1Ei55nhiRy_",
        "outputId": "46764e08-a2d4-4a50-8f44-f4be9375eedb"
      },
      "execution_count": 65,
      "outputs": [
        {
          "output_type": "display_data",
          "data": {
            "text/plain": [
              "Evaluating:   0%|          | 0/12 [00:00<?, ?it/s]"
            ],
            "application/vnd.jupyter.widget-view+json": {
              "version_major": 2,
              "version_minor": 0,
              "model_id": "36ed169150e44659bbc0ac629b4baf5d"
            }
          },
          "metadata": {}
        },
        {
          "output_type": "stream",
          "name": "stderr",
          "text": [
            "ERROR:ragas.executor:Exception raised in Job[0]: TimeoutError()\n",
            "ERROR:ragas.executor:Exception raised in Job[1]: TimeoutError()\n",
            "ERROR:ragas.executor:Exception raised in Job[4]: TimeoutError()\n",
            "ERROR:ragas.executor:Exception raised in Job[5]: TimeoutError()\n",
            "ERROR:ragas.executor:Exception raised in Job[8]: TimeoutError()\n",
            "ERROR:ragas.executor:Exception raised in Job[9]: TimeoutError()\n"
          ]
        }
      ]
    },
    {
      "cell_type": "code",
      "source": [
        "result"
      ],
      "metadata": {
        "colab": {
          "base_uri": "https://localhost:8080/"
        },
        "id": "FwVH3HJSi0zk",
        "outputId": "079f1178-fb9d-4327-cc75-80fc4b1aea1a"
      },
      "execution_count": 66,
      "outputs": [
        {
          "output_type": "execute_result",
          "data": {
            "text/plain": [
              "{'context_precision': nan, 'faithfulness': nan, 'answer_relevancy': 0.9292, 'context_recall': 0.6667}"
            ]
          },
          "metadata": {},
          "execution_count": 66
        }
      ]
    },
    {
      "cell_type": "code",
      "source": [
        "df = result.to_pandas()\n",
        "df"
      ],
      "metadata": {
        "colab": {
          "base_uri": "https://localhost:8080/",
          "height": 317
        },
        "id": "H6z2ZaYejeaU",
        "outputId": "9ddcb79e-83ad-4bfe-a268-ef96d00942d4"
      },
      "execution_count": 68,
      "outputs": [
        {
          "output_type": "execute_result",
          "data": {
            "text/plain": [
              "                                       user_input  \\\n",
              "0    What did president say about Justice Breyer?   \n",
              "1       What did president say about Intel's CEO?   \n",
              "2  What did president say about the gun violence?   \n",
              "\n",
              "                                  retrieved_contexts  \\\n",
              "0  [One of the most serious constitutional respon...   \n",
              "1  [So let’s not wait any longer. Send it to my d...   \n",
              "2  [Ban assault weapons and high-capacity magazin...   \n",
              "\n",
              "                                            response  \\\n",
              "0  <think>\\nOkay, the user is asking what the pre...   \n",
              "1  <think>\\nOkay, let's see. The user is asking w...   \n",
              "2  <think>\\nOkay, let's see. The user is asking w...   \n",
              "\n",
              "                                           reference  context_precision  \\\n",
              "0  The president said that Justice Breyer has ded...                NaN   \n",
              "1  The president said that Pat Gelsinger is ready...                NaN   \n",
              "2  The president asked Congress to pass proven me...                NaN   \n",
              "\n",
              "   faithfulness  answer_relevancy  context_recall  \n",
              "0           NaN          0.944320             1.0  \n",
              "1           NaN          0.982107             0.0  \n",
              "2           NaN          0.861184             1.0  "
            ],
            "text/html": [
              "\n",
              "  <div id=\"df-65670fc5-2165-403f-9ca6-e5dc7e302e2a\" class=\"colab-df-container\">\n",
              "    <div>\n",
              "<style scoped>\n",
              "    .dataframe tbody tr th:only-of-type {\n",
              "        vertical-align: middle;\n",
              "    }\n",
              "\n",
              "    .dataframe tbody tr th {\n",
              "        vertical-align: top;\n",
              "    }\n",
              "\n",
              "    .dataframe thead th {\n",
              "        text-align: right;\n",
              "    }\n",
              "</style>\n",
              "<table border=\"1\" class=\"dataframe\">\n",
              "  <thead>\n",
              "    <tr style=\"text-align: right;\">\n",
              "      <th></th>\n",
              "      <th>user_input</th>\n",
              "      <th>retrieved_contexts</th>\n",
              "      <th>response</th>\n",
              "      <th>reference</th>\n",
              "      <th>context_precision</th>\n",
              "      <th>faithfulness</th>\n",
              "      <th>answer_relevancy</th>\n",
              "      <th>context_recall</th>\n",
              "    </tr>\n",
              "  </thead>\n",
              "  <tbody>\n",
              "    <tr>\n",
              "      <th>0</th>\n",
              "      <td>What did president say about Justice Breyer?</td>\n",
              "      <td>[One of the most serious constitutional respon...</td>\n",
              "      <td>&lt;think&gt;\\nOkay, the user is asking what the pre...</td>\n",
              "      <td>The president said that Justice Breyer has ded...</td>\n",
              "      <td>NaN</td>\n",
              "      <td>NaN</td>\n",
              "      <td>0.944320</td>\n",
              "      <td>1.0</td>\n",
              "    </tr>\n",
              "    <tr>\n",
              "      <th>1</th>\n",
              "      <td>What did president say about Intel's CEO?</td>\n",
              "      <td>[So let’s not wait any longer. Send it to my d...</td>\n",
              "      <td>&lt;think&gt;\\nOkay, let's see. The user is asking w...</td>\n",
              "      <td>The president said that Pat Gelsinger is ready...</td>\n",
              "      <td>NaN</td>\n",
              "      <td>NaN</td>\n",
              "      <td>0.982107</td>\n",
              "      <td>0.0</td>\n",
              "    </tr>\n",
              "    <tr>\n",
              "      <th>2</th>\n",
              "      <td>What did president say about the gun violence?</td>\n",
              "      <td>[Ban assault weapons and high-capacity magazin...</td>\n",
              "      <td>&lt;think&gt;\\nOkay, let's see. The user is asking w...</td>\n",
              "      <td>The president asked Congress to pass proven me...</td>\n",
              "      <td>NaN</td>\n",
              "      <td>NaN</td>\n",
              "      <td>0.861184</td>\n",
              "      <td>1.0</td>\n",
              "    </tr>\n",
              "  </tbody>\n",
              "</table>\n",
              "</div>\n",
              "    <div class=\"colab-df-buttons\">\n",
              "\n",
              "  <div class=\"colab-df-container\">\n",
              "    <button class=\"colab-df-convert\" onclick=\"convertToInteractive('df-65670fc5-2165-403f-9ca6-e5dc7e302e2a')\"\n",
              "            title=\"Convert this dataframe to an interactive table.\"\n",
              "            style=\"display:none;\">\n",
              "\n",
              "  <svg xmlns=\"http://www.w3.org/2000/svg\" height=\"24px\" viewBox=\"0 -960 960 960\">\n",
              "    <path d=\"M120-120v-720h720v720H120Zm60-500h600v-160H180v160Zm220 220h160v-160H400v160Zm0 220h160v-160H400v160ZM180-400h160v-160H180v160Zm440 0h160v-160H620v160ZM180-180h160v-160H180v160Zm440 0h160v-160H620v160Z\"/>\n",
              "  </svg>\n",
              "    </button>\n",
              "\n",
              "  <style>\n",
              "    .colab-df-container {\n",
              "      display:flex;\n",
              "      gap: 12px;\n",
              "    }\n",
              "\n",
              "    .colab-df-convert {\n",
              "      background-color: #E8F0FE;\n",
              "      border: none;\n",
              "      border-radius: 50%;\n",
              "      cursor: pointer;\n",
              "      display: none;\n",
              "      fill: #1967D2;\n",
              "      height: 32px;\n",
              "      padding: 0 0 0 0;\n",
              "      width: 32px;\n",
              "    }\n",
              "\n",
              "    .colab-df-convert:hover {\n",
              "      background-color: #E2EBFA;\n",
              "      box-shadow: 0px 1px 2px rgba(60, 64, 67, 0.3), 0px 1px 3px 1px rgba(60, 64, 67, 0.15);\n",
              "      fill: #174EA6;\n",
              "    }\n",
              "\n",
              "    .colab-df-buttons div {\n",
              "      margin-bottom: 4px;\n",
              "    }\n",
              "\n",
              "    [theme=dark] .colab-df-convert {\n",
              "      background-color: #3B4455;\n",
              "      fill: #D2E3FC;\n",
              "    }\n",
              "\n",
              "    [theme=dark] .colab-df-convert:hover {\n",
              "      background-color: #434B5C;\n",
              "      box-shadow: 0px 1px 3px 1px rgba(0, 0, 0, 0.15);\n",
              "      filter: drop-shadow(0px 1px 2px rgba(0, 0, 0, 0.3));\n",
              "      fill: #FFFFFF;\n",
              "    }\n",
              "  </style>\n",
              "\n",
              "    <script>\n",
              "      const buttonEl =\n",
              "        document.querySelector('#df-65670fc5-2165-403f-9ca6-e5dc7e302e2a button.colab-df-convert');\n",
              "      buttonEl.style.display =\n",
              "        google.colab.kernel.accessAllowed ? 'block' : 'none';\n",
              "\n",
              "      async function convertToInteractive(key) {\n",
              "        const element = document.querySelector('#df-65670fc5-2165-403f-9ca6-e5dc7e302e2a');\n",
              "        const dataTable =\n",
              "          await google.colab.kernel.invokeFunction('convertToInteractive',\n",
              "                                                    [key], {});\n",
              "        if (!dataTable) return;\n",
              "\n",
              "        const docLinkHtml = 'Like what you see? Visit the ' +\n",
              "          '<a target=\"_blank\" href=https://colab.research.google.com/notebooks/data_table.ipynb>data table notebook</a>'\n",
              "          + ' to learn more about interactive tables.';\n",
              "        element.innerHTML = '';\n",
              "        dataTable['output_type'] = 'display_data';\n",
              "        await google.colab.output.renderOutput(dataTable, element);\n",
              "        const docLink = document.createElement('div');\n",
              "        docLink.innerHTML = docLinkHtml;\n",
              "        element.appendChild(docLink);\n",
              "      }\n",
              "    </script>\n",
              "  </div>\n",
              "\n",
              "\n",
              "    <div id=\"df-bbbbf1a8-9df8-4159-880c-b24b9f092f93\">\n",
              "      <button class=\"colab-df-quickchart\" onclick=\"quickchart('df-bbbbf1a8-9df8-4159-880c-b24b9f092f93')\"\n",
              "                title=\"Suggest charts\"\n",
              "                style=\"display:none;\">\n",
              "\n",
              "<svg xmlns=\"http://www.w3.org/2000/svg\" height=\"24px\"viewBox=\"0 0 24 24\"\n",
              "     width=\"24px\">\n",
              "    <g>\n",
              "        <path d=\"M19 3H5c-1.1 0-2 .9-2 2v14c0 1.1.9 2 2 2h14c1.1 0 2-.9 2-2V5c0-1.1-.9-2-2-2zM9 17H7v-7h2v7zm4 0h-2V7h2v10zm4 0h-2v-4h2v4z\"/>\n",
              "    </g>\n",
              "</svg>\n",
              "      </button>\n",
              "\n",
              "<style>\n",
              "  .colab-df-quickchart {\n",
              "      --bg-color: #E8F0FE;\n",
              "      --fill-color: #1967D2;\n",
              "      --hover-bg-color: #E2EBFA;\n",
              "      --hover-fill-color: #174EA6;\n",
              "      --disabled-fill-color: #AAA;\n",
              "      --disabled-bg-color: #DDD;\n",
              "  }\n",
              "\n",
              "  [theme=dark] .colab-df-quickchart {\n",
              "      --bg-color: #3B4455;\n",
              "      --fill-color: #D2E3FC;\n",
              "      --hover-bg-color: #434B5C;\n",
              "      --hover-fill-color: #FFFFFF;\n",
              "      --disabled-bg-color: #3B4455;\n",
              "      --disabled-fill-color: #666;\n",
              "  }\n",
              "\n",
              "  .colab-df-quickchart {\n",
              "    background-color: var(--bg-color);\n",
              "    border: none;\n",
              "    border-radius: 50%;\n",
              "    cursor: pointer;\n",
              "    display: none;\n",
              "    fill: var(--fill-color);\n",
              "    height: 32px;\n",
              "    padding: 0;\n",
              "    width: 32px;\n",
              "  }\n",
              "\n",
              "  .colab-df-quickchart:hover {\n",
              "    background-color: var(--hover-bg-color);\n",
              "    box-shadow: 0 1px 2px rgba(60, 64, 67, 0.3), 0 1px 3px 1px rgba(60, 64, 67, 0.15);\n",
              "    fill: var(--button-hover-fill-color);\n",
              "  }\n",
              "\n",
              "  .colab-df-quickchart-complete:disabled,\n",
              "  .colab-df-quickchart-complete:disabled:hover {\n",
              "    background-color: var(--disabled-bg-color);\n",
              "    fill: var(--disabled-fill-color);\n",
              "    box-shadow: none;\n",
              "  }\n",
              "\n",
              "  .colab-df-spinner {\n",
              "    border: 2px solid var(--fill-color);\n",
              "    border-color: transparent;\n",
              "    border-bottom-color: var(--fill-color);\n",
              "    animation:\n",
              "      spin 1s steps(1) infinite;\n",
              "  }\n",
              "\n",
              "  @keyframes spin {\n",
              "    0% {\n",
              "      border-color: transparent;\n",
              "      border-bottom-color: var(--fill-color);\n",
              "      border-left-color: var(--fill-color);\n",
              "    }\n",
              "    20% {\n",
              "      border-color: transparent;\n",
              "      border-left-color: var(--fill-color);\n",
              "      border-top-color: var(--fill-color);\n",
              "    }\n",
              "    30% {\n",
              "      border-color: transparent;\n",
              "      border-left-color: var(--fill-color);\n",
              "      border-top-color: var(--fill-color);\n",
              "      border-right-color: var(--fill-color);\n",
              "    }\n",
              "    40% {\n",
              "      border-color: transparent;\n",
              "      border-right-color: var(--fill-color);\n",
              "      border-top-color: var(--fill-color);\n",
              "    }\n",
              "    60% {\n",
              "      border-color: transparent;\n",
              "      border-right-color: var(--fill-color);\n",
              "    }\n",
              "    80% {\n",
              "      border-color: transparent;\n",
              "      border-right-color: var(--fill-color);\n",
              "      border-bottom-color: var(--fill-color);\n",
              "    }\n",
              "    90% {\n",
              "      border-color: transparent;\n",
              "      border-bottom-color: var(--fill-color);\n",
              "    }\n",
              "  }\n",
              "</style>\n",
              "\n",
              "      <script>\n",
              "        async function quickchart(key) {\n",
              "          const quickchartButtonEl =\n",
              "            document.querySelector('#' + key + ' button');\n",
              "          quickchartButtonEl.disabled = true;  // To prevent multiple clicks.\n",
              "          quickchartButtonEl.classList.add('colab-df-spinner');\n",
              "          try {\n",
              "            const charts = await google.colab.kernel.invokeFunction(\n",
              "                'suggestCharts', [key], {});\n",
              "          } catch (error) {\n",
              "            console.error('Error during call to suggestCharts:', error);\n",
              "          }\n",
              "          quickchartButtonEl.classList.remove('colab-df-spinner');\n",
              "          quickchartButtonEl.classList.add('colab-df-quickchart-complete');\n",
              "        }\n",
              "        (() => {\n",
              "          let quickchartButtonEl =\n",
              "            document.querySelector('#df-bbbbf1a8-9df8-4159-880c-b24b9f092f93 button');\n",
              "          quickchartButtonEl.style.display =\n",
              "            google.colab.kernel.accessAllowed ? 'block' : 'none';\n",
              "        })();\n",
              "      </script>\n",
              "    </div>\n",
              "\n",
              "  <div id=\"id_99a16b15-6870-4396-a1e3-43cd65afed82\">\n",
              "    <style>\n",
              "      .colab-df-generate {\n",
              "        background-color: #E8F0FE;\n",
              "        border: none;\n",
              "        border-radius: 50%;\n",
              "        cursor: pointer;\n",
              "        display: none;\n",
              "        fill: #1967D2;\n",
              "        height: 32px;\n",
              "        padding: 0 0 0 0;\n",
              "        width: 32px;\n",
              "      }\n",
              "\n",
              "      .colab-df-generate:hover {\n",
              "        background-color: #E2EBFA;\n",
              "        box-shadow: 0px 1px 2px rgba(60, 64, 67, 0.3), 0px 1px 3px 1px rgba(60, 64, 67, 0.15);\n",
              "        fill: #174EA6;\n",
              "      }\n",
              "\n",
              "      [theme=dark] .colab-df-generate {\n",
              "        background-color: #3B4455;\n",
              "        fill: #D2E3FC;\n",
              "      }\n",
              "\n",
              "      [theme=dark] .colab-df-generate:hover {\n",
              "        background-color: #434B5C;\n",
              "        box-shadow: 0px 1px 3px 1px rgba(0, 0, 0, 0.15);\n",
              "        filter: drop-shadow(0px 1px 2px rgba(0, 0, 0, 0.3));\n",
              "        fill: #FFFFFF;\n",
              "      }\n",
              "    </style>\n",
              "    <button class=\"colab-df-generate\" onclick=\"generateWithVariable('df')\"\n",
              "            title=\"Generate code using this dataframe.\"\n",
              "            style=\"display:none;\">\n",
              "\n",
              "  <svg xmlns=\"http://www.w3.org/2000/svg\" height=\"24px\"viewBox=\"0 0 24 24\"\n",
              "       width=\"24px\">\n",
              "    <path d=\"M7,19H8.4L18.45,9,17,7.55,7,17.6ZM5,21V16.75L18.45,3.32a2,2,0,0,1,2.83,0l1.4,1.43a1.91,1.91,0,0,1,.58,1.4,1.91,1.91,0,0,1-.58,1.4L9.25,21ZM18.45,9,17,7.55Zm-12,3A5.31,5.31,0,0,0,4.9,8.1,5.31,5.31,0,0,0,1,6.5,5.31,5.31,0,0,0,4.9,4.9,5.31,5.31,0,0,0,6.5,1,5.31,5.31,0,0,0,8.1,4.9,5.31,5.31,0,0,0,12,6.5,5.46,5.46,0,0,0,6.5,12Z\"/>\n",
              "  </svg>\n",
              "    </button>\n",
              "    <script>\n",
              "      (() => {\n",
              "      const buttonEl =\n",
              "        document.querySelector('#id_99a16b15-6870-4396-a1e3-43cd65afed82 button.colab-df-generate');\n",
              "      buttonEl.style.display =\n",
              "        google.colab.kernel.accessAllowed ? 'block' : 'none';\n",
              "\n",
              "      buttonEl.onclick = () => {\n",
              "        google.colab.notebook.generateWithVariable('df');\n",
              "      }\n",
              "      })();\n",
              "    </script>\n",
              "  </div>\n",
              "\n",
              "    </div>\n",
              "  </div>\n"
            ],
            "application/vnd.google.colaboratory.intrinsic+json": {
              "type": "dataframe",
              "variable_name": "df",
              "summary": "{\n  \"name\": \"df\",\n  \"rows\": 3,\n  \"fields\": [\n    {\n      \"column\": \"user_input\",\n      \"properties\": {\n        \"dtype\": \"string\",\n        \"num_unique_values\": 3,\n        \"samples\": [\n          \"What did president say about Justice Breyer?\",\n          \"What did president say about Intel's CEO?\",\n          \"What did president say about the gun violence?\"\n        ],\n        \"semantic_type\": \"\",\n        \"description\": \"\"\n      }\n    },\n    {\n      \"column\": \"retrieved_contexts\",\n      \"properties\": {\n        \"dtype\": \"object\",\n        \"semantic_type\": \"\",\n        \"description\": \"\"\n      }\n    },\n    {\n      \"column\": \"response\",\n      \"properties\": {\n        \"dtype\": \"string\",\n        \"num_unique_values\": 3,\n        \"samples\": [\n          \"<think>\\nOkay, the user is asking what the president said about Justice Breyer. Let me check the provided context.\\n\\nLooking at the documents, there's a part where the president mentions Justice Breyer. The key sentence is: \\\"Justice Stephen Breyer\\u2014an Army veteran, Constitutional scholar, and retiring Justice of the United States Supreme Court. Justice Breyer, thank you for your service.\\\" Also, earlier the president talks about nominating Ketanji Brown Jackson to continue Breyer's legacy. So the president acknowledged Breyer's service and highlighted his background as a veteran and scholar. The answer should combine these points concisely.\\n</think>\\n\\nThe President honored Justice Stephen Breyer as an Army veteran, Constitutional scholar, and retiring Supreme Court Justice, thanking him for his service. He also noted that Judge Ketanji Brown Jackson would continue Breyer\\u2019s legacy of excellence.\",\n          \"<think>\\nOkay, let's see. The user is asking what the president said about Intel's CEO. I need to check the provided context documents.\\n\\nLooking at the documents, they all come from the same file, the state_of_the_union.txt. The content mentions Intel in a couple of places. The first part says \\\"Intel is not alone\\\" and talks about companies building factories in America. The second part mentions Intel building a $20 billion semiconductor site with 10,000 jobs, but it refers to Intel as an American company that helped build Silicon Valley. \\n\\nNowhere in the provided context does it mention the president directly addressing Intel's CEO by name or making specific comments about the CEO. The president is talking about Intel's investments and contributions to American manufacturing. There's no indication of any criticism or praise directed at the CEO personally. The answer should reflect that the president highlighted Intel's investments and job creation, but there's no specific mention of the CEO. Since the user is asking about the CEO specifically, and the context doesn't include that, I should state that the president didn't mention the CEO but talked about Intel's contributions.\\n</think>\\n\\nThe president highlighted Intel's significant investment in building a $20 billion semiconductor \\\"mega site\\\" in the U.S., creating 10,000 jobs, but did not specifically mention Intel's CEO in the provided context. The speech emphasized Intel's role in revitalizing American manufacturing without naming individual leadership.\",\n          \"<think>\\nOkay, let's see. The user is asking what the president said about gun violence. I need to look at the provided context documents to find the answer.\\n\\nLooking at the first document, the president mentions banning assault weapons and high-capacity magazines, repealing the liability shield for gun manufacturers, and says these laws don't infringe on the Second Amendment. Also, in the third document, the president asks Congress to pass measures like universal background checks and mentions cracking down on ghost guns. \\n\\nSo the key points are banning assault weapons, background checks, and addressing ghost guns. The answer should be concise, two sentences max. Need to make sure not to include the part about voting rights since that's a different topic. Also, check if there's any repetition between the documents. All three documents have similar content, so combining the unique points from each. \\n\\nTherefore, the answer should include the president's call for banning assault weapons, universal background checks, and measures against ghost guns, along with repealing the liability shield. Make sure to keep it within two sentences.\\n</think>\\n\\nThe president called for banning assault weapons and high-capacity magazines, passing universal background checks, and cracking down on untraceable \\\"ghost guns.\\\" They emphasized these measures as necessary to reduce gun violence without infringing on the Second Amendment.\"\n        ],\n        \"semantic_type\": \"\",\n        \"description\": \"\"\n      }\n    },\n    {\n      \"column\": \"reference\",\n      \"properties\": {\n        \"dtype\": \"string\",\n        \"num_unique_values\": 3,\n        \"samples\": [\n          \"The president said that Justice Breyer has dedicated his life to serve the country and thanked him for his service.\",\n          \"The president said that Pat Gelsinger is ready to increase Intel\\u2019s investment to $100 billion.\",\n          \"The president asked Congress to pass proven measures to reduce gun violence.\"\n        ],\n        \"semantic_type\": \"\",\n        \"description\": \"\"\n      }\n    },\n    {\n      \"column\": \"context_precision\",\n      \"properties\": {\n        \"dtype\": \"number\",\n        \"std\": null,\n        \"min\": null,\n        \"max\": null,\n        \"num_unique_values\": 0,\n        \"samples\": [],\n        \"semantic_type\": \"\",\n        \"description\": \"\"\n      }\n    },\n    {\n      \"column\": \"faithfulness\",\n      \"properties\": {\n        \"dtype\": \"number\",\n        \"std\": null,\n        \"min\": null,\n        \"max\": null,\n        \"num_unique_values\": 0,\n        \"samples\": [],\n        \"semantic_type\": \"\",\n        \"description\": \"\"\n      }\n    },\n    {\n      \"column\": \"answer_relevancy\",\n      \"properties\": {\n        \"dtype\": \"number\",\n        \"std\": 0.061862318862674875,\n        \"min\": 0.8611844600255353,\n        \"max\": 0.9821071438550772,\n        \"num_unique_values\": 3,\n        \"samples\": [],\n        \"semantic_type\": \"\",\n        \"description\": \"\"\n      }\n    },\n    {\n      \"column\": \"context_recall\",\n      \"properties\": {\n        \"dtype\": \"number\",\n        \"std\": 0.5773502691896258,\n        \"min\": 0.0,\n        \"max\": 1.0,\n        \"num_unique_values\": 2,\n        \"samples\": [],\n        \"semantic_type\": \"\",\n        \"description\": \"\"\n      }\n    }\n  ]\n}"
            }
          },
          "metadata": {},
          "execution_count": 68
        }
      ]
    },
    {
      "cell_type": "code",
      "source": [],
      "metadata": {
        "id": "1U6zZ92IjzMT"
      },
      "execution_count": null,
      "outputs": []
    }
  ]
}