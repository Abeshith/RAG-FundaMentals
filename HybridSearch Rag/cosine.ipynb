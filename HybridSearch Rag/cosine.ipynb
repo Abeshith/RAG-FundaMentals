{
 "cells": [
  {
   "cell_type": "code",
   "execution_count": 1,
   "id": "c09e8e4c",
   "metadata": {},
   "outputs": [],
   "source": [
    "from collections import Counter\n",
    "import math"
   ]
  },
  {
   "cell_type": "code",
   "execution_count": 36,
   "id": "06d7a64c",
   "metadata": {},
   "outputs": [],
   "source": [
    "query = \"I am An Indian citizen and I Live in India , I love my country India\"\n",
    "\n",
    "query = query.lower().split(\" \")"
   ]
  },
  {
   "cell_type": "code",
   "execution_count": 37,
   "id": "3d99e3c1",
   "metadata": {},
   "outputs": [],
   "source": [
    "docs = \"India is a country in South Asia. It is the seventh-largest country by area, the second-most populous country and the people of India are called Indian \" \\\n",
    "\n",
    "docs = docs.lower().split(\" \")"
   ]
  },
  {
   "cell_type": "code",
   "execution_count": 38,
   "id": "658c889c",
   "metadata": {},
   "outputs": [],
   "source": [
    "query_count = Counter(query)\n",
    "docs_count = Counter(docs)"
   ]
  },
  {
   "cell_type": "code",
   "execution_count": 48,
   "id": "f2d0e497",
   "metadata": {},
   "outputs": [
    {
     "name": "stdout",
     "output_type": "stream",
     "text": [
      "i\n",
      "am\n",
      "an\n",
      "indian\n",
      "citizen\n",
      "and\n",
      "live\n",
      "in\n",
      "india\n",
      ",\n",
      "love\n",
      "my\n",
      "country\n"
     ]
    },
    {
     "data": {
      "text/plain": [
       "[3, 1, 1, 1, 1, 1, 1, 1, 2, 1, 1, 1, 1]"
      ]
     },
     "execution_count": 48,
     "metadata": {},
     "output_type": "execute_result"
    }
   ],
   "source": [
    "lst = []\n",
    "\n",
    "for token in query_count.keys():\n",
    "    print(token)\n",
    "    lst.append(query_count[token])\n",
    "\n",
    "lst"
   ]
  },
  {
   "cell_type": "code",
   "execution_count": 47,
   "id": "f5603726",
   "metadata": {},
   "outputs": [
    {
     "name": "stdout",
     "output_type": "stream",
     "text": [
      "india\n",
      "is\n",
      "a\n",
      "country\n",
      "in\n",
      "south\n",
      "asia.\n",
      "it\n",
      "the\n",
      "seventh-largest\n",
      "by\n",
      "area,\n",
      "second-most\n",
      "populous\n",
      "and\n",
      "people\n",
      "of\n",
      "are\n",
      "called\n",
      "indian\n",
      "\n"
     ]
    },
    {
     "data": {
      "text/plain": [
       "[2, 2, 1, 3, 1, 1, 1, 1, 3, 1, 1, 1, 1, 1, 1, 1, 1, 1, 1, 1, 1]"
      ]
     },
     "execution_count": 47,
     "metadata": {},
     "output_type": "execute_result"
    }
   ],
   "source": [
    "lst1 = []\n",
    "for token in docs_count.keys():\n",
    "    print(token)\n",
    "    lst1.append(docs_count[token])\n",
    "\n",
    "lst1"
   ]
  },
  {
   "cell_type": "code",
   "execution_count": 42,
   "id": "e3a071bd",
   "metadata": {},
   "outputs": [
    {
     "name": "stdout",
     "output_type": "stream",
     "text": [
      "in\n",
      "indian\n",
      "india\n",
      "and\n",
      "country\n"
     ]
    },
    {
     "data": {
      "text/plain": [
       "[1, 1, 4, 1, 3]"
      ]
     },
     "execution_count": 42,
     "metadata": {},
     "output_type": "execute_result"
    }
   ],
   "source": [
    "mylist = []\n",
    "for tokens in query_count.keys() & docs_count.keys():\n",
    "    print(tokens)\n",
    "    mylist.append(query_count[tokens] * docs_count[tokens])\n",
    "\n",
    "mylist "
   ]
  },
  {
   "cell_type": "code",
   "execution_count": 57,
   "id": "3669c78a",
   "metadata": {},
   "outputs": [
    {
     "data": {
      "text/plain": [
       "10"
      ]
     },
     "execution_count": 57,
     "metadata": {},
     "output_type": "execute_result"
    }
   ],
   "source": [
    "dot_prod = sum(mylist) \n",
    "dot_prod"
   ]
  },
  {
   "cell_type": "code",
   "execution_count": 52,
   "id": "45f29c6f",
   "metadata": {},
   "outputs": [
    {
     "data": {
      "text/plain": [
       "4.898979485566356"
      ]
     },
     "execution_count": 52,
     "metadata": {},
     "output_type": "execute_result"
    }
   ],
   "source": [
    "query_magnitude = math.sqrt(sum([query_count[token] ** 2 for token in query_count]))\n",
    "query_magnitude"
   ]
  },
  {
   "cell_type": "code",
   "execution_count": 54,
   "id": "7f0f3dc8",
   "metadata": {},
   "outputs": [
    {
     "data": {
      "text/plain": [
       "6.557438524302"
      ]
     },
     "execution_count": 54,
     "metadata": {},
     "output_type": "execute_result"
    }
   ],
   "source": [
    "docs_magnitude = math.sqrt(sum([docs_count[token] ** 2 for token in docs_count]))\n",
    "docs_magnitude"
   ]
  },
  {
   "cell_type": "code",
   "execution_count": 59,
   "id": "1e2c3bb4",
   "metadata": {},
   "outputs": [
    {
     "data": {
      "text/plain": [
       "0.3112864031823452"
      ]
     },
     "execution_count": 59,
     "metadata": {},
     "output_type": "execute_result"
    }
   ],
   "source": [
    "cosine = dot_prod / (query_magnitude * docs_magnitude)\n",
    "cosine"
   ]
  },
  {
   "cell_type": "code",
   "execution_count": 60,
   "id": "37563222",
   "metadata": {},
   "outputs": [],
   "source": [
    "def cosine_similarity(query, document):\n",
    "    # Tokenize and convert to lowercase\n",
    "    query_tokens = query.lower().split(\" \")\n",
    "    document_tokens = document.lower().split(\" \")\n",
    "\n",
    "    # Create Counters for query and document\n",
    "    query_counter = Counter(query_tokens)\n",
    "    document_counter = Counter(document_tokens)\n",
    "\n",
    "    # Calculate dot product\n",
    "    dot_product = sum(query_counter[token] * document_counter[token] for token in query_counter.keys() & document_counter.keys())\n",
    "\n",
    "    # Calculate magnitudes\n",
    "    query_magnitude = math.sqrt(sum(query_counter[token] ** 2 for token in query_counter))\n",
    "    document_magnitude = math.sqrt(sum(document_counter[token] ** 2 for token in document_counter))\n",
    "\n",
    "    # Calculate cosine similarity\n",
    "    similarity = dot_product / (query_magnitude * document_magnitude) if query_magnitude * document_magnitude != 0 else 0\n",
    "\n",
    "    return similarity"
   ]
  },
  {
   "cell_type": "code",
   "execution_count": 62,
   "id": "2f1eff4d",
   "metadata": {},
   "outputs": [],
   "source": [
    "query = \"I am An Indian citizen and I Live in India , I love my country India\"\n",
    "docs = \"India is a country in South Asia. It is the seventh-largest country by area, the second-most populous country and the people of India are called Indian\""
   ]
  },
  {
   "cell_type": "code",
   "execution_count": 63,
   "id": "cf3e9d2a",
   "metadata": {},
   "outputs": [
    {
     "data": {
      "text/plain": [
       "0.314970394174356"
      ]
     },
     "execution_count": 63,
     "metadata": {},
     "output_type": "execute_result"
    }
   ],
   "source": [
    "cosine_similarity(query,docs)"
   ]
  },
  {
   "cell_type": "code",
   "execution_count": 64,
   "id": "22fb257c",
   "metadata": {},
   "outputs": [],
   "source": [
    "def return_response(query, corpus):\n",
    "    similarities = []\n",
    "    for doc in corpus:\n",
    "        similarity = cosine_similarity(query, doc)\n",
    "        similarities.append(similarity)\n",
    "    return corpus_of_documents[similarities.index(max(similarities))]"
   ]
  },
  {
   "cell_type": "code",
   "execution_count": 76,
   "id": "532c80fd",
   "metadata": {},
   "outputs": [],
   "source": [
    "corpus_of_documents = [\n",
    "        'Take a leisurely walk in the park and enjoy the fresh air.',\n",
    "        'Visit a local museum and discover something new.',\n",
    "        'Attend a live music concert and feel the rhythm.',\n",
    "        'Go for a hike and admire the natural scenery.',\n",
    "        'Have a picnic with friends and share some laughs.',\n",
    "        'Explore a new cuisine by dining at an ethnic restaurant.',\n",
    "        'Take a yoga class and stretch your body and mind.',\n",
    "        'Join a local sports league and enjoy some friendly competition.',\n",
    "        \"Attend a workshop or lecture on a topic you're interested in.\",\n",
    "        'Visit an amusement park and ride the roller coasters.',\n",
    "        \"India is a country in South Asia. It is the seventh-largest country by area, the second-most populous country and the people of India are called Indian\"\n",
    "]"
   ]
  },
  {
   "cell_type": "code",
   "execution_count": 77,
   "id": "2d0fcaf6",
   "metadata": {},
   "outputs": [],
   "source": [
    "user_input=\"i like fresh air.\""
   ]
  },
  {
   "cell_type": "code",
   "execution_count": 78,
   "id": "0472c714",
   "metadata": {},
   "outputs": [
    {
     "data": {
      "text/plain": [
       "'Take a leisurely walk in the park and enjoy the fresh air.'"
      ]
     },
     "execution_count": 78,
     "metadata": {},
     "output_type": "execute_result"
    }
   ],
   "source": [
    "relevant_document=return_response(user_input,corpus_of_documents)\n",
    "relevant_document"
   ]
  },
  {
   "cell_type": "code",
   "execution_count": 79,
   "id": "8ea24f3d",
   "metadata": {},
   "outputs": [
    {
     "data": {
      "text/plain": [
       "'India is a country in South Asia. It is the seventh-largest country by area, the second-most populous country and the people of India are called Indian'"
      ]
     },
     "execution_count": 79,
     "metadata": {},
     "output_type": "execute_result"
    }
   ],
   "source": [
    "relevant_document = return_response(query, corpus_of_documents)\n",
    "relevant_document"
   ]
  },
  {
   "cell_type": "code",
   "execution_count": 80,
   "id": "cbe73c49",
   "metadata": {},
   "outputs": [],
   "source": [
    "from langchain_groq import ChatGroq\n",
    "from langchain.prompts import PromptTemplate\n",
    "from langchain.chains import LLMChain"
   ]
  },
  {
   "cell_type": "code",
   "execution_count": 81,
   "id": "091db2d0",
   "metadata": {},
   "outputs": [],
   "source": [
    "user_input = \"i like to do yoga\"\n",
    "relevant_document = \"Take a yoga class and stretch your body and mind.\""
   ]
  },
  {
   "cell_type": "code",
   "execution_count": 83,
   "id": "ee21fc8b",
   "metadata": {},
   "outputs": [],
   "source": [
    "# 1. Define the prompt template\n",
    "template = \"\"\"\n",
    "You are a bot that makes recommendations for activities. You answer in very short sentences and do not include extra information.\n",
    "This is the recommended activity: {relevant_document}\n",
    "The user input is: {user_input}\n",
    "Compile a recommendation to the user based on the recommended activity and the user input.\n",
    "\"\"\"\n",
    "prompt = PromptTemplate.from_template(template)\n"
   ]
  },
  {
   "cell_type": "code",
   "execution_count": null,
   "id": "c1ba3a83",
   "metadata": {},
   "outputs": [],
   "source": [
    "# 2. Load Groq LLM \n",
    "llm = ChatGroq(\n",
    "    model=\"llama3-8b-8192\",  \n",
    "    temperature=0.7,\n",
    ")"
   ]
  },
  {
   "cell_type": "code",
   "execution_count": 86,
   "id": "066cd191",
   "metadata": {},
   "outputs": [
    {
     "name": "stderr",
     "output_type": "stream",
     "text": [
      "C:\\Users\\abhes\\AppData\\Local\\Temp\\ipykernel_12760\\4014406941.py:2: LangChainDeprecationWarning: The class `LLMChain` was deprecated in LangChain 0.1.17 and will be removed in 1.0. Use :meth:`~RunnableSequence, e.g., `prompt | llm`` instead.\n",
      "  llm_chain = LLMChain(llm=llm, prompt=prompt)\n",
      "C:\\Users\\abhes\\AppData\\Local\\Temp\\ipykernel_12760\\4014406941.py:3: LangChainDeprecationWarning: The method `Chain.run` was deprecated in langchain 0.1.0 and will be removed in 1.0. Use :meth:`~invoke` instead.\n",
      "  response = llm_chain.run(user_input=user_input, relevant_document=relevant_document)\n"
     ]
    }
   ],
   "source": [
    "# 3. Create and run the chain\n",
    "llm_chain = LLMChain(llm=llm, prompt=prompt)\n",
    "response = llm_chain.run(user_input=user_input, relevant_document=relevant_document)"
   ]
  },
  {
   "cell_type": "code",
   "execution_count": null,
   "id": "aebe8e0a",
   "metadata": {},
   "outputs": [
    {
     "name": "stdout",
     "output_type": "stream",
     "text": [
      "🧠 LLM Recommendation:\n",
      "Try a restorative yoga class for a relaxing and rejuvenating experience.\n"
     ]
    }
   ],
   "source": [
    "print(\"🧠 LLM Recommendation:\")\n",
    "print(response)"
   ]
  },
  {
   "cell_type": "code",
   "execution_count": null,
   "id": "e2a110d1",
   "metadata": {},
   "outputs": [],
   "source": []
  }
 ],
 "metadata": {
  "kernelspec": {
   "display_name": ".venv",
   "language": "python",
   "name": "python3"
  },
  "language_info": {
   "codemirror_mode": {
    "name": "ipython",
    "version": 3
   },
   "file_extension": ".py",
   "mimetype": "text/x-python",
   "name": "python",
   "nbconvert_exporter": "python",
   "pygments_lexer": "ipython3",
   "version": "3.11.1"
  }
 },
 "nbformat": 4,
 "nbformat_minor": 5
}
