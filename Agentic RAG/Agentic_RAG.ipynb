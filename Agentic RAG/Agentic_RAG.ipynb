{
 "cells": [
  {
   "cell_type": "code",
   "execution_count": 1,
   "id": "524bffcf",
   "metadata": {},
   "outputs": [],
   "source": [
    "import os\n",
    "import glob\n",
    "from dotenv import load_dotenv\n",
    "\n",
    "load_dotenv()\n",
    "\n",
    "os.environ[\"GROQ_API_KEY\"] = os.getenv(\"GROQ_API_KEY\")\n",
    "os.environ[\"TOGETHER_API_KEY\"] = os.getenv(\"TOGETHER_API_KEY\")\n",
    "os.environ[\"MISTRAL_API_KEY\"] = os.getenv(\"MISTRAL_API_KEY\")\n",
    "os.environ[\"TAVILY_API_KEY\"] = os.getenv(\"TAVILY_API_KEY\")\n",
    "os.environ[\"HF_TOKEN\"] = os.getenv(\"HF_TOKEN\")"
   ]
  },
  {
   "cell_type": "code",
   "execution_count": 2,
   "id": "86da6878",
   "metadata": {},
   "outputs": [],
   "source": [
    "import os\n",
    "os.environ[\"GROQ_API_KEY\"]=os.getenv(\"GROQ_API_KEY\")\n",
    "os.environ[\"LANGSMITH_API_KEY\"]=os.getenv(\"LANGSMITH_API_KEY\")\n",
    "os.environ[\"LANGSMITH_TRACING\"]=\"true\"\n",
    "os.environ[\"LANGSMITH_PROJECT\"]=\"Agentc RAG\""
   ]
  },
  {
   "cell_type": "code",
   "execution_count": 3,
   "id": "ee214fd6",
   "metadata": {},
   "outputs": [],
   "source": [
    "from langchain_groq import ChatGroq\n",
    "llm = ChatGroq(model=\"gemma2-9b-it\")"
   ]
  },
  {
   "cell_type": "code",
   "execution_count": 5,
   "id": "3f2c6d4e",
   "metadata": {},
   "outputs": [],
   "source": [
    "from langchain_mistralai.embeddings import MistralAIEmbeddings\n",
    "embeddings = MistralAIEmbeddings(model=\"mistral-embed\") "
   ]
  },
  {
   "cell_type": "code",
   "execution_count": 6,
   "id": "e799f7e1",
   "metadata": {},
   "outputs": [],
   "source": [
    "from langchain_community.vectorstores import Chroma\n",
    "from langchain_community.document_loaders import TextLoader, DirectoryLoader\n",
    "from langchain.text_splitter import RecursiveCharacterTextSplitter\n",
    "from langchain_core.runnables import RunnablePassthrough\n",
    "from langchain_core.prompts import ChatPromptTemplate\n",
    "from langchain_core.output_parsers import StrOutputParser\n",
    "from langchain_core.documents import Document"
   ]
  },
  {
   "cell_type": "code",
   "execution_count": 7,
   "id": "9c41a8cf",
   "metadata": {},
   "outputs": [],
   "source": [
    "all_text = \"\"\n",
    "for file_path in glob.glob(\"Curie_Radiation_Documents/*.txt\"):\n",
    "    loader = TextLoader(file_path)\n",
    "    docs = loader.load()\n",
    "    for doc in docs:\n",
    "        all_text += doc.page_content + \"\\n\"\n",
    "\n",
    "# Create a single Document object\n",
    "combined_doc = Document(page_content=all_text)\n",
    "\n",
    "# If you need it in a list format (e.g., for chains or vector stores)\n",
    "docs = [combined_doc]"
   ]
  },
  {
   "cell_type": "code",
   "execution_count": 8,
   "id": "e25b06e5",
   "metadata": {},
   "outputs": [],
   "source": [
    "text_splitter = RecursiveCharacterTextSplitter(chunk_size=500, chunk_overlap=100)\n",
    "chunks = text_splitter.split_documents(docs)\n",
    "docs_string = [doc.page_content for doc in chunks]"
   ]
  },
  {
   "cell_type": "code",
   "execution_count": 9,
   "id": "3c96005d",
   "metadata": {},
   "outputs": [],
   "source": [
    "vectorstore = Chroma.from_documents(chunks, embeddings)\n",
    "retriever = vectorstore.as_retriever(search_kwargs={\"k\": 3})"
   ]
  },
  {
   "cell_type": "code",
   "execution_count": 10,
   "id": "f03f987a",
   "metadata": {},
   "outputs": [
    {
     "name": "stderr",
     "output_type": "stream",
     "text": [
      "C:\\Users\\abhes\\AppData\\Local\\Temp\\ipykernel_15776\\673820268.py:1: LangChainDeprecationWarning: The method `BaseRetriever.get_relevant_documents` was deprecated in langchain-core 0.1.46 and will be removed in 1.0. Use :meth:`~invoke` instead.\n",
      "  retriever.get_relevant_documents(\"What did Marie Curie got Nobel Price For?\")\n"
     ]
    },
    {
     "data": {
      "text/plain": [
       "[Document(metadata={}, page_content='She moved to Paris to study at the Sorbonne and met her husband, Pierre Curie, there. \\nTogether, they conducted groundbreaking research on radioactivity. \\nMarie was the first woman to win a Nobel Prize and the only person to win Nobel Prizes in two different scientific fields.\\nHer dedication to science paved the way for women in STEM. \\nShe named the element polonium after her homeland. \\nHer early education took place under oppressive Russian rule, which suppressed Polish culture.'),\n",
       " Document(metadata={}, page_content=\"Curieâ€™s contribution was vital in integrating science into medicine.\\nHer mobile X-ray vans in WWI are considered a revolutionary innovation.\\nToday, nuclear medicine relies on her foundational research.\\nShe set a precedent for using scientific discovery to benefit humanity.\\nCurie's legacy lives on in hospitals and treatment centers worldwide.\\nMarie Curie received the Nobel Prize in Physics in 1903, shared with Pierre Curie and Henri Becquerel.\"),\n",
       " Document(metadata={}, page_content='Despite her fame, she remained modest and focused on her research.\\nCurieâ€™s Nobel legacy inspired generations of scientists across the globe.\\nShe donated prize money to research and relief efforts during wartime.\\nHer Nobel medals were hidden during WWII to protect them from the Nazis.\\nThe use of radium in treating cancer marked the birth of radiotherapy.\\nMarie Curieâ€™s discoveries showed that radioactive materials could target and kill cancerous tissue.')]"
      ]
     },
     "execution_count": 10,
     "metadata": {},
     "output_type": "execute_result"
    }
   ],
   "source": [
    "retriever.get_relevant_documents(\"What did Marie Curie got Nobel Price For?\")"
   ]
  },
  {
   "cell_type": "code",
   "execution_count": 13,
   "id": "2c010f7d",
   "metadata": {},
   "outputs": [],
   "source": [
    "from typing_extensions import Annotated, Sequence, TypedDict\n",
    "from langchain_core.messages import AnyMessage, BaseMessage \n",
    "from langgraph.graph.message import add_messages\n",
    "\n",
    "class State(TypedDict):\n",
    "    messages: Annotated[Sequence[BaseMessage] , add_messages]"
   ]
  },
  {
   "cell_type": "code",
   "execution_count": 14,
   "id": "8e3731ba",
   "metadata": {},
   "outputs": [],
   "source": [
    "from pydantic import BaseModel, Field\n",
    "class TopicSelection(BaseModel):\n",
    "    Topic: str = Field(description=\"The topic to select for the RAG process.\")\n",
    "    Reasoning: str = Field(description=\"The reasoning behind the topic selection.\")"
   ]
  },
  {
   "cell_type": "code",
   "execution_count": 16,
   "id": "31ea30c5",
   "metadata": {},
   "outputs": [],
   "source": [
    "from langchain.output_parsers import PydanticOutputParser\n",
    "parser = PydanticOutputParser(pydantic_object=TopicSelection)"
   ]
  },
  {
   "cell_type": "code",
   "execution_count": 59,
   "id": "a58c1380",
   "metadata": {},
   "outputs": [],
   "source": [
    "from langchain_core.prompts import PromptTemplate\n",
    "def LLMAgent(state : State):\n",
    "    message = state[\"messages\"]\n",
    "    \n",
    "    # Extract the content from the last message\n",
    "    if isinstance(message[-1], str):\n",
    "        question = message[-1]\n",
    "    else:\n",
    "        question = message[-1].content if hasattr(message[-1], 'content') else str(message[-1])\n",
    "    \n",
    "    template = \"\"\"Your Task is to provide the brief answer based on the user query .\n",
    "    Only respond with the topic and reasoning behind the topic selection.\n",
    "\n",
    "    User Query: {question}\n",
    "    {format_instructions}\n",
    "    \"\"\"\n",
    "    prompt = PromptTemplate(template=template, \n",
    "        input_variables=[question], \n",
    "        partial_variables={\"format_instructions\": parser.get_format_instructions()})\n",
    "\n",
    "    chain = prompt | llm | parser\n",
    "\n",
    "    response = chain.invoke({\"question\": question, \"format_instructions\": parser.get_format_instructions()})\n",
    "\n",
    "    print(response)\n",
    "    \n",
    "    return {\"messages\": [response.Topic]}"
   ]
  },
  {
   "cell_type": "code",
   "execution_count": 60,
   "id": "b1b278cb",
   "metadata": {},
   "outputs": [],
   "source": [
    "def router(state: State):\n",
    "    messages = state[\"messages\"]\n",
    "    last_message = messages[-1]\n",
    "    \n",
    "    if \"Marie Curie\" in str(last_message) or \"Nobel\" in str(last_message):\n",
    "        return \"Rag Call\"\n",
    "    else:\n",
    "        return \"LLM Call\""
   ]
  },
  {
   "cell_type": "code",
   "execution_count": 61,
   "id": "59aa8a4f",
   "metadata": {},
   "outputs": [],
   "source": [
    "def RAGChain(state : State):\n",
    "    message = state[\"messages\"]\n",
    "    \n",
    "    # Extract the first message (original question)\n",
    "    if isinstance(message[0], str):\n",
    "        question = message[0]\n",
    "    else:\n",
    "        question = message[0].content if hasattr(message[0], 'content') else str(message[0])\n",
    "    \n",
    "    template = \"\"\"Answer the question based on the following context:\n",
    "    {context}\n",
    "    \n",
    "    Question: {question} \n",
    "    \"\"\"\n",
    "    prompt = ChatPromptTemplate.from_template(template)\n",
    "    \n",
    "    chain = (\n",
    "        {\"context\": retriever, \"question\": RunnablePassthrough()}\n",
    "        | prompt\n",
    "        | llm\n",
    "        | StrOutputParser()\n",
    "    )\n",
    "    \n",
    "    response = chain.invoke(question)\n",
    "    \n",
    "    # Add the RAG response to the messages\n",
    "    return {\"messages\": [response]}"
   ]
  },
  {
   "cell_type": "code",
   "execution_count": 62,
   "id": "c545a59c",
   "metadata": {},
   "outputs": [],
   "source": [
    "def LLMChain(state: State):\n",
    "    message = state[\"messages\"]\n",
    "    \n",
    "    # Extract the content from the last message\n",
    "    if isinstance(message[-1], str):\n",
    "        question = message[-1]\n",
    "    else:\n",
    "        question = message[-1].content if hasattr(message[-1], 'content') else str(message[-1])\n",
    "    \n",
    "    query = \"Answer the question based on the knowledge you have about the question \" + question\n",
    "\n",
    "    response = llm.invoke(query)\n",
    "\n",
    "    return {\"messages\": [response.content]}"
   ]
  },
  {
   "cell_type": "code",
   "execution_count": 63,
   "id": "aede3818",
   "metadata": {},
   "outputs": [
    {
     "data": {
      "text/plain": [
       "<langgraph.graph.state.StateGraph at 0x1f7e5cfab50>"
      ]
     },
     "execution_count": 63,
     "metadata": {},
     "output_type": "execute_result"
    }
   ],
   "source": [
    "from langgraph.graph import StateGraph, END, START\n",
    "graph = StateGraph(State)\n",
    "\n",
    "graph.add_node(\"Agent\", LLMAgent)\n",
    "graph.add_node(\"Rag Chain\", RAGChain)\n",
    "graph.add_node(\"LLM Chain\", LLMChain)\n",
    "\n",
    "graph.set_entry_point(\"Agent\")\n",
    "\n",
    "graph.add_conditional_edges(\n",
    "    \"Agent\",\n",
    "    clean_router,\n",
    "    {\n",
    "        \"Rag Call\": \"Rag Chain\",\n",
    "        \"LLM Call\": \"LLM Chain\"\n",
    "    }\n",
    ")\n",
    "\n",
    "graph.add_edge(\"Rag Chain\", END)\n",
    "graph.add_edge(\"LLM Chain\", END)"
   ]
  },
  {
   "cell_type": "code",
   "execution_count": 64,
   "id": "e723dc8c",
   "metadata": {},
   "outputs": [
    {
     "data": {
      "image/png": "[encoded data removed]",
      "text/plain": [
       "<langgraph.graph.state.CompiledStateGraph object at 0x000001F7E5D40810>"
      ]
     },
     "execution_count": 64,
     "metadata": {},
     "output_type": "execute_result"
    }
   ],
   "source": [
    "builder = graph.compile()\n",
    "builder"
   ]
  },
  {
   "cell_type": "code",
   "execution_count": 65,
   "id": "a02a5df3",
   "metadata": {},
   "outputs": [
    {
     "name": "stdout",
     "output_type": "stream",
     "text": [
      "Topic=\"Marie Curie's Nobel Prizes\" Reasoning='The user is asking about the specific Nobel Prizes awarded to Marie Curie.'\n",
      "{'messages': [HumanMessage(content='What did Marie Curie got Nobel Price For?', additional_kwargs={}, response_metadata={}, id='3d680efe-1961-4ceb-ba97-bd3234ad7cbe'), HumanMessage(content=\"Marie Curie's Nobel Prizes\", additional_kwargs={}, response_metadata={}, id='c984b859-6e9a-4570-90a1-e3d126fcdafb'), HumanMessage(content='According to the text, Marie Curie received the Nobel Prize in Physics in 1903.  \\n', additional_kwargs={}, response_metadata={}, id='2ecb68c3-0af8-4ec0-9bf7-1165ab99dad1')]}\n",
      "{'messages': [HumanMessage(content='What did Marie Curie got Nobel Price For?', additional_kwargs={}, response_metadata={}, id='3d680efe-1961-4ceb-ba97-bd3234ad7cbe'), HumanMessage(content=\"Marie Curie's Nobel Prizes\", additional_kwargs={}, response_metadata={}, id='c984b859-6e9a-4570-90a1-e3d126fcdafb'), HumanMessage(content='According to the text, Marie Curie received the Nobel Prize in Physics in 1903.  \\n', additional_kwargs={}, response_metadata={}, id='2ecb68c3-0af8-4ec0-9bf7-1165ab99dad1')]}\n"
     ]
    }
   ],
   "source": [
    "query = {\"messages\": [\"What did Marie Curie got Nobel Price For?\"]}\n",
    "response = builder.invoke(query)\n",
    "print(response)"
   ]
  },
  {
   "cell_type": "code",
   "execution_count": 66,
   "id": "05a9dde5",
   "metadata": {},
   "outputs": [
    {
     "name": "stdout",
     "output_type": "stream",
     "text": [
      "Topic='Artificial Intelligence' Reasoning=\"The query directly asks about what AI is and how it works, making 'Artificial Intelligence' the most relevant topic.\"\n",
      "{'messages': [HumanMessage(content='What is An AI how does it work?', additional_kwargs={}, response_metadata={}, id='de3555db-a7e9-42c4-a012-f77d0df91e47'), HumanMessage(content='Artificial Intelligence', additional_kwargs={}, response_metadata={}, id='56424107-fd69-4597-9b9c-368d5ede590e'), HumanMessage(content=\"Please ask your question about Artificial Intelligence! I'm ready to answer based on the knowledge I've been trained on.  \\n\\nFor example, you could ask me about:\\n\\n* **Definitions and concepts:** What is AI? What are different types of AI?\\n* **Applications of AI:** How is AI used in healthcare, finance, or transportation?\\n* **Ethical considerations:** What are the ethical implications of AI?\\n* **History and future of AI:** How did AI develop, and what is its future potential?\\n\\n\\nI'm excited to discuss AI with you! 😊  \\n\\n\", additional_kwargs={}, response_metadata={}, id='01ed3323-7e64-4803-8029-8a058d361f1c')]}\n",
      "{'messages': [HumanMessage(content='What is An AI how does it work?', additional_kwargs={}, response_metadata={}, id='de3555db-a7e9-42c4-a012-f77d0df91e47'), HumanMessage(content='Artificial Intelligence', additional_kwargs={}, response_metadata={}, id='56424107-fd69-4597-9b9c-368d5ede590e'), HumanMessage(content=\"Please ask your question about Artificial Intelligence! I'm ready to answer based on the knowledge I've been trained on.  \\n\\nFor example, you could ask me about:\\n\\n* **Definitions and concepts:** What is AI? What are different types of AI?\\n* **Applications of AI:** How is AI used in healthcare, finance, or transportation?\\n* **Ethical considerations:** What are the ethical implications of AI?\\n* **History and future of AI:** How did AI develop, and what is its future potential?\\n\\n\\nI'm excited to discuss AI with you! 😊  \\n\\n\", additional_kwargs={}, response_metadata={}, id='01ed3323-7e64-4803-8029-8a058d361f1c')]}\n"
     ]
    }
   ],
   "source": [
    "query = {\"messages\": [\"What is An AI how does it work?\"]}\n",
    "response = builder.invoke(query)\n",
    "print(response)"
   ]
  },
  {
   "cell_type": "code",
   "execution_count": 68,
   "id": "3273a1ad",
   "metadata": {},
   "outputs": [
    {
     "name": "stdout",
     "output_type": "stream",
     "text": [
      "Topic='Marie Curie' Reasoning=\"The query is asking about 'Curie', which is a well-known last name associated with Marie Curie, a famous scientist.\"\n",
      "{'messages': [HumanMessage(content='Who is Curie?', additional_kwargs={}, response_metadata={}, id='83260485-a995-48e3-b8f6-ec4bdf614ab4'), HumanMessage(content='Marie Curie', additional_kwargs={}, response_metadata={}, id='3d6d26d0-0a10-4512-85b4-7b07a0909a6a'), HumanMessage(content='Curie was a pioneering physicist and chemist.  She was born in Poland in 1867 and moved to Paris to study. \\n', additional_kwargs={}, response_metadata={}, id='b3b6b5f8-a1d5-4fb0-96ff-bcc97c8e22fc')]}\n",
      "{'messages': [HumanMessage(content='Who is Curie?', additional_kwargs={}, response_metadata={}, id='83260485-a995-48e3-b8f6-ec4bdf614ab4'), HumanMessage(content='Marie Curie', additional_kwargs={}, response_metadata={}, id='3d6d26d0-0a10-4512-85b4-7b07a0909a6a'), HumanMessage(content='Curie was a pioneering physicist and chemist.  She was born in Poland in 1867 and moved to Paris to study. \\n', additional_kwargs={}, response_metadata={}, id='b3b6b5f8-a1d5-4fb0-96ff-bcc97c8e22fc')]}\n"
     ]
    }
   ],
   "source": [
    "query = {\"messages\": [\"Who is Curie?\"]}\n",
    "response = builder.invoke(query)\n",
    "print(response)"
   ]
  },
  {
   "cell_type": "code",
   "execution_count": null,
   "id": "944567f1",
   "metadata": {},
   "outputs": [],
   "source": []
  }
 ],
 "metadata": {
  "kernelspec": {
   "display_name": "langgraph-handson",
   "language": "python",
   "name": "python3"
  },
  "language_info": {
   "codemirror_mode": {
    "name": "ipython",
    "version": 3
   },
   "file_extension": ".py",
   "mimetype": "text/x-python",
   "name": "python",
   "nbconvert_exporter": "python",
   "pygments_lexer": "ipython3",
   "version": "3.11.1"
  }
 },
 "nbformat": 4,
 "nbformat_minor": 5
}
