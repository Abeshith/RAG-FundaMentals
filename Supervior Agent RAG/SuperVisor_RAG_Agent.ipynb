{
  "cells": [
    {
      "cell_type": "code",
      "source": [
        "!pip install langchain langchain_groq langchain-chroma sentence-transformers langgraph langchain_community arxiv tavily-python chromadb"
      ],
      "metadata": {
        "id": "ZAcgBH7v33pe"
      },
      "execution_count": null,
      "outputs": []
    },
    {
      "cell_type": "code",
      "source": [
        "!pip install wikipedia langchain_tavily"
      ],
      "metadata": {
        "id": "xOS4HATy589j"
      },
      "execution_count": null,
      "outputs": []
    },
    {
      "cell_type": "code",
      "source": [
        "import os\n",
        "from google.colab import userdata\n",
        "GROQ_API_KEY = userdata.get('GROQ_API_KEY')\n",
        "os.environ['GROQ_API_KEY'] = GROQ_API_KEY\n",
        "\n",
        "TAVILY_API_KEY = userdata.get('TAVILY_API_KEY')\n",
        "os.environ['TAVILY_API_KEY'] = TAVILY_API_KEY"
      ],
      "metadata": {
        "id": "-bVvIbmE4v59"
      },
      "execution_count": 1,
      "outputs": []
    },
    {
      "cell_type": "code",
      "source": [
        "import warnings\n",
        "warnings.simplefilter('ignore')"
      ],
      "metadata": {
        "id": "QkijaswA9Hgr"
      },
      "execution_count": 2,
      "outputs": []
    },
    {
      "cell_type": "code",
      "source": [
        "from typing import TypedDict, Annotated, List, Literal\n",
        "from pydantic import BaseModel, Field\n",
        "from langchain_core.messages import AnyMessage, HumanMessage, AIMessage\n",
        "from langgraph.graph.message import add_messages\n",
        "from langchain.schema import Document\n",
        "\n",
        "# Define Pydantic class for message types\n",
        "class QueryType(BaseModel):\n",
        "    \"\"\"Classification of query type\"\"\"\n",
        "    category: Literal[\"research\", \"general\", \"blogs\"] = Field(\n",
        "        description=\"Category of the query: research for academic papers, general for encyclopedic knowledge, blogs for current events/opinions\"\n",
        "    )\n",
        "    confidence: float = Field(\n",
        "        description=\"Confidence score between 0 and 1\"\n",
        "    )\n",
        "\n",
        "# Define State for the graph\n",
        "class SupervisorState(TypedDict):\n",
        "    messages: Annotated[List[AnyMessage], add_messages]\n",
        "    query: str\n",
        "    query_type: QueryType\n",
        "    search_results: List[Document]\n",
        "    retrieved_documents: List[Document]\n",
        "    final_answer: str\n",
        "    next_action: str"
      ],
      "metadata": {
        "id": "9hwsAmMT3-I3"
      },
      "execution_count": 3,
      "outputs": []
    },
    {
      "cell_type": "code",
      "source": [
        "from langchain_groq import ChatGroq\n",
        "from langchain_community.embeddings import SentenceTransformerEmbeddings\n",
        "\n",
        "# Initialize LLM\n",
        "llm = ChatGroq(\n",
        "    model=\"llama-3.3-70b-versatile\",\n",
        "    temperature=0.3\n",
        ")\n",
        "\n",
        "embeddings = SentenceTransformerEmbeddings(\n",
        "    model_name=\"sentence-transformers/all-MiniLM-L6-v2\"\n",
        ")"
      ],
      "metadata": {
        "colab": {
          "base_uri": "https://localhost:8080/"
        },
        "id": "xgz35iPm4qTc",
        "outputId": "29f59f47-0fb0-412f-91e9-1653d737b6bd"
      },
      "execution_count": 4,
      "outputs": [
        {
          "output_type": "stream",
          "name": "stderr",
          "text": [
            "/tmp/ipython-input-3801392250.py:10: LangChainDeprecationWarning: The class `HuggingFaceEmbeddings` was deprecated in LangChain 0.2.2 and will be removed in 1.0. An updated version of the class exists in the :class:`~langchain-huggingface package and should be used instead. To use it run `pip install -U :class:`~langchain-huggingface` and import as `from :class:`~langchain_huggingface import HuggingFaceEmbeddings``.\n",
            "  embeddings = SentenceTransformerEmbeddings(\n"
          ]
        }
      ]
    },
    {
      "cell_type": "code",
      "source": [
        "from langchain_community.vectorstores import Chroma\n",
        "\n",
        "research_vectorstore = Chroma(\n",
        "    collection_name=\"research_papers\",\n",
        "    embedding_function=embeddings,\n",
        "    persist_directory=\"./research_vectorstore\"\n",
        ")\n",
        "\n",
        "general_vectorstore = Chroma(\n",
        "    collection_name=\"general_knowledge\",\n",
        "    embedding_function=embeddings,\n",
        "    persist_directory=\"./general_vectorstore\"\n",
        ")\n",
        "\n",
        "blogs_vectorstore = Chroma(\n",
        "    collection_name=\"blogs_articles\",\n",
        "    embedding_function=embeddings,\n",
        "    persist_directory=\"./blogs_vectorstore\"\n",
        ")"
      ],
      "metadata": {
        "colab": {
          "base_uri": "https://localhost:8080/"
        },
        "id": "khAdsg-Y48AJ",
        "outputId": "3d706bb4-c40a-461a-b450-6a806190cb1e"
      },
      "execution_count": 5,
      "outputs": [
        {
          "output_type": "stream",
          "name": "stderr",
          "text": [
            "/tmp/ipython-input-3339131044.py:3: LangChainDeprecationWarning: The class `Chroma` was deprecated in LangChain 0.2.9 and will be removed in 1.0. An updated version of the class exists in the :class:`~langchain-chroma package and should be used instead. To use it run `pip install -U :class:`~langchain-chroma` and import as `from :class:`~langchain_chroma import Chroma``.\n",
            "  research_vectorstore = Chroma(\n"
          ]
        }
      ]
    },
    {
      "cell_type": "code",
      "source": [
        "from langchain_community.tools import WikipediaQueryRun\n",
        "from langchain_community.utilities import WikipediaAPIWrapper, ArxivAPIWrapper\n",
        "from langchain_community.tools.tavily_search import TavilySearchResults\n",
        "from langchain_community.tools.arxiv.tool import ArxivQueryRun\n",
        "from langchain.text_splitter import RecursiveCharacterTextSplitter\n",
        "\n",
        "# Initialize tools\n",
        "wikipedia_tool = WikipediaQueryRun(api_wrapper=WikipediaAPIWrapper())\n",
        "arxiv_tool = ArxivQueryRun(api_wrapper=ArxivAPIWrapper())\n",
        "tavily_tool = TavilySearchResults(max_results=3)\n",
        "\n",
        "# Text splitter for processing documents\n",
        "text_splitter = RecursiveCharacterTextSplitter(\n",
        "    chunk_size=1000,\n",
        "    chunk_overlap=200\n",
        ")"
      ],
      "metadata": {
        "colab": {
          "base_uri": "https://localhost:8080/"
        },
        "id": "xbAxwjHW5qe_",
        "outputId": "66732232-f329-4441-a2c9-79bb73491005"
      },
      "execution_count": 6,
      "outputs": [
        {
          "output_type": "stream",
          "name": "stderr",
          "text": [
            "/tmp/ipython-input-547652763.py:10: LangChainDeprecationWarning: The class `TavilySearchResults` was deprecated in LangChain 0.3.25 and will be removed in 1.0. An updated version of the class exists in the :class:`~langchain-tavily package and should be used instead. To use it run `pip install -U :class:`~langchain-tavily` and import as `from :class:`~langchain_tavily import TavilySearch``.\n",
            "  tavily_tool = TavilySearchResults(max_results=3)\n"
          ]
        }
      ]
    },
    {
      "cell_type": "code",
      "source": [
        "def supervisor_node(state: SupervisorState) -> SupervisorState:\n",
        "    \"\"\"Classify the query and decide next action\"\"\"\n",
        "\n",
        "    query = state[\"query\"]\n",
        "\n",
        "    # Create classification prompt\n",
        "    classification_prompt = f\"\"\"\n",
        "    Classify the following query into one of three categories:\n",
        "    - \"research\": For academic papers, scientific research, technical studies\n",
        "    - \"general\": For encyclopedic knowledge, definitions, historical facts\n",
        "    - \"blogs\": For current events, opinions, news, trending topics\n",
        "\n",
        "    Query: {query}\n",
        "\n",
        "    Respond with the category and confidence score (0-1).\n",
        "    \"\"\"\n",
        "\n",
        "    # Use LLM to classify\n",
        "    structured_llm = llm.with_structured_output(QueryType)\n",
        "    query_type = structured_llm.invoke(classification_prompt)\n",
        "\n",
        "    # Check if information exists in vector store\n",
        "    if query_type.category == \"research\":\n",
        "        results = research_vectorstore.similarity_search(query, k=1)\n",
        "    elif query_type.category == \"general\":\n",
        "        results = general_vectorstore.similarity_search(query, k=1)\n",
        "    else:\n",
        "        results = blogs_vectorstore.similarity_search(query, k=1)\n",
        "\n",
        "    # Decide next action based on retrieval results\n",
        "    if results and len(results) > 0:\n",
        "        # Check relevance threshold\n",
        "        next_action = \"retrieve_from_vectorstore\"\n",
        "    else:\n",
        "        next_action = f\"search_{query_type.category}\"\n",
        "\n",
        "    return {\n",
        "        **state,\n",
        "        \"query_type\": query_type,\n",
        "        \"next_action\": next_action\n",
        "    }"
      ],
      "metadata": {
        "id": "j0VScMCg57mf"
      },
      "execution_count": 7,
      "outputs": []
    },
    {
      "cell_type": "code",
      "source": [
        "def search_research_node(state: SupervisorState) -> SupervisorState:\n",
        "    \"\"\"Search arXiv for research papers\"\"\"\n",
        "\n",
        "    query = state[\"query\"]\n",
        "\n",
        "    # Search arXiv\n",
        "    results = arxiv_tool.run(query)\n",
        "\n",
        "    # Convert to documents\n",
        "    documents = [Document(page_content=results, metadata={\"source\": \"arxiv\", \"query\": query})]\n",
        "\n",
        "    # Split and store in vector database\n",
        "    split_docs = text_splitter.split_documents(documents)\n",
        "    research_vectorstore.add_documents(split_docs)\n",
        "\n",
        "    return {\n",
        "        **state,\n",
        "        \"search_results\": split_docs,\n",
        "        \"next_action\": \"retrieve_from_vectorstore\"\n",
        "    }"
      ],
      "metadata": {
        "id": "zZlcb9Em6aDw"
      },
      "execution_count": 8,
      "outputs": []
    },
    {
      "cell_type": "code",
      "source": [
        "def search_general_node(state: SupervisorState) -> SupervisorState:\n",
        "    \"\"\"Search Wikipedia for general knowledge\"\"\"\n",
        "\n",
        "    query = state[\"query\"]\n",
        "\n",
        "    # Search Wikipedia\n",
        "    results = wikipedia_tool.run(query)\n",
        "\n",
        "    # Convert to documents\n",
        "    documents = [Document(page_content=results, metadata={\"source\": \"wikipedia\", \"query\": query})]\n",
        "\n",
        "    # Split and store in vector database\n",
        "    split_docs = text_splitter.split_documents(documents)\n",
        "    general_vectorstore.add_documents(split_docs)\n",
        "\n",
        "    return {\n",
        "        **state,\n",
        "        \"search_results\": split_docs,\n",
        "        \"next_action\": \"retrieve_from_vectorstore\"\n",
        "    }"
      ],
      "metadata": {
        "id": "i2VckYfX6ejs"
      },
      "execution_count": 9,
      "outputs": []
    },
    {
      "cell_type": "code",
      "source": [
        "def search_blogs_node(state: SupervisorState) -> SupervisorState:\n",
        "    \"\"\"Search Tavily for blog articles and current content\"\"\"\n",
        "\n",
        "    query = state[\"query\"]\n",
        "\n",
        "    # Search with Tavily\n",
        "    results = tavily_tool.invoke(query)\n",
        "\n",
        "    # Convert results to documents\n",
        "    documents = []\n",
        "    for result in results:\n",
        "        content = result.get('content', '') + \" \" + result.get('title', '')\n",
        "        doc = Document(\n",
        "            page_content=content,\n",
        "            metadata={\"source\": \"tavily\", \"url\": result.get('url', ''), \"query\": query}\n",
        "        )\n",
        "        documents.append(doc)\n",
        "\n",
        "    # Split and store in vector database\n",
        "    split_docs = text_splitter.split_documents(documents)\n",
        "    blogs_vectorstore.add_documents(split_docs)\n",
        "\n",
        "    return {\n",
        "        **state,\n",
        "        \"search_results\": split_docs,\n",
        "        \"next_action\": \"retrieve_from_vectorstore\"\n",
        "    }"
      ],
      "metadata": {
        "id": "R8KMyYK56fS9"
      },
      "execution_count": 10,
      "outputs": []
    },
    {
      "cell_type": "code",
      "source": [
        "def retrieve_from_vectorstore_node(state: SupervisorState) -> SupervisorState:\n",
        "    \"\"\"Retrieve relevant documents from appropriate vector store\"\"\"\n",
        "\n",
        "    query = state[\"query\"]\n",
        "    query_type = state[\"query_type\"]\n",
        "\n",
        "    # Select appropriate vector store\n",
        "    if query_type.category == \"research\":\n",
        "        vectorstore = research_vectorstore\n",
        "    elif query_type.category == \"general\":\n",
        "        vectorstore = general_vectorstore\n",
        "    else:\n",
        "        vectorstore = blogs_vectorstore\n",
        "\n",
        "    # Retrieve relevant documents\n",
        "    retrieved_docs = vectorstore.similarity_search(query, k=3)\n",
        "\n",
        "    return {\n",
        "        **state,\n",
        "        \"retrieved_documents\": retrieved_docs,\n",
        "        \"next_action\": \"generate_answer\"\n",
        "    }"
      ],
      "metadata": {
        "id": "w72BAGob6lVl"
      },
      "execution_count": 11,
      "outputs": []
    },
    {
      "cell_type": "code",
      "source": [
        "def generate_answer_node(state: SupervisorState) -> SupervisorState:\n",
        "    \"\"\"Generate final answer using retrieved documents\"\"\"\n",
        "\n",
        "    query = state[\"query\"]\n",
        "    retrieved_docs = state[\"retrieved_documents\"]\n",
        "\n",
        "    # Prepare context from retrieved documents\n",
        "    context = \"\\n\\n\".join([doc.page_content for doc in retrieved_docs])\n",
        "\n",
        "    # Create RAG prompt\n",
        "    rag_prompt = f\"\"\"\n",
        "    Based on the following context, answer the user's question comprehensively and accurately.\n",
        "\n",
        "    Context:\n",
        "    {context}\n",
        "\n",
        "    Question: {query}\n",
        "\n",
        "    Answer:\n",
        "    \"\"\"\n",
        "\n",
        "    # Generate answer\n",
        "    response = llm.invoke(rag_prompt)\n",
        "    final_answer = response.content\n",
        "\n",
        "    return {\n",
        "        **state,\n",
        "        \"final_answer\": final_answer,\n",
        "        \"messages\": state[\"messages\"] + [AIMessage(content=final_answer)]\n",
        "    }"
      ],
      "metadata": {
        "id": "k9T6GXYJ6oyf"
      },
      "execution_count": 12,
      "outputs": []
    },
    {
      "cell_type": "code",
      "source": [
        "from langgraph.graph import END\n",
        "def route_next_action(state: SupervisorState) -> str:\n",
        "    \"\"\"Route to next node based on next_action\"\"\"\n",
        "    next_action = state.get(\"next_action\", \"\")\n",
        "\n",
        "    if next_action == \"search_research\":\n",
        "        return \"search_research\"\n",
        "    elif next_action == \"search_general\":\n",
        "        return \"search_general\"\n",
        "    elif next_action == \"search_blogs\":\n",
        "        return \"search_blogs\"\n",
        "    elif next_action == \"retrieve_from_vectorstore\":\n",
        "        return \"retrieve_from_vectorstore\"\n",
        "    elif next_action == \"generate_answer\":\n",
        "        return \"generate_answer\"\n",
        "    else:\n",
        "        return END"
      ],
      "metadata": {
        "id": "lAcc7HNK6roS"
      },
      "execution_count": 13,
      "outputs": []
    },
    {
      "cell_type": "code",
      "source": [
        "from langgraph.graph import StateGraph, START, END\n",
        "\n",
        "# Create the graph\n",
        "workflow = StateGraph(SupervisorState)\n",
        "\n",
        "# Add nodes\n",
        "workflow.add_node(\"supervisor\", supervisor_node)\n",
        "workflow.add_node(\"search_research\", search_research_node)\n",
        "workflow.add_node(\"search_general\", search_general_node)\n",
        "workflow.add_node(\"search_blogs\", search_blogs_node)\n",
        "workflow.add_node(\"retrieve_from_vectorstore\", retrieve_from_vectorstore_node)\n",
        "workflow.add_node(\"generate_answer\", generate_answer_node)\n",
        "\n",
        "# Add edges\n",
        "workflow.add_edge(START, \"supervisor\")\n",
        "workflow.add_conditional_edges(\n",
        "    \"supervisor\",\n",
        "    route_next_action,\n",
        "    {\n",
        "        \"search_research\": \"search_research\",\n",
        "        \"search_general\": \"search_general\",\n",
        "        \"search_blogs\": \"search_blogs\",\n",
        "        \"retrieve_from_vectorstore\": \"retrieve_from_vectorstore\"\n",
        "    }\n",
        ")\n",
        "workflow.add_edge(\"search_research\", \"retrieve_from_vectorstore\")\n",
        "workflow.add_edge(\"search_general\", \"retrieve_from_vectorstore\")\n",
        "workflow.add_edge(\"search_blogs\", \"retrieve_from_vectorstore\")\n",
        "workflow.add_edge(\"retrieve_from_vectorstore\", \"generate_answer\")\n",
        "workflow.add_edge(\"generate_answer\", END)\n",
        "\n",
        "# Compile the graph\n",
        "app = workflow.compile()"
      ],
      "metadata": {
        "id": "Ob_Y2rsj6vPv"
      },
      "execution_count": 14,
      "outputs": []
    },
    {
      "cell_type": "code",
      "source": [
        "app"
      ],
      "metadata": {
        "colab": {
          "base_uri": "https://localhost:8080/",
          "height": 548
        },
        "id": "2wi88xvB66mu",
        "outputId": "f30125fe-c9ed-43e7-f925-714287ec3fc2"
      },
      "execution_count": 15,
      "outputs": [
        {
          "output_type": "execute_result",
          "data": {
            "text/plain": [
              "<langgraph.graph.state.CompiledStateGraph object at 0x7fe68e34f110>"
            ],
            "image/png": "[encoded data removed]"
          },
          "metadata": {},
          "execution_count": 15
        }
      ]
    },
    {
      "cell_type": "code",
      "source": [
        "def query_supervisor_rag(question: str) -> str:\n",
        "    \"\"\"Query the supervisor RAG system\"\"\"\n",
        "\n",
        "    initial_state = {\n",
        "        \"messages\": [HumanMessage(content=question)],\n",
        "        \"query\": question,\n",
        "        \"query_type\": None,\n",
        "        \"search_results\": [],\n",
        "        \"retrieved_documents\": [],\n",
        "        \"final_answer\": \"\",\n",
        "        \"next_action\": \"\"\n",
        "    }\n",
        "\n",
        "    # Run the graph\n",
        "    result = app.invoke(initial_state)\n",
        "\n",
        "    return result[\"final_answer\"]"
      ],
      "metadata": {
        "id": "wM8dSno465wW"
      },
      "execution_count": 16,
      "outputs": []
    },
    {
      "cell_type": "code",
      "source": [
        "research_answer = query_supervisor_rag(\"What are the latest developments in transformer neural networks?\")\n",
        "print(\"Research Answer:\", research_answer)"
      ],
      "metadata": {
        "colab": {
          "base_uri": "https://localhost:8080/"
        },
        "id": "UHBMEGDm7D1I",
        "outputId": "59c50469-1d97-4279-ce50-3872a8a33b43"
      },
      "execution_count": 17,
      "outputs": [
        {
          "output_type": "stream",
          "name": "stdout",
          "text": [
            "Research Answer: The provided context does not specifically mention the latest developments in transformer neural networks. The context includes two separate summaries of research papers: one on synaptic sampling of neural networks (published in 2023) and another on deep learning for Music Information Retrieval (MIR) (published in 2020). Neither of these summaries directly discusses transformer neural networks or their latest developments.\n",
            "\n",
            "However, based on general knowledge, transformer neural networks have been a significant area of research and development in the field of artificial intelligence, particularly in natural language processing (NLP) and computer vision. They were introduced in the paper \"Attention Is All You Need\" by Vaswani et al. in 2017 and have since become a cornerstone in many state-of-the-art models for tasks such as machine translation, text generation, and question-answering.\n",
            "\n",
            "Some of the latest developments and trends in transformer neural networks include:\n",
            "\n",
            "1. **Scaling Up Models**: Researchers have been working on scaling up transformer models to achieve better performance on various tasks. Models like BERT (Bidirectional Encoder Representations from Transformers), RoBERTa (Robustly optimized BERT approach), and others have shown significant improvements in NLP tasks.\n",
            "\n",
            "2. **Efficient Transformers**: To address the computational costs and environmental impact of training large transformer models, there has been a push towards developing more efficient architectures. Techniques such as sparse attention, linear attention, and knowledge distillation have been explored to reduce the computational requirements without sacrificing performance.\n",
            "\n",
            "3. **Multimodal Transformers**: There is an increasing interest in applying transformer architectures to multimodal tasks, combining text, images, audio, and other forms of data. This includes models designed for visual-linguistic tasks, such as visual question answering and image-text retrieval.\n",
            "\n",
            "4. **Explainability and Interpretability**: As transformer models become more ubiquitous, there is a growing need to understand how they make predictions. Research into the explainability and interpretability of transformer models aims to provide insights into their decision-making processes.\n",
            "\n",
            "5. **Specialized Transformers for Specific Tasks**: Researchers are also exploring the development of transformer models tailored for specific domains or tasks, such as transformers for time-series forecasting, medical imaging, or music processing.\n",
            "\n",
            "For the most current and detailed information on the latest developments in transformer neural networks, consulting recent research papers and publications in top-tier conferences and journals in the field of artificial intelligence and machine learning would be necessary.\n"
          ]
        }
      ]
    },
    {
      "cell_type": "code",
      "source": [
        "general_answer = query_supervisor_rag(\"What is One Piece in General?\")\n",
        "print(\"General Answer:\", general_answer)"
      ],
      "metadata": {
        "colab": {
          "base_uri": "https://localhost:8080/"
        },
        "id": "P16eRWqe7IjF",
        "outputId": "fb0fcd02-419d-4137-f792-72e8eb2b9ec0"
      },
      "execution_count": 18,
      "outputs": [
        {
          "output_type": "stream",
          "name": "stdout",
          "text": [
            "General Answer: The question \"What is One Piece in General?\" seems unrelated to the provided context about France. However, I'll provide a general answer to the question.\n",
            "\n",
            "One Piece is a popular Japanese manga and anime series created by Eiichiro Oda. The story follows Monkey D. Luffy, a young boy who becomes a pirate after eating the Gum-Gum Fruit, which gives him the ability to stretch and manipulate his body like rubber. Luffy's dream is to become the Pirate King, and he sets out on a journey to find the legendary treasure known as \"One Piece,\" which will grant him that title.\n",
            "\n",
            "The series is known for its unique characters, intricate world-building, and epic storylines, which often explore themes of friendship, adventure, and the struggle between good and evil. One Piece has become a cultural phenomenon in Japan and worldwide, with a vast and dedicated fan base. It has been adapted into various forms of media, including anime, movies, video games, and merchandise.\n",
            "\n",
            "If you're looking for more information about One Piece or have specific questions about the series, feel free to ask!\n"
          ]
        }
      ]
    },
    {
      "cell_type": "code",
      "source": [
        "blog_answer = query_supervisor_rag(\"What are the latest trends in artificial intelligence?\")\n",
        "print(\"Blog Answer:\", blog_answer)"
      ],
      "metadata": {
        "colab": {
          "base_uri": "https://localhost:8080/"
        },
        "id": "qKlyTN4b7Ob_",
        "outputId": "9a9daf2f-576d-43d3-c727-2ec2d8f4be03"
      },
      "execution_count": 19,
      "outputs": [
        {
          "output_type": "stream",
          "name": "stdout",
          "text": [
            "Blog Answer: The latest trends in artificial intelligence, based on the provided context, appear to be focused on the development of probabilistic artificial neural networks and techniques that enable the quantification of uncertainty in AI methods. Specifically, the context highlights the following trends:\n",
            "\n",
            "1. **Probabilistic Artificial Neural Networks**: There is a growing interest in probabilistic artificial neural networks that can explicitly describe the uncertainty of AI methods. This is seen as a key area of development, with potential applications in various fields.\n",
            "2. **Monte Carlo Sampling and Stochastic Computing**: The use of Monte Carlo sampling and stochastic computing is being explored as a means to quantify uncertainty in AI methods. However, the high costs of stochastic sampling on deterministic computing hardware have limited the development of these techniques.\n",
            "3. **Emerging Computing Systems**: The emergence of computing systems that are amenable to hardware-level probabilistic computing, such as those that leverage stochastic devices, is expected to make probabilistic neural networks more feasible in the near future.\n",
            "4. **ScANN Technique**: The scANN technique, which enables neural networks to be sampled directly by treating the weights as Bernoulli coin flips, is a notable development in this area. This method is well-suited for probabilistic computing techniques and can nearly match fully deterministic performance while describing the uncertainty of correct and incorrect neural network outputs.\n",
            "5. **Nonlinear Identification and Control**: The application of AI techniques, such as neural networks, to nonlinear identification and control problems, such as those found in UAV systems, is also a trend. The use of model-free control methods, like Model Reference Control (MRC), and neural network-based approaches, like Model-Based Reinforcement Learning, are being explored to control complex systems without requiring an equation-driven model.\n",
            "\n",
            "Overall, the latest trends in artificial intelligence are focused on developing more robust, probabilistic, and uncertain-aware AI methods, as well as exploring new computing architectures and techniques that can support these developments.\n"
          ]
        }
      ]
    },
    {
      "cell_type": "code",
      "source": [
        "research_answer = query_supervisor_rag(\"What are the latest Developements in Retrieval Augmented Generation?\")\n",
        "print(\"Research Answer:\", research_answer)"
      ],
      "metadata": {
        "colab": {
          "base_uri": "https://localhost:8080/"
        },
        "id": "dIXVrouz7Tel",
        "outputId": "187c1356-3373-412f-bd61-00f06dc6a49d"
      },
      "execution_count": 22,
      "outputs": [
        {
          "output_type": "stream",
          "name": "stdout",
          "text": [
            "Research Answer: Based on the provided context, it appears that the topic of discussion is Deep Learning for Music Information Retrieval (MIR) and audio retrieval, rather than Retrieval Augmented Generation. The context does not provide any information on the latest developments in Retrieval Augmented Generation.\n",
            "\n",
            "However, I can provide some general information on Retrieval Augmented Generation. Retrieval Augmented Generation is a technique that combines the strengths of retrieval-based and generation-based approaches in natural language processing and other areas of artificial intelligence. The basic idea is to use a retrieval system to fetch relevant information from a database or knowledge graph, and then use a generation model to create new text or other forms of output based on the retrieved information.\n",
            "\n",
            "Some of the latest developments in Retrieval Augmented Generation include:\n",
            "\n",
            "1. **Improved retrieval models**: Researchers have been working on developing more effective retrieval models that can fetch relevant information from large databases or knowledge graphs.\n",
            "2. **Integration with generative models**: There has been a focus on integrating retrieval models with generative models, such as language models or image generation models, to create more coherent and informative output.\n",
            "3. **Multimodal retrieval**: Researchers have been exploring the use of multimodal retrieval, which involves retrieving information from multiple sources, such as text, images, and audio, to generate more comprehensive output.\n",
            "4. **Explainability and transparency**: There is a growing interest in developing more explainable and transparent Retrieval Augmented Generation models, which can provide insights into how the retrieval and generation processes work.\n",
            "\n",
            "Some of the key applications of Retrieval Augmented Generation include:\n",
            "\n",
            "1. **Text generation**: Retrieval Augmented Generation can be used to generate coherent and informative text, such as articles, stories, or dialogues.\n",
            "2. **Image and video generation**: The technique can be used to generate images and videos based on retrieved information, such as generating images of objects or scenes.\n",
            "3. **Question answering**: Retrieval Augmented Generation can be used to generate answers to questions based on retrieved information from a knowledge graph or database.\n",
            "4. **Chatbots and conversational systems**: The technique can be used to generate responses to user input in chatbots and conversational systems.\n",
            "\n",
            "In summary, while the provided context does not discuss Retrieval Augmented Generation, the technique is an active area of research with many potential applications in natural language processing, computer vision, and other areas of artificial intelligence.\n"
          ]
        }
      ]
    },
    {
      "cell_type": "code",
      "source": [],
      "metadata": {
        "id": "shYfv8YE-kCR"
      },
      "execution_count": 20,
      "outputs": []
    }
  ],
  "metadata": {
    "accelerator": "GPU",
    "colab": {
      "gpuType": "T4",
      "provenance": []
    },
    "kernelspec": {
      "display_name": "Python 3",
      "name": "python3"
    },
    "language_info": {
      "name": "python"
    }
  },
  "nbformat": 4,
  "nbformat_minor": 0
}