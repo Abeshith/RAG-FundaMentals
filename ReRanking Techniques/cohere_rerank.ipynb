{
 "cells": [
  {
   "cell_type": "code",
   "execution_count": 3,
   "id": "d686f57c",
   "metadata": {},
   "outputs": [
    {
     "name": "stderr",
     "output_type": "stream",
     "text": [
      "d:\\RAG Pipeline\\.venv\\Lib\\site-packages\\tqdm\\auto.py:21: TqdmWarning: IProgress not found. Please update jupyter and ipywidgets. See https://ipywidgets.readthedocs.io/en/stable/user_install.html\n",
      "  from .autonotebook import tqdm as notebook_tqdm\n"
     ]
    }
   ],
   "source": [
    "from sentence_transformers import SentenceTransformer\n",
    "model = SentenceTransformer('sentence-transformers/paraphrase-xlm-r-multilingual-v1')"
   ]
  },
  {
   "cell_type": "code",
   "execution_count": 4,
   "id": "0544486b",
   "metadata": {},
   "outputs": [
    {
     "data": {
      "text/plain": [
       "8"
      ]
     },
     "execution_count": 4,
     "metadata": {},
     "output_type": "execute_result"
    }
   ],
   "source": [
    "documents = [\n",
    "    \"This a list which containing sample documents.\",\n",
    "    \"Keywords are important for keyword-based search.\",\n",
    "    \"Document analysis involves extracting keywords.\",\n",
    "    \"Keyword-based search relies on sparse embeddings.\",\n",
    "    \"Understsnding document structure aids in keyword extraction.\",\n",
    "    \"Efficient keyword extraction enhances search accuracy.\",\n",
    "    \"Semacntic similarity improves document retrieval performance.\",\n",
    "    \"Machine learning techniques can optimize keyword extraction methods.\"\n",
    "]\n",
    "len(documents)"
   ]
  },
  {
   "cell_type": "code",
   "execution_count": 5,
   "id": "1c1dcf5f",
   "metadata": {},
   "outputs": [],
   "source": [
    "query = \"Natural language processing techniques enhances keyword extraction efficiency.\""
   ]
  },
  {
   "cell_type": "code",
   "execution_count": 6,
   "id": "49045f9e",
   "metadata": {},
   "outputs": [],
   "source": [
    "docs_embeddings = model.encode(documents)\n",
    "query_embedding = model.encode(query)"
   ]
  },
  {
   "cell_type": "code",
   "execution_count": 8,
   "id": "634ffc0b",
   "metadata": {},
   "outputs": [
    {
     "data": {
      "text/plain": [
       "array([[0.18442771, 0.45484942, 0.57262063, 0.44097388, 0.61043894,\n",
       "        0.7594256 , 0.5526097 , 0.79599875]], dtype=float32)"
      ]
     },
     "execution_count": 8,
     "metadata": {},
     "output_type": "execute_result"
    }
   ],
   "source": [
    "from sklearn.metrics.pairwise import cosine_similarity\n",
    "import numpy as np\n",
    "similarities = cosine_similarity(np.array([query_embedding]), docs_embeddings)\n",
    "similarities"
   ]
  },
  {
   "cell_type": "code",
   "execution_count": 10,
   "id": "1e355d57",
   "metadata": {},
   "outputs": [
    {
     "data": {
      "text/plain": [
       "array([7, 5, 4, 2, 6, 1, 3, 0])"
      ]
     },
     "execution_count": 10,
     "metadata": {},
     "output_type": "execute_result"
    }
   ],
   "source": [
    "index = np.argsort(similarities[0])[::-1]\n",
    "index"
   ]
  },
  {
   "cell_type": "code",
   "execution_count": 11,
   "id": "e10b4fab",
   "metadata": {},
   "outputs": [
    {
     "data": {
      "text/plain": [
       "[('Machine learning techniques can optimize keyword extraction methods.',\n",
       "  np.float32(0.79599875)),\n",
       " ('Efficient keyword extraction enhances search accuracy.',\n",
       "  np.float32(0.7594256)),\n",
       " ('Understsnding document structure aids in keyword extraction.',\n",
       "  np.float32(0.61043894)),\n",
       " ('Document analysis involves extracting keywords.', np.float32(0.57262063)),\n",
       " ('Semacntic similarity improves document retrieval performance.',\n",
       "  np.float32(0.5526097)),\n",
       " ('Keywords are important for keyword-based search.', np.float32(0.45484942)),\n",
       " ('Keyword-based search relies on sparse embeddings.', np.float32(0.44097388)),\n",
       " ('This a list which containing sample documents.', np.float32(0.18442771))]"
      ]
     },
     "execution_count": 11,
     "metadata": {},
     "output_type": "execute_result"
    }
   ],
   "source": [
    "ranked_docs = [(documents[i], similarities[0][i]) for i in index]\n",
    "ranked_docs"
   ]
  },
  {
   "cell_type": "code",
   "execution_count": 14,
   "id": "139f04e4",
   "metadata": {},
   "outputs": [
    {
     "data": {
      "text/plain": [
       "['Machine learning techniques can optimize keyword extraction methods.',\n",
       " 'Efficient keyword extraction enhances search accuracy.',\n",
       " 'Understsnding document structure aids in keyword extraction.',\n",
       " 'Document analysis involves extracting keywords.']"
      ]
     },
     "execution_count": 14,
     "metadata": {},
     "output_type": "execute_result"
    }
   ],
   "source": [
    "top_4_docs = [doc[0] for doc in ranked_docs[:4]]\n",
    "top_4_docs"
   ]
  },
  {
   "cell_type": "code",
   "execution_count": 2,
   "id": "9e9e07ef",
   "metadata": {},
   "outputs": [],
   "source": [
    "import cohere\n",
    "co = cohere.ClientV2(\"YkgFReu3f2LWWIJhDXa2TV2LzRhZlQaFAwGvGDNo\")"
   ]
  },
  {
   "cell_type": "code",
   "execution_count": 15,
   "id": "d8badfb1",
   "metadata": {},
   "outputs": [],
   "source": [
    "response = co.rerank(\n",
    "    model=\"rerank-v3.5\",\n",
    "    query= \"Natural language processing techniques enhances keyword extraction efficiency.\",\n",
    "    documents=top_4_docs,\n",
    "    return_documents=True,\n",
    ")"
   ]
  },
  {
   "cell_type": "code",
   "execution_count": 16,
   "id": "d3553ac0",
   "metadata": {},
   "outputs": [
    {
     "data": {
      "text/plain": [
       "V2RerankResponse(id='45c5969f-4e30-4a68-b6ec-65d74c8a29fd', results=[V2RerankResponseResultsItem(document=V2RerankResponseResultsItemDocument(text='Machine learning techniques can optimize keyword extraction methods.'), index=0, relevance_score=0.72418857), V2RerankResponseResultsItem(document=V2RerankResponseResultsItemDocument(text='Efficient keyword extraction enhances search accuracy.'), index=1, relevance_score=0.55391616), V2RerankResponseResultsItem(document=V2RerankResponseResultsItemDocument(text='Understsnding document structure aids in keyword extraction.'), index=2, relevance_score=0.42577294), V2RerankResponseResultsItem(document=V2RerankResponseResultsItemDocument(text='Document analysis involves extracting keywords.'), index=3, relevance_score=0.35260347)], meta=ApiMeta(api_version=ApiMetaApiVersion(version='2', is_deprecated=None, is_experimental=None), billed_units=ApiMetaBilledUnits(images=None, input_tokens=None, output_tokens=None, search_units=1.0, classifications=None), tokens=None, warnings=None))"
      ]
     },
     "execution_count": 16,
     "metadata": {},
     "output_type": "execute_result"
    }
   ],
   "source": [
    "response"
   ]
  },
  {
   "cell_type": "code",
   "execution_count": 17,
   "id": "2fc17924",
   "metadata": {},
   "outputs": [
    {
     "data": {
      "text/plain": [
       "'Machine learning techniques can optimize keyword extraction methods.'"
      ]
     },
     "execution_count": 17,
     "metadata": {},
     "output_type": "execute_result"
    }
   ],
   "source": [
    "response.results[0].document.text"
   ]
  },
  {
   "cell_type": "code",
   "execution_count": 18,
   "id": "7d6117ae",
   "metadata": {},
   "outputs": [
    {
     "data": {
      "text/plain": [
       "0.72418857"
      ]
     },
     "execution_count": 18,
     "metadata": {},
     "output_type": "execute_result"
    }
   ],
   "source": [
    "response.results[0].relevance_score"
   ]
  },
  {
   "cell_type": "code",
   "execution_count": null,
   "id": "be4df9f8",
   "metadata": {},
   "outputs": [
    {
     "name": "stdout",
     "output_type": "stream",
     "text": [
      "Document: Machine learning techniques can optimize keyword extraction methods., Relevance Score: 0.72418857\n",
      "Document: Efficient keyword extraction enhances search accuracy., Relevance Score: 0.55391616\n",
      "Document: Understsnding document structure aids in keyword extraction., Relevance Score: 0.42577294\n",
      "Document: Document analysis involves extracting keywords., Relevance Score: 0.35260347\n"
     ]
    }
   ],
   "source": [
    "for i in range(4):\n",
    "    print(f\"Document: {response.results[i].document.text}, Relevance Score: {response.results[i].relevance_score}\")"
   ]
  },
  {
   "cell_type": "code",
   "execution_count": null,
   "id": "f8012d93",
   "metadata": {},
   "outputs": [],
   "source": []
  }
 ],
 "metadata": {
  "kernelspec": {
   "display_name": ".venv",
   "language": "python",
   "name": "python3"
  },
  "language_info": {
   "codemirror_mode": {
    "name": "ipython",
    "version": 3
   },
   "file_extension": ".py",
   "mimetype": "text/x-python",
   "name": "python",
   "nbconvert_exporter": "python",
   "pygments_lexer": "ipython3",
   "version": "3.11.1"
  }
 },
 "nbformat": 4,
 "nbformat_minor": 5
}
