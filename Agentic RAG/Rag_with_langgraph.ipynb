{
 "cells": [
  {
   "cell_type": "code",
   "execution_count": 17,
   "id": "a6e0d2b6",
   "metadata": {},
   "outputs": [],
   "source": [
    "import os\n",
    "import glob\n",
    "from dotenv import load_dotenv\n",
    "\n",
    "load_dotenv()\n",
    "\n",
    "os.environ[\"GROQ_API_KEY\"] = os.getenv(\"GROQ_API_KEY\")\n",
    "os.environ[\"TOGETHER_API_KEY\"] = os.getenv(\"TOGETHER_API_KEY\")\n",
    "os.environ[\"MISTRAL_API_KEY\"] = os.getenv(\"MISTRAL_API_KEY\")\n",
    "os.environ[\"TAVILY_API_KEY\"] = os.getenv(\"TAVILY_API_KEY\")\n",
    "os.environ[\"HF_TOKEN\"] = os.getenv(\"HF_TOKEN\")"
   ]
  },
  {
   "cell_type": "code",
   "execution_count": 18,
   "id": "c413dd84",
   "metadata": {},
   "outputs": [],
   "source": [
    "import os\n",
    "os.environ[\"GROQ_API_KEY\"]=os.getenv(\"GROQ_API_KEY\")\n",
    "os.environ[\"LANGSMITH_API_KEY\"]=os.getenv(\"LANGSMITH_API_KEY\")\n",
    "os.environ[\"LANGSMITH_TRACING\"]=\"true\"\n",
    "os.environ[\"LANGSMITH_PROJECT\"]=\"RAG WITH LANGGRAPH\""
   ]
  },
  {
   "cell_type": "code",
   "execution_count": 19,
   "id": "a7356758",
   "metadata": {},
   "outputs": [],
   "source": [
    "from langchain_groq import ChatGroq\n",
    "llm = ChatGroq(model=\"gemma2-9b-it\")"
   ]
  },
  {
   "cell_type": "code",
   "execution_count": 20,
   "id": "dfd8d5a0",
   "metadata": {},
   "outputs": [
    {
     "name": "stderr",
     "output_type": "stream",
     "text": [
      "d:\\LangGraph\\langgraph-handson\\Lib\\site-packages\\langchain_mistralai\\embeddings.py:186: UserWarning: Could not download mistral tokenizer from Huggingface for calculating batch sizes. Set a Huggingface token via the HF_TOKEN environment variable to download the real tokenizer. Falling back to a dummy tokenizer that uses `len()`.\n",
      "  warnings.warn(\n"
     ]
    }
   ],
   "source": [
    "from langchain_mistralai.embeddings import MistralAIEmbeddings\n",
    "embeddings = MistralAIEmbeddings(model=\"mistral-embed\") "
   ]
  },
  {
   "cell_type": "code",
   "execution_count": 21,
   "id": "90e0ed91",
   "metadata": {},
   "outputs": [],
   "source": [
    "from langchain_community.vectorstores import Chroma\n",
    "from langchain_community.document_loaders import TextLoader, DirectoryLoader\n",
    "from langchain.text_splitter import RecursiveCharacterTextSplitter\n",
    "from langchain_core.runnables import RunnablePassthrough\n",
    "from langchain_core.prompts import ChatPromptTemplate\n",
    "from langchain_core.output_parsers import StrOutputParser\n",
    "from langchain_core.documents import Document"
   ]
  },
  {
   "cell_type": "code",
   "execution_count": null,
   "id": "1864958a",
   "metadata": {},
   "outputs": [],
   "source": [
    "all_text = \"\"\n",
    "for file_path in glob.glob(\"Curie_Radiation_Documents/*.txt\"):\n",
    "    loader = TextLoader(file_path)\n",
    "    docs = loader.load()\n",
    "    for doc in docs:\n",
    "        all_text += doc.page_content + \"\\n\"\n",
    "\n",
    "# Create a single Document object\n",
    "combined_doc = Document(page_content=all_text)\n",
    "\n",
    "# If you need it in a list format (e.g., for chains or vector stores)\n",
    "docs = [combined_doc]"
   ]
  },
  {
   "cell_type": "code",
   "execution_count": 33,
   "id": "48cad89a",
   "metadata": {},
   "outputs": [],
   "source": [
    "text_splitter = RecursiveCharacterTextSplitter(chunk_size=500, chunk_overlap=100)\n",
    "chunks = text_splitter.split_documents(docs)\n",
    "docs_string = [doc.page_content for doc in chunks]"
   ]
  },
  {
   "cell_type": "code",
   "execution_count": 34,
   "id": "8cd2e632",
   "metadata": {},
   "outputs": [],
   "source": [
    "vectorstore = Chroma.from_documents(chunks, embeddings)\n",
    "retriever = vectorstore.as_retriever(search_kwargs={\"k\": 3})"
   ]
  },
  {
   "cell_type": "code",
   "execution_count": 35,
   "id": "4b6ec5f0",
   "metadata": {},
   "outputs": [
    {
     "name": "stderr",
     "output_type": "stream",
     "text": [
      "C:\\Users\\abhes\\AppData\\Local\\Temp\\ipykernel_11128\\7707427.py:1: LangChainDeprecationWarning: The method `BaseRetriever.get_relevant_documents` was deprecated in langchain-core 0.1.46 and will be removed in 1.0. Use :meth:`~invoke` instead.\n",
      "  retriever.get_relevant_documents(\"What is the Curie radiation?\")\n"
     ]
    },
    {
     "data": {
      "text/plain": [
       "[Document(metadata={}, page_content='The principles of radiation detection and shielding stem from early Curie experiments.\\nNuclear power plants use radioactive decay for energy generation.\\nRadiation science remains a critical part of modern technology and healthcare.\\nMarie Curie kept detailed lab notebooks, many of which remain radioactive to this day.\\nThese notes documented the complex processes used to isolate radium and polonium.\\nHer scientific rigor and careful documentation helped future researchers build upon her work.'),\n",
       " Document(metadata={}, page_content='The principles of radiation detection and shielding stem from early Curie experiments.\\nNuclear power plants use radioactive decay for energy generation.\\nRadiation science remains a critical part of modern technology and healthcare.\\nMarie Curie kept detailed lab notebooks, many of which remain radioactive to this day.\\nThese notes documented the complex processes used to isolate radium and polonium.\\nHer scientific rigor and careful documentation helped future researchers build upon her work.'),\n",
       " Document(metadata={}, page_content='The principles of radiation detection and shielding stem from early Curie experiments.\\nNuclear power plants use radioactive decay for energy generation.\\nRadiation science remains a critical part of modern technology and healthcare.\\nMarie Curie kept detailed lab notebooks, many of which remain radioactive to this day.\\nThese notes documented the complex processes used to isolate radium and polonium.\\nHer scientific rigor and careful documentation helped future researchers build upon her work.')]"
      ]
     },
     "execution_count": 35,
     "metadata": {},
     "output_type": "execute_result"
    }
   ],
   "source": [
    "retriever.get_relevant_documents(\"What is the Curie radiation?\")"
   ]
  },
  {
   "cell_type": "code",
   "execution_count": 73,
   "id": "2f79ec0f",
   "metadata": {},
   "outputs": [],
   "source": [
    "from typing_extensions import Annotated, List, TypedDict\n",
    "from langchain_core.messages import AnyMessage \n",
    "from langgraph.graph.message import add_messages\n",
    "\n",
    "class State(TypedDict):\n",
    "    messages: Annotated[list[AnyMessage] , add_messages]\n"
   ]
  },
  {
   "cell_type": "code",
   "execution_count": 74,
   "id": "38056a17",
   "metadata": {},
   "outputs": [],
   "source": [
    "def LLMChain(AgentState : State):\n",
    "    message = AgentState[\"messages\"]\n",
    "    \n",
    "    # Extract the content from the last message\n",
    "    if isinstance(message[-1], str):\n",
    "        question = message[-1]\n",
    "    else:\n",
    "        question = message[-1].content if hasattr(message[-1], 'content') else str(message[-1])\n",
    "    \n",
    "    complete_prompt = \"Your Task is to provide the brief answer based on the user query \\\n",
    "        Don't include too much reasoning. Following is the user query: \" + question\n",
    "    \n",
    "    response = llm.invoke(complete_prompt)\n",
    "    \n",
    "    AgentState[\"messages\"].append(response.content)\n",
    "    \n",
    "    return AgentState"
   ]
  },
  {
   "cell_type": "code",
   "execution_count": 75,
   "id": "92fb74d9",
   "metadata": {},
   "outputs": [],
   "source": [
    "def RAGChain(AgentState : State):\n",
    "    message = AgentState[\"messages\"]\n",
    "    \n",
    "    # Extract the first message (original question)\n",
    "    if isinstance(message[0], str):\n",
    "        question = message[0]\n",
    "    else:\n",
    "        question = message[0].content if hasattr(message[0], 'content') else str(message[0])\n",
    "    \n",
    "    template = \"\"\"Answer the question based on the following context:\n",
    "    {context}\n",
    "    \n",
    "    Question: {question} \n",
    "    \"\"\"\n",
    "    prompt = ChatPromptTemplate.from_template(template)\n",
    "    \n",
    "    chain = (\n",
    "        {\"context\": retriever, \"question\": RunnablePassthrough()}\n",
    "        | prompt\n",
    "        | llm\n",
    "        | StrOutputParser()\n",
    "    )\n",
    "    \n",
    "    response = chain.invoke(question)\n",
    "    \n",
    "    # Add the RAG response to the messages\n",
    "    AgentState[\"messages\"].append(response)\n",
    "    \n",
    "    return AgentState"
   ]
  },
  {
   "cell_type": "code",
   "execution_count": 76,
   "id": "e4a8c716",
   "metadata": {},
   "outputs": [
    {
     "data": {
      "text/plain": [
       "<langgraph.graph.state.StateGraph at 0x2868e948f50>"
      ]
     },
     "execution_count": 76,
     "metadata": {},
     "output_type": "execute_result"
    }
   ],
   "source": [
    "from langgraph.graph import StateGraph\n",
    "graph = StateGraph(State)\n",
    "\n",
    "graph.add_node(\"LLM\", LLMChain)\n",
    "graph.add_node(\"RAGTool\", RAGChain)\n",
    "\n",
    "graph.add_edge(\"LLM\", \"RAGTool\")\n",
    "graph.set_entry_point(\"LLM\")\n",
    "graph.set_finish_point(\"RAGTool\")"
   ]
  },
  {
   "cell_type": "code",
   "execution_count": 77,
   "id": "aa61e9de",
   "metadata": {},
   "outputs": [
    {
     "data": {
      "image/png": "[encoded data removed]",
      "text/plain": [
       "<langgraph.graph.state.CompiledStateGraph object at 0x000002868E94ADD0>"
      ]
     },
     "execution_count": 77,
     "metadata": {},
     "output_type": "execute_result"
    }
   ],
   "source": [
    "builder = graph.compile()\n",
    "builder"
   ]
  },
  {
   "cell_type": "code",
   "execution_count": 78,
   "id": "a3055c65",
   "metadata": {},
   "outputs": [
    {
     "name": "stdout",
     "output_type": "stream",
     "text": [
      "{'LLM': {'messages': [HumanMessage(content='What is the Curie radiation?', additional_kwargs={}, response_metadata={}, id='846a1392-e362-4f05-912a-aa04999e3fd7'), 'Curie radiation is the emission of ionizing radiation from a radioactive substance.  \\n']}}\n",
      "{'RAGTool': {'messages': [HumanMessage(content='What is the Curie radiation?', additional_kwargs={}, response_metadata={}, id='846a1392-e362-4f05-912a-aa04999e3fd7'), HumanMessage(content='Curie radiation is the emission of ionizing radiation from a radioactive substance.  \\n', additional_kwargs={}, response_metadata={}, id='b330ed03-99d6-4d57-ae81-4e6a170aeafd'), HumanMessage(content='Curie radiation is the emission of ionizing radiation from a radioactive substance.  \\n', additional_kwargs={}, response_metadata={}, id='20bafde7-6448-4b5d-89ce-0c589ac0f224'), 'While the text mentions \"early Curie experiments\" and Marie Curie\\'s work with radium and polonium, it doesn\\'t explicitly define \"Curie radiation.\"  \\n\\nWe can infer that \"Curie radiation\" likely refers to the type of radiation emitted by radioactive materials, particularly radium and polonium, which were studied extensively by Marie Curie. \\n\\n\\nLet me know if you have any other questions! \\n']}}\n"
     ]
    }
   ],
   "source": [
    "from langchain_core.messages import HumanMessage\n",
    "query = {\"messages\": [HumanMessage(content=\"What is the Curie radiation?\")]}\n",
    "\n",
    "for event in builder_new.stream(query):\n",
    "    print(event)"
   ]
  },
  {
   "cell_type": "code",
   "execution_count": 81,
   "id": "ef6931a5",
   "metadata": {},
   "outputs": [
    {
     "name": "stdout",
     "output_type": "stream",
     "text": [
      "{'LLM': {'messages': [HumanMessage(content='Why did curie got nobel prize for?', additional_kwargs={}, response_metadata={}, id='6d135072-4763-4929-905e-12127e661592'), 'Marie Curie received the Nobel Prize in Physics in 1903 for her work on radioactivity, along with her husband Pierre Curie and Henri Becquerel.  \\n']}}\n",
      "{'RAGTool': {'messages': [HumanMessage(content='Why did curie got nobel prize for?', additional_kwargs={}, response_metadata={}, id='6d135072-4763-4929-905e-12127e661592'), HumanMessage(content='Marie Curie received the Nobel Prize in Physics in 1903 for her work on radioactivity, along with her husband Pierre Curie and Henri Becquerel.  \\n', additional_kwargs={}, response_metadata={}, id='b4dd75b8-0bbb-421f-8b6e-5bbb187af844'), HumanMessage(content='Marie Curie received the Nobel Prize in Physics in 1903 for her work on radioactivity, along with her husband Pierre Curie and Henri Becquerel.  \\n', additional_kwargs={}, response_metadata={}, id='bb1b80e2-431e-4e4c-a8a0-7d289d58bd43'), 'According to the text, Marie Curie received the Nobel Prize in Physics in 1903 **shared with Pierre Curie and Henri Becquerel** for her work in **radioactivity**.  \\n']}}\n"
     ]
    }
   ],
   "source": [
    "query = {\"messages\": [HumanMessage(content=\"Why did curie got nobel prize for?\")]}\n",
    "\n",
    "for event in builder_new.stream(query):\n",
    "    print(event)"
   ]
  },
  {
   "cell_type": "code",
   "execution_count": null,
   "id": "cf1babe6",
   "metadata": {},
   "outputs": [],
   "source": []
  }
 ],
 "metadata": {
  "kernelspec": {
   "display_name": "langgraph-handson",
   "language": "python",
   "name": "python3"
  },
  "language_info": {
   "codemirror_mode": {
    "name": "ipython",
    "version": 3
   },
   "file_extension": ".py",
   "mimetype": "text/x-python",
   "name": "python",
   "nbconvert_exporter": "python",
   "pygments_lexer": "ipython3",
   "version": "3.11.1"
  }
 },
 "nbformat": 4,
 "nbformat_minor": 5
}
