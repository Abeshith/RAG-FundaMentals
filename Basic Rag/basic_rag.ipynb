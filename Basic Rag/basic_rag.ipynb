{
 "cells": [
  {
   "cell_type": "code",
   "execution_count": 1,
   "id": "48c462a8",
   "metadata": {},
   "outputs": [],
   "source": [
    "from langchain_community.embeddings import HuggingFaceEmbeddings\n",
    "from langchain_community.vectorstores import Chroma\n",
    "from langchain.text_splitter import RecursiveCharacterTextSplitter\n",
    "from langchain_groq import ChatGroq\n",
    "from langchain.chains import RetrievalQA\n",
    "from langchain.schema import Document\n",
    "import os\n",
    "from dotenv import load_dotenv"
   ]
  },
  {
   "cell_type": "code",
   "execution_count": 12,
   "id": "aeaa65f7",
   "metadata": {},
   "outputs": [],
   "source": [
    "load_dotenv()\n",
    "os.environ[\"GROQ_API_KEY\"] = os.getenv(\"GROQ_API_KEY\")\n",
    "os.environ[\"GEMINI_API_KEY\"] = os.getenv(\"GEMINI_API_KEY\")"
   ]
  },
  {
   "cell_type": "code",
   "execution_count": 13,
   "id": "5dcedb94",
   "metadata": {},
   "outputs": [],
   "source": [
    "# 1. Sample Wikipedia-style data\n",
    "docs = [\n",
    "    Document(page_content=\"Cats are small, carnivorous mammals that are often kept as pets. They typically live for 13-17 years.\"),\n",
    "    Document(page_content=\"Dogs are domesticated mammals, not natural wild animals. They are known for their loyalty and live about 10-13 years.\"),\n",
    "    Document(page_content=\"Elephants are the largest land animals. They communicate using low-frequency rumbles and can live for 60-70 years.\")\n",
    "]\n"
   ]
  },
  {
   "cell_type": "code",
   "execution_count": null,
   "id": "10ad581e",
   "metadata": {},
   "outputs": [],
   "source": [
    "+# 2. Split the text into chunks\n",
    "splitter = RecursiveCharacterTextSplitter(chunk_size=200, chunk_overlap=20)\n",
    "split_docs = splitter.split_documents(docs)"
   ]
  },
  {
   "cell_type": "code",
   "execution_count": 15,
   "id": "1c3d7d12",
   "metadata": {},
   "outputs": [
    {
     "name": "stderr",
     "output_type": "stream",
     "text": [
      "C:\\Users\\abhes\\AppData\\Local\\Temp\\ipykernel_18400\\1476618244.py:2: LangChainDeprecationWarning: The class `HuggingFaceEmbeddings` was deprecated in LangChain 0.2.2 and will be removed in 1.0. An updated version of the class exists in the :class:`~langchain-huggingface package and should be used instead. To use it run `pip install -U :class:`~langchain-huggingface` and import as `from :class:`~langchain_huggingface import HuggingFaceEmbeddings``.\n",
      "  embedding_model = HuggingFaceEmbeddings(model_name=\"all-MiniLM-L6-v2\")\n",
      "d:\\RAG Pipeline\\.venv\\Lib\\site-packages\\tqdm\\auto.py:21: TqdmWarning: IProgress not found. Please update jupyter and ipywidgets. See https://ipywidgets.readthedocs.io/en/stable/user_install.html\n",
      "  from .autonotebook import tqdm as notebook_tqdm\n"
     ]
    }
   ],
   "source": [
    "# 3. Generate embeddings\n",
    "embedding_model = HuggingFaceEmbeddings(model_name=\"all-MiniLM-L6-v2\")"
   ]
  },
  {
   "cell_type": "code",
   "execution_count": 16,
   "id": "8f681f63",
   "metadata": {},
   "outputs": [],
   "source": [
    "# 4. Store in Chroma DB\n",
    "vectorstore = Chroma.from_documents(split_docs, embedding_model, persist_directory=\"./rag_data\")"
   ]
  },
  {
   "cell_type": "code",
   "execution_count": null,
   "id": "51b38c99",
   "metadata": {},
   "outputs": [],
   "source": [
    "# 5. Load Groq LLM\n",
    "llm = ChatGroq(\n",
    "    model = \"gemma2-9b-it\",\n",
    "    temperature=0.1,\n",
    "    max_tokens=512,\n",
    ")"
   ]
  },
  {
   "cell_type": "code",
   "execution_count": null,
   "id": "96463838",
   "metadata": {},
   "outputs": [],
   "source": [
    "# 6. Create the RAG QA chain\n",
    "rag_chain = RetrievalQA.from_chain_type(\n",
    "    llm=llm,\n",
    "    retriever=vectorstore.as_retriever(search_kwargs={\"k\": 2}),\n",
    "    return_source_documents=True\n",
    ")"
   ]
  },
  {
   "cell_type": "code",
   "execution_count": 19,
   "id": "7f3c50f2",
   "metadata": {},
   "outputs": [],
   "source": [
    "# 7. Ask some questions\n",
    "questions = [\n",
    "    \"How do elephants communicate?\",\n",
    "    \"What is the average lifespan of a cat?\",\n",
    "    \"What are dogs known for?\"\n",
    "]"
   ]
  },
  {
   "cell_type": "code",
   "execution_count": 20,
   "id": "ea029076",
   "metadata": {},
   "outputs": [
    {
     "name": "stderr",
     "output_type": "stream",
     "text": [
      "C:\\Users\\abhes\\AppData\\Local\\Temp\\ipykernel_18400\\1859563275.py:2: LangChainDeprecationWarning: The method `Chain.__call__` was deprecated in langchain 0.1.0 and will be removed in 1.0. Use :meth:`~invoke` instead.\n",
      "  result = rag_chain({\"query\": q})\n"
     ]
    },
    {
     "name": "stdout",
     "output_type": "stream",
     "text": [
      "\n",
      "Q: How do elephants communicate?\n",
      "A: Elephants communicate using low-frequency rumbles. \n",
      "\n",
      "\n",
      "Q: What is the average lifespan of a cat?\n",
      "A: The average lifespan of a cat is 13-17 years. \n",
      "\n",
      "\n",
      "Q: What are dogs known for?\n",
      "A: Dogs are known for their loyalty.  \n",
      "\n"
     ]
    }
   ],
   "source": [
    "for q in questions:\n",
    "    result = rag_chain({\"query\": q})\n",
    "    print(f\"\\nQ: {q}\")\n",
    "    print(f\"A: {result['result']}\")"
   ]
  },
  {
   "cell_type": "code",
   "execution_count": null,
   "id": "19370e4c",
   "metadata": {},
   "outputs": [],
   "source": []
  }
 ],
 "metadata": {
  "kernelspec": {
   "display_name": ".venv",
   "language": "python",
   "name": "python3"
  },
  "language_info": {
   "codemirror_mode": {
    "name": "ipython",
    "version": 3
   },
   "file_extension": ".py",
   "mimetype": "text/x-python",
   "name": "python",
   "nbconvert_exporter": "python",
   "pygments_lexer": "ipython3",
   "version": "3.11.1"
  }
 },
 "nbformat": 4,
 "nbformat_minor": 5
}
