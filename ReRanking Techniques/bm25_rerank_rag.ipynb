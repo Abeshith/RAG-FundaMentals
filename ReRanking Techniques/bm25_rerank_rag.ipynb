{
 "cells": [
  {
   "cell_type": "code",
   "execution_count": 3,
   "id": "6c0a3d82",
   "metadata": {},
   "outputs": [
    {
     "name": "stderr",
     "output_type": "stream",
     "text": [
      "d:\\RAG Pipeline\\.venv\\Lib\\site-packages\\tqdm\\auto.py:21: TqdmWarning: IProgress not found. Please update jupyter and ipywidgets. See https://ipywidgets.readthedocs.io/en/stable/user_install.html\n",
      "  from .autonotebook import tqdm as notebook_tqdm\n"
     ]
    }
   ],
   "source": [
    "from langchain_groq import ChatGroq\n",
    "from sentence_transformers import SentenceTransformer"
   ]
  },
  {
   "cell_type": "code",
   "execution_count": 4,
   "id": "74ddfc27",
   "metadata": {},
   "outputs": [
    {
     "data": {
      "text/plain": [
       "8"
      ]
     },
     "execution_count": 4,
     "metadata": {},
     "output_type": "execute_result"
    }
   ],
   "source": [
    "documents = [\n",
    "    \"This a list which containing sample documents.\",\n",
    "    \"Keywords are important for keyword-based search.\",\n",
    "    \"Document analysis involves extracting keywords.\",\n",
    "    \"Keyword-based search relies on sparse embeddings.\",\n",
    "    \"Understsnding document structure aids in keyword extraction.\",\n",
    "    \"Efficient keyword extraction enhances search accuracy.\",\n",
    "    \"Semacntic similarity improves document retrieval performance.\",\n",
    "    \"Machine learning techniques can optimize keyword extraction methods.\"\n",
    "]\n",
    "len(documents)"
   ]
  },
  {
   "cell_type": "code",
   "execution_count": 5,
   "id": "598e7b2a",
   "metadata": {},
   "outputs": [],
   "source": [
    "model_name = 'sentence-transformers/paraphrase-xlm-r-multilingual-v1'\n",
    "model = SentenceTransformer(model_name)"
   ]
  },
  {
   "cell_type": "code",
   "execution_count": null,
   "id": "c74e14b0",
   "metadata": {},
   "outputs": [],
   "source": [
    "embeddings = model.encode(documents)\n",
    "\n",
    "for i, doc in enumerate(embeddings):\n",
    "    print(f\"Document {i+1} embedding: {doc}\")"
   ]
  },
  {
   "cell_type": "code",
   "execution_count": 7,
   "id": "a7b4962a",
   "metadata": {},
   "outputs": [],
   "source": [
    "query = \"Natural language processing techniques enhances keyword extraction efficiency.\""
   ]
  },
  {
   "cell_type": "code",
   "execution_count": 8,
   "id": "7885aef1",
   "metadata": {},
   "outputs": [
    {
     "data": {
      "text/plain": [
       "768"
      ]
     },
     "execution_count": 8,
     "metadata": {},
     "output_type": "execute_result"
    }
   ],
   "source": [
    "query_embedding = model.encode(query)\n",
    "len(query_embedding)"
   ]
  },
  {
   "cell_type": "code",
   "execution_count": 9,
   "id": "4ba8b485",
   "metadata": {},
   "outputs": [
    {
     "data": {
      "text/plain": [
       "array([[0.18442771, 0.45484942, 0.57262063, 0.44097388, 0.61043894,\n",
       "        0.7594256 , 0.5526097 , 0.79599875]], dtype=float32)"
      ]
     },
     "execution_count": 9,
     "metadata": {},
     "output_type": "execute_result"
    }
   ],
   "source": [
    "import numpy as np\n",
    "from sklearn.metrics.pairwise import cosine_similarity\n",
    "\n",
    "similarities = cosine_similarity(np.array([query_embedding]), embeddings)\n",
    "similarities"
   ]
  },
  {
   "cell_type": "code",
   "execution_count": 10,
   "id": "4b50e225",
   "metadata": {},
   "outputs": [
    {
     "data": {
      "text/plain": [
       "np.int64(7)"
      ]
     },
     "execution_count": 10,
     "metadata": {},
     "output_type": "execute_result"
    }
   ],
   "source": [
    "similar_docs = np.argmax(similarities)\n",
    "similar_docs"
   ]
  },
  {
   "cell_type": "code",
   "execution_count": 11,
   "id": "1cf43294",
   "metadata": {},
   "outputs": [
    {
     "data": {
      "text/plain": [
       "'Machine learning techniques can optimize keyword extraction methods.'"
      ]
     },
     "execution_count": 11,
     "metadata": {},
     "output_type": "execute_result"
    }
   ],
   "source": [
    "documents[similar_docs]"
   ]
  },
  {
   "cell_type": "code",
   "execution_count": 12,
   "id": "2bb84b37",
   "metadata": {},
   "outputs": [
    {
     "data": {
      "text/plain": [
       "array([7, 5, 4, 2, 6, 1, 3, 0])"
      ]
     },
     "execution_count": 12,
     "metadata": {},
     "output_type": "execute_result"
    }
   ],
   "source": [
    "sorted_indices = np.argsort(similarities[0])[::-1]\n",
    "sorted_indices"
   ]
  },
  {
   "cell_type": "code",
   "execution_count": 13,
   "id": "ffff074e",
   "metadata": {},
   "outputs": [
    {
     "data": {
      "text/plain": [
       "[('Machine learning techniques can optimize keyword extraction methods.',\n",
       "  np.float32(0.79599875)),\n",
       " ('Efficient keyword extraction enhances search accuracy.',\n",
       "  np.float32(0.7594256)),\n",
       " ('Understsnding document structure aids in keyword extraction.',\n",
       "  np.float32(0.61043894)),\n",
       " ('Document analysis involves extracting keywords.', np.float32(0.57262063)),\n",
       " ('Semacntic similarity improves document retrieval performance.',\n",
       "  np.float32(0.5526097)),\n",
       " ('Keywords are important for keyword-based search.', np.float32(0.45484942)),\n",
       " ('Keyword-based search relies on sparse embeddings.', np.float32(0.44097388)),\n",
       " ('This a list which containing sample documents.', np.float32(0.18442771))]"
      ]
     },
     "execution_count": 13,
     "metadata": {},
     "output_type": "execute_result"
    }
   ],
   "source": [
    "ranked_docs = [(documents[i], similarities[0][i]) for i in sorted_indices]\n",
    "ranked_docs"
   ]
  },
  {
   "cell_type": "code",
   "execution_count": 14,
   "id": "164e3567",
   "metadata": {},
   "outputs": [
    {
     "name": "stdout",
     "output_type": "stream",
     "text": [
      "Ranked Top 4 Documents:\n",
      "Document: Machine learning techniques can optimize keyword extraction methods., Similarity Score: 0.7960\n",
      "Document: Efficient keyword extraction enhances search accuracy., Similarity Score: 0.7594\n",
      "Document: Understsnding document structure aids in keyword extraction., Similarity Score: 0.6104\n",
      "Document: Document analysis involves extracting keywords., Similarity Score: 0.5726\n"
     ]
    }
   ],
   "source": [
    "print(\"Ranked Top 4 Documents:\")\n",
    "for doc, score in ranked_docs[:4]:\n",
    "    print(f\"Document: {doc}, Similarity Score: {score:.4f}\")"
   ]
  },
  {
   "cell_type": "code",
   "execution_count": 15,
   "id": "86bb2a95",
   "metadata": {},
   "outputs": [
    {
     "data": {
      "text/plain": [
       "['Machine learning techniques can optimize keyword extraction methods.',\n",
       " 'Efficient keyword extraction enhances search accuracy.',\n",
       " 'Understsnding document structure aids in keyword extraction.',\n",
       " 'Document analysis involves extracting keywords.']"
      ]
     },
     "execution_count": 15,
     "metadata": {},
     "output_type": "execute_result"
    }
   ],
   "source": [
    "from rank_bm25 import BM25Okapi\n",
    "\n",
    "top_4_docs = [docs[0] for docs in ranked_docs[:4]]\n",
    "top_4_docs"
   ]
  },
  {
   "cell_type": "code",
   "execution_count": 16,
   "id": "8a64b8c8",
   "metadata": {},
   "outputs": [
    {
     "data": {
      "text/plain": [
       "[['Machine',\n",
       "  'learning',\n",
       "  'techniques',\n",
       "  'can',\n",
       "  'optimize',\n",
       "  'keyword',\n",
       "  'extraction',\n",
       "  'methods.'],\n",
       " ['Efficient', 'keyword', 'extraction', 'enhances', 'search', 'accuracy.'],\n",
       " ['Understsnding',\n",
       "  'document',\n",
       "  'structure',\n",
       "  'aids',\n",
       "  'in',\n",
       "  'keyword',\n",
       "  'extraction.'],\n",
       " ['Document', 'analysis', 'involves', 'extracting', 'keywords.']]"
      ]
     },
     "execution_count": 16,
     "metadata": {},
     "output_type": "execute_result"
    }
   ],
   "source": [
    "tokenized_documents = [doc.split() for doc in top_4_docs]\n",
    "tokenized_documents"
   ]
  },
  {
   "cell_type": "code",
   "execution_count": 17,
   "id": "d026de3c",
   "metadata": {},
   "outputs": [
    {
     "data": {
      "text/plain": [
       "['Natural',\n",
       " 'language',\n",
       " 'processing',\n",
       " 'techniques',\n",
       " 'enhances',\n",
       " 'keyword',\n",
       " 'extraction',\n",
       " 'efficiency.']"
      ]
     },
     "execution_count": 17,
     "metadata": {},
     "output_type": "execute_result"
    }
   ],
   "source": [
    "tokenized_query = query.split()\n",
    "tokenized_query"
   ]
  },
  {
   "cell_type": "code",
   "execution_count": 18,
   "id": "19b399a7",
   "metadata": {},
   "outputs": [
    {
     "data": {
      "text/plain": [
       "<rank_bm25.BM25Okapi at 0x1b36b742390>"
      ]
     },
     "execution_count": 18,
     "metadata": {},
     "output_type": "execute_result"
    }
   ],
   "source": [
    "bm25 = BM25Okapi(tokenized_documents)\n",
    "bm25"
   ]
  },
  {
   "cell_type": "code",
   "execution_count": 19,
   "id": "b22ef818",
   "metadata": {},
   "outputs": [
    {
     "data": {
      "text/plain": [
       "array([0.93445363, 1.06847885, 0.17803252, 0.        ])"
      ]
     },
     "execution_count": 19,
     "metadata": {},
     "output_type": "execute_result"
    }
   ],
   "source": [
    "score = bm25.get_scores(tokenized_query)\n",
    "score"
   ]
  },
  {
   "cell_type": "code",
   "execution_count": 20,
   "id": "a4c9bc4e",
   "metadata": {},
   "outputs": [
    {
     "data": {
      "text/plain": [
       "array([1, 0, 2, 3])"
      ]
     },
     "execution_count": 20,
     "metadata": {},
     "output_type": "execute_result"
    }
   ],
   "source": [
    "sorted_indices = np.argsort(score)[::-1]\n",
    "sorted_indices"
   ]
  },
  {
   "cell_type": "code",
   "execution_count": 21,
   "id": "bb4a9305",
   "metadata": {},
   "outputs": [
    {
     "data": {
      "text/plain": [
       "['Machine learning techniques can optimize keyword extraction methods.',\n",
       " 'Efficient keyword extraction enhances search accuracy.',\n",
       " 'Understsnding document structure aids in keyword extraction.',\n",
       " 'Document analysis involves extracting keywords.']"
      ]
     },
     "execution_count": 21,
     "metadata": {},
     "output_type": "execute_result"
    }
   ],
   "source": [
    "top_4_docs"
   ]
  },
  {
   "cell_type": "code",
   "execution_count": 22,
   "id": "4b77920a",
   "metadata": {},
   "outputs": [
    {
     "data": {
      "text/plain": [
       "'Natural language processing techniques enhances keyword extraction efficiency.'"
      ]
     },
     "execution_count": 22,
     "metadata": {},
     "output_type": "execute_result"
    }
   ],
   "source": [
    "query"
   ]
  },
  {
   "cell_type": "code",
   "execution_count": null,
   "id": "c755e22c",
   "metadata": {},
   "outputs": [
    {
     "data": {
      "text/plain": [
       "[('Efficient keyword extraction enhances search accuracy.',\n",
       "  np.float64(1.0684788539093786)),\n",
       " ('Machine learning techniques can optimize keyword extraction methods.',\n",
       "  np.float64(0.9344536318162162)),\n",
       " ('Understsnding document structure aids in keyword extraction.',\n",
       "  np.float64(0.1780325227902643)),\n",
       " ('Document analysis involves extracting keywords.', np.float64(0.0))]"
      ]
     },
     "execution_count": 23,
     "metadata": {},
     "output_type": "execute_result"
    }
   ],
   "source": [
    "reranked_docs_bm25 = [(top_4_docs[i],score[i]) for i in sorted_indices]\n",
    "reranked_docs_bm25"
   ]
  }
 ],
 "metadata": {
  "kernelspec": {
   "display_name": ".venv",
   "language": "python",
   "name": "python3"
  },
  "language_info": {
   "codemirror_mode": {
    "name": "ipython",
    "version": 3
   },
   "file_extension": ".py",
   "mimetype": "text/x-python",
   "name": "python",
   "nbconvert_exporter": "python",
   "pygments_lexer": "ipython3",
   "version": "3.11.1"
  }
 },
 "nbformat": 4,
 "nbformat_minor": 5
}
