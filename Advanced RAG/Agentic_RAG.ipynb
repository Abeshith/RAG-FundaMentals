{
  "nbformat": 4,
  "nbformat_minor": 0,
  "metadata": {
    "colab": {
      "provenance": [],
      "gpuType": "T4"
    },
    "kernelspec": {
      "name": "python3",
      "display_name": "Python 3"
    },
    "language_info": {
      "name": "python"
    },
    "accelerator": "GPU"
  },
  "cells": [
    {
      "cell_type": "code",
      "execution_count": null,
      "metadata": {
        "id": "wMU7LMohuZbm",
        "collapsed": true
      },
      "outputs": [],
      "source": [
        "pip install langchain langchain_community langchain_groq sentence_transformers chromadb faiss-cpu langgraph"
      ]
    },
    {
      "cell_type": "code",
      "source": [
        "pip install langchain_tavily"
      ],
      "metadata": {
        "collapsed": true,
        "id": "sv7cTrvoAdF8"
      },
      "execution_count": null,
      "outputs": []
    },
    {
      "cell_type": "code",
      "source": [
        "import os\n",
        "from google.colab import userdata\n",
        "\n",
        "GROQ_API_KEY = userdata.get('GROQ_API_KEY')\n",
        "os.environ['GROQ_API_KEY'] = GROQ_API_KEY\n",
        "\n",
        "TAVILY_API_KEY = userdata.get('TAVILY_API_KEY')\n",
        "os.environ['TAVILY_API_KEY'] = TAVILY_API_KEY\n",
        "\n",
        "LANGSMITH_API_KEY = userdata.get('LANGSMITH_API_KEY')\n",
        "os.environ['LANGSMITH_API_KEY'] = LANGSMITH_API_KEY"
      ],
      "metadata": {
        "id": "Cl3h5Xns_bfu"
      },
      "execution_count": 1,
      "outputs": []
    },
    {
      "cell_type": "code",
      "source": [
        "import warnings\n",
        "warnings.simplefilter('ignore')"
      ],
      "metadata": {
        "id": "WlKdn_bPABpy"
      },
      "execution_count": 2,
      "outputs": []
    },
    {
      "cell_type": "code",
      "source": [
        "from langchain.embeddings import HuggingFaceEmbeddings\n",
        "embeddings = HuggingFaceEmbeddings(model_name=\"sentence-transformers/all-MiniLM-L6-v2\")\n",
        "\n",
        "from langchain_groq import ChatGroq\n",
        "llm = ChatGroq(model_name=\"gemma2-9b-it\")"
      ],
      "metadata": {
        "id": "dr0_jf7NAq4q"
      },
      "execution_count": 35,
      "outputs": []
    },
    {
      "cell_type": "code",
      "source": [
        "from langchain_community.document_loaders import WebBaseLoader\n",
        "urls = [\n",
        "    \"https://lilianweng.github.io/posts/2023-06-23-agent/\",\n",
        "    \"https://lilianweng.github.io/posts/2023-03-15-prompt-engineering/\",\n",
        "]\n",
        "\n",
        "docs = [WebBaseLoader(url).load() for url in urls]\n",
        "docs_list = [item for sublist in docs for item in sublist]"
      ],
      "metadata": {
        "id": "VRZoj9ibB1TP"
      },
      "execution_count": 29,
      "outputs": []
    },
    {
      "cell_type": "code",
      "source": [
        "from langchain.text_splitter import RecursiveCharacterTextSplitter\n",
        "text_splitter = RecursiveCharacterTextSplitter.from_tiktoken_encoder(\n",
        "    chunk_size=250, chunk_overlap=25\n",
        ")\n",
        "doc_splits = text_splitter.split_documents(docs_list)"
      ],
      "metadata": {
        "id": "iVQ4Q-UTCEdB"
      },
      "execution_count": 30,
      "outputs": []
    },
    {
      "cell_type": "code",
      "source": [
        "from langchain.vectorstores import Chroma\n",
        "vectorstore = Chroma.from_documents(\n",
        "    documents=doc_splits,\n",
        "    collection_name=\"rag-chroma\",\n",
        "    embedding=embeddings,\n",
        ")\n",
        "retriever = vectorstore.as_retriever()"
      ],
      "metadata": {
        "id": "d8v0bpTdCVvg"
      },
      "execution_count": 31,
      "outputs": []
    },
    {
      "cell_type": "code",
      "source": [
        "from langchain.tools.retriever import create_retriever_tool\n",
        "retriever_tool = create_retriever_tool(retriever=retriever,\n",
        "                      name= \"retriever-blog-post\",\n",
        "                      description=\"Search and return the information of lilianweng blog posts on LLM Agents and Promptengineering\")"
      ],
      "metadata": {
        "id": "IAdMn6d7CiFM"
      },
      "execution_count": 32,
      "outputs": []
    },
    {
      "cell_type": "code",
      "source": [
        "tools = [retriever_tool]"
      ],
      "metadata": {
        "id": "i5SeisymDVqs"
      },
      "execution_count": 33,
      "outputs": []
    },
    {
      "cell_type": "code",
      "source": [
        "from langgraph.prebuilt import ToolNode\n",
        "retrieve = ToolNode([retriever_tool])"
      ],
      "metadata": {
        "id": "E6r7NiskDnZK"
      },
      "execution_count": 11,
      "outputs": []
    },
    {
      "cell_type": "code",
      "source": [
        "from typing_extensions import TypedDict, List, Annotated, Sequence, Literal\n",
        "from langchain.schema import BaseMessage\n",
        "from langgraph.graph.message import add_messages\n",
        "\n",
        "class AgentState(TypedDict):\n",
        "    messages: Annotated[Sequence[BaseMessage], add_messages]\n",
        "    rewrite_count: int"
      ],
      "metadata": {
        "id": "-ZH44cUHEEBa"
      },
      "execution_count": 12,
      "outputs": []
    },
    {
      "cell_type": "code",
      "source": [
        "from pydantic import BaseModel, Field\n",
        "class GradeDocs(BaseModel):\n",
        "  binary_score: str = Field(description=\"Relevance Score 'Yes' or 'No' \")"
      ],
      "metadata": {
        "id": "qyDJDh8pExy-"
      },
      "execution_count": 13,
      "outputs": []
    },
    {
      "cell_type": "code",
      "source": [
        "def assistant(state: AgentState):\n",
        "    print(\"---CALL AGENT---\")\n",
        "    messages = state[\"messages\"]\n",
        "    llm_with_tool = llm.bind_tools(tools)\n",
        "    response = llm_with_tool.invoke(messages)\n",
        "    return {\n",
        "        \"messages\": [response]\n",
        "    }"
      ],
      "metadata": {
        "id": "HntTZiTuFIR4"
      },
      "execution_count": 14,
      "outputs": []
    },
    {
      "cell_type": "code",
      "source": [
        "from langchain_core.messages import ToolMessage\n",
        "from langchain.prompts import PromptTemplate\n",
        "\n",
        "def grade_docs(state: AgentState) -> Literal[\"Generate\", \"Query_Rewriter\"]:\n",
        "    llm_with_structure_op = llm.with_structured_output(GradeDocs)\n",
        "\n",
        "    prompt = PromptTemplate(\n",
        "        template=\"\"\"You are a grader deciding if a document is relevant to a user’s question.\n",
        "        Here is the document: {context}\n",
        "        Here is the user’s question: {question}\n",
        "        If the document talks about or contains information related to the user’s question, mark it as relevant.\n",
        "        Give a 'yes' or 'no' answer.\"\"\",\n",
        "        input_variables=[\"context\", \"question\"]\n",
        "    )\n",
        "    chain = prompt | llm_with_structure_op\n",
        "\n",
        "    messages = state[\"messages\"]\n",
        "    question = messages[0].content\n",
        "    last_message = messages[-1]\n",
        "    context = last_message.content[:1500].strip()\n",
        "\n",
        "    result = chain.invoke({\"question\": question, \"context\": context})\n",
        "    score = result.binary_score.lower().strip()\n",
        "\n",
        "    if score == \"yes\":\n",
        "        print(\"---DECISION: DOCS RELEVANT---\")\n",
        "        return \"Generate\"\n",
        "    else:\n",
        "        if state.get(\"rewrite_count\", 0) >= 1:\n",
        "            print(\"---DECISION: DOCS NOT RELEVANT AFTER REWRITE — GENERATE ANYWAY---\")\n",
        "            return \"Generate\"\n",
        "        else:\n",
        "            print(\"---DECISION: DOCS NOT RELEVANT — TRY REWRITE---\")\n",
        "            return \"Query_Rewriter\""
      ],
      "metadata": {
        "id": "w0RbFYAjFOho"
      },
      "execution_count": 15,
      "outputs": []
    },
    {
      "cell_type": "code",
      "source": [
        "from langchain import hub\n",
        "from langchain_core.messages import HumanMessage, ToolMessage, AIMessage\n",
        "def generate(state: AgentState):\n",
        "    print(\"---GENERATE---\")\n",
        "    messages = state[\"messages\"]\n",
        "    question = messages[0].content\n",
        "    last_message = messages[-1]\n",
        "    docs = last_message.content\n",
        "\n",
        "    prompt = hub.pull(\"rlm/rag-prompt\")\n",
        "    rag_chain = prompt | llm\n",
        "\n",
        "    if not docs or len(docs.strip()) < 50:\n",
        "        response = AIMessage(content=\"No relevant documents were found, but here's a general answer: An agent is a system that acts on behalf of others.\")\n",
        "    else:\n",
        "        response = rag_chain.invoke({\"context\": docs, \"question\": question})\n",
        "\n",
        "    print(f\"this is my response:{response}\")\n",
        "    return {\"messages\": [response]}"
      ],
      "metadata": {
        "id": "Qq8gv-oMFSs9"
      },
      "execution_count": 54,
      "outputs": []
    },
    {
      "cell_type": "code",
      "source": [
        "from langchain_core.messages import HumanMessage\n",
        "def rewrite(state: AgentState):\n",
        "    print(\"---TRANSFORM QUERY---\")\n",
        "    messages = state[\"messages\"]\n",
        "    question = messages[0].content\n",
        "\n",
        "    new_message = [HumanMessage(content=f\"Improve this unclear question: {question}\")]\n",
        "    response = llm.invoke(new_message)\n",
        "\n",
        "    return {\n",
        "        \"messages\": [response],\n",
        "        \"rewrite_count\": state.get(\"rewrite_count\", 0) + 1\n",
        "    }"
      ],
      "metadata": {
        "id": "sitj7jdJFWrs"
      },
      "execution_count": 55,
      "outputs": []
    },
    {
      "cell_type": "code",
      "source": [
        "from langgraph.graph import StateGraph, START, END\n",
        "from langgraph.prebuilt import tools_condition\n",
        "\n",
        "graph = StateGraph(AgentState)\n",
        "\n",
        "graph.add_node(\"Assistant\", assistant)\n",
        "graph.add_node(\"Vector_Retriever\", ToolNode([retriever_tool]))\n",
        "graph.add_node(\"Generate\", generate)\n",
        "graph.add_node(\"Query_Rewriter\", rewrite)\n",
        "\n",
        "graph.add_edge(START, \"Assistant\")\n",
        "graph.add_conditional_edges(\"Assistant\", tools_condition, {\n",
        "    \"tools\": \"Vector_Retriever\",\n",
        "    END: END\n",
        "})\n",
        "\n",
        "graph.add_conditional_edges(\"Vector_Retriever\", grade_docs, {\n",
        "    \"Generate\": \"Generate\",\n",
        "    \"Query_Rewriter\": \"Query_Rewriter\"\n",
        "})\n",
        "\n",
        "graph.add_edge(\"Generate\", END)\n",
        "graph.add_edge(\"Query_Rewriter\", \"Assistant\")\n",
        "\n",
        "builder = graph.compile()"
      ],
      "metadata": {
        "id": "soyUtfJJFbPi"
      },
      "execution_count": 56,
      "outputs": []
    },
    {
      "cell_type": "code",
      "source": [
        "builder"
      ],
      "metadata": {
        "colab": {
          "base_uri": "https://localhost:8080/",
          "height": 473
        },
        "id": "GszRKS_aHt4o",
        "outputId": "9b63c22a-38d8-440f-9fa5-59fc1e1b9e6f"
      },
      "execution_count": 57,
      "outputs": [
        {
          "output_type": "execute_result",
          "data": {
            "text/plain": [
              "<langgraph.graph.state.CompiledStateGraph object at 0x7a7edc388410>"
            ],
            "image/png": "[encoded data removed]"
          },
          "metadata": {},
          "execution_count": 57
        }
      ]
    },
    {
      "cell_type": "code",
      "source": [
        "builder.invoke({\n",
        "    \"messages\": [HumanMessage(content=\"What is an Agent?\")]\n",
        "})"
      ],
      "metadata": {
        "colab": {
          "base_uri": "https://localhost:8080/"
        },
        "id": "B1iczFktLKKY",
        "outputId": "ae710a2b-4327-4fd5-c720-5f4ea46ad7e7"
      },
      "execution_count": 58,
      "outputs": [
        {
          "output_type": "stream",
          "name": "stdout",
          "text": [
            "---CALL AGENT---\n",
            "---DECISION: DOCS RELEVANT---\n",
            "---GENERATE---\n",
            "this is my response:content='An agent is a system that can act autonomously to achieve goals.  LLM-powered autonomous agents use large language models to plan, remember, and utilize tools to accomplish tasks.  They are capable of complex interactions with their environment. \\n' additional_kwargs={} response_metadata={'token_usage': {'completion_tokens': 52, 'prompt_tokens': 469, 'total_tokens': 521, 'completion_time': 0.094545455, 'prompt_time': 0.010302455, 'queue_time': 0.019247651999999997, 'total_time': 0.10484791}, 'model_name': 'gemma2-9b-it', 'system_fingerprint': 'fp_10c08bf97d', 'service_tier': 'on_demand', 'finish_reason': 'stop', 'logprobs': None} id='run--12564080-1cf0-4c3a-b716-355cc042e5cc-0' usage_metadata={'input_tokens': 469, 'output_tokens': 52, 'total_tokens': 521}\n"
          ]
        },
        {
          "output_type": "execute_result",
          "data": {
            "text/plain": [
              "{'messages': [HumanMessage(content='What is an Agent?', additional_kwargs={}, response_metadata={}, id='ab0055ce-d8c1-40bd-9adc-6f061821e947'),\n",
              "  AIMessage(content='', additional_kwargs={'tool_calls': [{'id': 'ds4z09pmd', 'function': {'arguments': '{\"query\":\"an agent\"}', 'name': 'retriever-blog-post'}, 'type': 'function'}]}, response_metadata={'token_usage': {'completion_tokens': 86, 'prompt_tokens': 975, 'total_tokens': 1061, 'completion_time': 0.156363636, 'prompt_time': 0.023115919, 'queue_time': 0.019695627, 'total_time': 0.179479555}, 'model_name': 'gemma2-9b-it', 'system_fingerprint': 'fp_10c08bf97d', 'service_tier': 'on_demand', 'finish_reason': 'tool_calls', 'logprobs': None}, id='run--3e2d7a4b-a873-4d50-9c3c-e903808a9088-0', tool_calls=[{'name': 'retriever-blog-post', 'args': {'query': 'an agent'}, 'id': 'ds4z09pmd', 'type': 'tool_call'}], usage_metadata={'input_tokens': 975, 'output_tokens': 86, 'total_tokens': 1061}),\n",
              "  ToolMessage(content=\"Citation#\\nCited as:\\n\\nWeng, Lilian. (Jun 2023). “LLM-powered Autonomous Agents”. Lil’Log. https://lilianweng.github.io/posts/2023-06-23-agent/.\\n\\nCitation#\\nCited as:\\n\\nWeng, Lilian. (Jun 2023). “LLM-powered Autonomous Agents”. Lil’Log. https://lilianweng.github.io/posts/2023-06-23-agent/.\\n\\nLLM Powered Autonomous Agents | Lil'Log\\n\\n\\n\\n\\n\\n\\n\\n\\n\\n\\n\\n\\n\\n\\n\\n\\n\\n\\n\\n\\n\\n\\n\\n\\n\\n\\n\\n\\n\\n\\n\\n\\n\\n\\n\\n\\n\\n\\n\\nLil'Log\\n\\n\\n\\n\\n\\n\\n\\n\\n\\n\\n\\n\\n\\n\\n\\n\\n\\n|\\n\\n\\n\\n\\n\\n\\nPosts\\n\\n\\n\\n\\nArchive\\n\\n\\n\\n\\nSearch\\n\\n\\n\\n\\nTags\\n\\n\\n\\n\\nFAQ\\n\\n\\n\\n\\n\\n\\n\\n\\n\\n      LLM Powered Autonomous Agents\\n    \\nDate: June 23, 2023  |  Estimated Reading Time: 31 min  |  Author: Lilian Weng\\n\\n\\n \\n\\n\\nTable of Contents\\n\\n\\n\\nAgent System Overview\\n\\nComponent One: Planning\\n\\nTask Decomposition\\n\\nSelf-Reflection\\n\\n\\nComponent Two: Memory\\n\\nTypes of Memory\\n\\nMaximum Inner Product Search (MIPS)\\n\\n\\nComponent Three: Tool Use\\n\\nCase Studies\\n\\nScientific Discovery Agent\\n\\nGenerative Agents Simulation\\n\\nProof-of-Concept Examples\\n\\n\\nChallenges\\n\\nCitation\\n\\nReferences\\n\\nLLM Powered Autonomous Agents | Lil'Log\\n\\n\\n\\n\\n\\n\\n\\n\\n\\n\\n\\n\\n\\n\\n\\n\\n\\n\\n\\n\\n\\n\\n\\n\\n\\n\\n\\n\\n\\n\\n\\n\\n\\n\\n\\n\\n\\n\\n\\nLil'Log\\n\\n\\n\\n\\n\\n\\n\\n\\n\\n\\n\\n\\n\\n\\n\\n\\n\\n|\\n\\n\\n\\n\\n\\n\\nPosts\\n\\n\\n\\n\\nArchive\\n\\n\\n\\n\\nSearch\\n\\n\\n\\n\\nTags\\n\\n\\n\\n\\nFAQ\\n\\n\\n\\n\\n\\n\\n\\n\\n\\n      LLM Powered Autonomous Agents\\n    \\nDate: June 23, 2023  |  Estimated Reading Time: 31 min  |  Author: Lilian Weng\\n\\n\\n \\n\\n\\nTable of Contents\\n\\n\\n\\nAgent System Overview\\n\\nComponent One: Planning\\n\\nTask Decomposition\\n\\nSelf-Reflection\\n\\n\\nComponent Two: Memory\\n\\nTypes of Memory\\n\\nMaximum Inner Product Search (MIPS)\\n\\n\\nComponent Three: Tool Use\\n\\nCase Studies\\n\\nScientific Discovery Agent\\n\\nGenerative Agents Simulation\\n\\nProof-of-Concept Examples\\n\\n\\nChallenges\\n\\nCitation\\n\\nReferences\", name='retriever-blog-post', id='a2dcd3a3-8b8c-47ab-9dbd-34e41849973a', tool_call_id='ds4z09pmd'),\n",
              "  AIMessage(content='An agent is a system that can act autonomously to achieve goals.  LLM-powered autonomous agents use large language models to plan, remember, and utilize tools to accomplish tasks.  They are capable of complex interactions with their environment. \\n', additional_kwargs={}, response_metadata={'token_usage': {'completion_tokens': 52, 'prompt_tokens': 469, 'total_tokens': 521, 'completion_time': 0.094545455, 'prompt_time': 0.010302455, 'queue_time': 0.019247651999999997, 'total_time': 0.10484791}, 'model_name': 'gemma2-9b-it', 'system_fingerprint': 'fp_10c08bf97d', 'service_tier': 'on_demand', 'finish_reason': 'stop', 'logprobs': None}, id='run--12564080-1cf0-4c3a-b716-355cc042e5cc-0', usage_metadata={'input_tokens': 469, 'output_tokens': 52, 'total_tokens': 521})]}"
            ]
          },
          "metadata": {},
          "execution_count": 58
        }
      ]
    },
    {
      "cell_type": "code",
      "source": [
        "from pprint import pprint\n",
        "from langchain_core.messages import HumanMessage\n",
        "\n",
        "# Start input\n",
        "inputs = {\"messages\": [HumanMessage(content=\"Tell about the agent memory?\")]}\n",
        "\n",
        "# Stream execution through the graph\n",
        "for step in builder.stream(inputs):\n",
        "    for key, value in step.items():\n",
        "        pprint(f\"Node '{key}':\")\n",
        "        pprint(value)\n",
        "    pprint(\"\\n---\\n\")\n",
        "\n",
        "final_state = value\n",
        "\n",
        "if \"messages\" in final_state:\n",
        "    final_message = final_state[\"messages\"][-1]\n",
        "    pprint(\"Final Generation:\")\n",
        "    pprint(final_message.content)"
      ],
      "metadata": {
        "colab": {
          "base_uri": "https://localhost:8080/"
        },
        "id": "TSeDhSSWPI9B",
        "outputId": "33cb1faf-2f0f-4dda-9b7a-656c21456748"
      },
      "execution_count": 59,
      "outputs": [
        {
          "output_type": "stream",
          "name": "stdout",
          "text": [
            "---CALL AGENT---\n",
            "\"Node 'Assistant':\"\n",
            "{'messages': [AIMessage(content='', additional_kwargs={'tool_calls': [{'id': 'nc6zak1zs', 'function': {'arguments': '{\"query\":\"agent memory\"}', 'name': 'retriever-blog-post'}, 'type': 'function'}]}, response_metadata={'token_usage': {'completion_tokens': 86, 'prompt_tokens': 976, 'total_tokens': 1062, 'completion_time': 0.156363636, 'prompt_time': 0.023508389, 'queue_time': 0.019100599, 'total_time': 0.179872025}, 'model_name': 'gemma2-9b-it', 'system_fingerprint': 'fp_10c08bf97d', 'service_tier': 'on_demand', 'finish_reason': 'tool_calls', 'logprobs': None}, id='run--73d9c9a4-3542-4d02-89c7-6fe98e5c3049-0', tool_calls=[{'name': 'retriever-blog-post', 'args': {'query': 'agent memory'}, 'id': 'nc6zak1zs', 'type': 'tool_call'}], usage_metadata={'input_tokens': 976, 'output_tokens': 86, 'total_tokens': 1062})]}\n",
            "'\\n---\\n'\n",
            "---DECISION: DOCS RELEVANT---\n",
            "\"Node 'Vector_Retriever':\"\n",
            "{'messages': [ToolMessage(content=\"They also discussed the risks, especially with illicit drugs and bioweapons. They developed a test set containing a list of known chemical weapon agents and asked the agent to synthesize them. 4 out of 11 requests (36%) were accepted to obtain a synthesis solution and the agent attempted to consult documentation to execute the procedure. 7 out of 11 were rejected and among these 7 rejected cases, 5 happened after a Web search while 2 were rejected based on prompt only.\\nGenerative Agents Simulation#\\nGenerative Agents (Park, et al. 2023) is super fun experiment where 25 virtual characters, each controlled by a LLM-powered agent, are living and interacting in a sandbox environment, inspired by The Sims. Generative agents create believable simulacra of human behavior for interactive applications.\\nThe design of generative agents combines LLM with memory, planning and reflection mechanisms to enable agents to behave conditioned on past experience, as well as to interact with other agents.\\n\\nMemory stream: is a long-term memory module (external database) that records a comprehensive list of agents’ experience in natural language.\\n\\nThey also discussed the risks, especially with illicit drugs and bioweapons. They developed a test set containing a list of known chemical weapon agents and asked the agent to synthesize them. 4 out of 11 requests (36%) were accepted to obtain a synthesis solution and the agent attempted to consult documentation to execute the procedure. 7 out of 11 were rejected and among these 7 rejected cases, 5 happened after a Web search while 2 were rejected based on prompt only.\\nGenerative Agents Simulation#\\nGenerative Agents (Park, et al. 2023) is super fun experiment where 25 virtual characters, each controlled by a LLM-powered agent, are living and interacting in a sandbox environment, inspired by The Sims. Generative agents create believable simulacra of human behavior for interactive applications.\\nThe design of generative agents combines LLM with memory, planning and reflection mechanisms to enable agents to behave conditioned on past experience, as well as to interact with other agents.\\n\\nMemory stream: is a long-term memory module (external database) that records a comprehensive list of agents’ experience in natural language.\\n\\nLLM Powered Autonomous Agents | Lil'Log\\n\\n\\n\\n\\n\\n\\n\\n\\n\\n\\n\\n\\n\\n\\n\\n\\n\\n\\n\\n\\n\\n\\n\\n\\n\\n\\n\\n\\n\\n\\n\\n\\n\\n\\n\\n\\n\\n\\n\\nLil'Log\\n\\n\\n\\n\\n\\n\\n\\n\\n\\n\\n\\n\\n\\n\\n\\n\\n\\n|\\n\\n\\n\\n\\n\\n\\nPosts\\n\\n\\n\\n\\nArchive\\n\\n\\n\\n\\nSearch\\n\\n\\n\\n\\nTags\\n\\n\\n\\n\\nFAQ\\n\\n\\n\\n\\n\\n\\n\\n\\n\\n      LLM Powered Autonomous Agents\\n    \\nDate: June 23, 2023  |  Estimated Reading Time: 31 min  |  Author: Lilian Weng\\n\\n\\n \\n\\n\\nTable of Contents\\n\\n\\n\\nAgent System Overview\\n\\nComponent One: Planning\\n\\nTask Decomposition\\n\\nSelf-Reflection\\n\\n\\nComponent Two: Memory\\n\\nTypes of Memory\\n\\nMaximum Inner Product Search (MIPS)\\n\\n\\nComponent Three: Tool Use\\n\\nCase Studies\\n\\nScientific Discovery Agent\\n\\nGenerative Agents Simulation\\n\\nProof-of-Concept Examples\\n\\n\\nChallenges\\n\\nCitation\\n\\nReferences\\n\\nLLM Powered Autonomous Agents | Lil'Log\\n\\n\\n\\n\\n\\n\\n\\n\\n\\n\\n\\n\\n\\n\\n\\n\\n\\n\\n\\n\\n\\n\\n\\n\\n\\n\\n\\n\\n\\n\\n\\n\\n\\n\\n\\n\\n\\n\\n\\nLil'Log\\n\\n\\n\\n\\n\\n\\n\\n\\n\\n\\n\\n\\n\\n\\n\\n\\n\\n|\\n\\n\\n\\n\\n\\n\\nPosts\\n\\n\\n\\n\\nArchive\\n\\n\\n\\n\\nSearch\\n\\n\\n\\n\\nTags\\n\\n\\n\\n\\nFAQ\\n\\n\\n\\n\\n\\n\\n\\n\\n\\n      LLM Powered Autonomous Agents\\n    \\nDate: June 23, 2023  |  Estimated Reading Time: 31 min  |  Author: Lilian Weng\\n\\n\\n \\n\\n\\nTable of Contents\\n\\n\\n\\nAgent System Overview\\n\\nComponent One: Planning\\n\\nTask Decomposition\\n\\nSelf-Reflection\\n\\n\\nComponent Two: Memory\\n\\nTypes of Memory\\n\\nMaximum Inner Product Search (MIPS)\\n\\n\\nComponent Three: Tool Use\\n\\nCase Studies\\n\\nScientific Discovery Agent\\n\\nGenerative Agents Simulation\\n\\nProof-of-Concept Examples\\n\\n\\nChallenges\\n\\nCitation\\n\\nReferences\", name='retriever-blog-post', id='31ba1247-e39f-4b83-abc1-56e63415cb00', tool_call_id='nc6zak1zs')]}\n",
            "'\\n---\\n'\n",
            "---GENERATE---\n",
            "this is my response:content=\"Agent memory is a long-term memory module called a memory stream.  It is an external database that records agents' experiences in natural language. This allows agents to learn from past experiences and behave accordingly. \\n\" additional_kwargs={} response_metadata={'token_usage': {'completion_tokens': 45, 'prompt_tokens': 822, 'total_tokens': 867, 'completion_time': 0.081818182, 'prompt_time': 0.017577641, 'queue_time': 0.019816226999999995, 'total_time': 0.099395823}, 'model_name': 'gemma2-9b-it', 'system_fingerprint': 'fp_10c08bf97d', 'service_tier': 'on_demand', 'finish_reason': 'stop', 'logprobs': None} id='run--fcf524ea-d150-483d-8d06-44834dcc25ce-0' usage_metadata={'input_tokens': 822, 'output_tokens': 45, 'total_tokens': 867}\n",
            "\"Node 'Generate':\"\n",
            "{'messages': [AIMessage(content=\"Agent memory is a long-term memory module called a memory stream.  It is an external database that records agents' experiences in natural language. This allows agents to learn from past experiences and behave accordingly. \\n\", additional_kwargs={}, response_metadata={'token_usage': {'completion_tokens': 45, 'prompt_tokens': 822, 'total_tokens': 867, 'completion_time': 0.081818182, 'prompt_time': 0.017577641, 'queue_time': 0.019816226999999995, 'total_time': 0.099395823}, 'model_name': 'gemma2-9b-it', 'system_fingerprint': 'fp_10c08bf97d', 'service_tier': 'on_demand', 'finish_reason': 'stop', 'logprobs': None}, id='run--fcf524ea-d150-483d-8d06-44834dcc25ce-0', usage_metadata={'input_tokens': 822, 'output_tokens': 45, 'total_tokens': 867})]}\n",
            "'\\n---\\n'\n",
            "'Final Generation:'\n",
            "('Agent memory is a long-term memory module called a memory stream.  It is an '\n",
            " \"external database that records agents' experiences in natural language. This \"\n",
            " 'allows agents to learn from past experiences and behave accordingly. \\n')\n"
          ]
        }
      ]
    },
    {
      "cell_type": "code",
      "source": [
        "inputs = {\n",
        "    \"messages\": [HumanMessage(content=\"What is a Agent?\")],\n",
        "    \"rewrite_count\": 0\n",
        "}\n",
        "\n",
        "for step in builder.stream(inputs):\n",
        "    for key, value in step.items():\n",
        "        pprint(f\"Node '{key}':\")\n",
        "        pprint(value)\n",
        "    pprint(\"\\n---\\n\")\n",
        "\n",
        "final_state = value\n",
        "if \"messages\" in final_state:\n",
        "    final_message = final_state[\"messages\"][-1]\n",
        "    pprint(\"Final Generation:\")\n",
        "    pprint(final_message.content)"
      ],
      "metadata": {
        "colab": {
          "base_uri": "https://localhost:8080/"
        },
        "id": "Yiqb4MknPUaj",
        "outputId": "0e756cd0-0af9-4ae8-8055-6b497228df07"
      },
      "execution_count": 60,
      "outputs": [
        {
          "output_type": "stream",
          "name": "stdout",
          "text": [
            "---CALL AGENT---\n",
            "\"Node 'Assistant':\"\n",
            "{'messages': [AIMessage(content='', additional_kwargs={'tool_calls': [{'id': 'ptwh1sbhe', 'function': {'arguments': '{\"query\":\"What is an Agent?\"}', 'name': 'retriever-blog-post'}, 'type': 'function'}]}, response_metadata={'token_usage': {'completion_tokens': 88, 'prompt_tokens': 975, 'total_tokens': 1063, 'completion_time': 0.16, 'prompt_time': 0.01875521, 'queue_time': 0.021042237, 'total_time': 0.17875521}, 'model_name': 'gemma2-9b-it', 'system_fingerprint': 'fp_10c08bf97d', 'service_tier': 'on_demand', 'finish_reason': 'tool_calls', 'logprobs': None}, id='run--25947f61-ba13-46c8-be39-a676c8e815ef-0', tool_calls=[{'name': 'retriever-blog-post', 'args': {'query': 'What is an Agent?'}, 'id': 'ptwh1sbhe', 'type': 'tool_call'}], usage_metadata={'input_tokens': 975, 'output_tokens': 88, 'total_tokens': 1063})]}\n",
            "'\\n---\\n'\n",
            "---DECISION: DOCS RELEVANT---\n",
            "\"Node 'Vector_Retriever':\"\n",
            "{'messages': [ToolMessage(content=\"Planning & Reacting: translate the reflections and the environment information into actions\\n\\nPlanning is essentially in order to optimize believability at the moment vs in time.\\nPrompt template: {Intro of an agent X}. Here is X's plan today in broad strokes: 1)\\nRelationships between agents and observations of one agent by another are all taken into consideration for planning and reacting.\\nEnvironment information is present in a tree structure.\\n\\n\\n\\n\\n\\nThe generative agent architecture. (Image source: Park et al. 2023)\\n\\nPlanning & Reacting: translate the reflections and the environment information into actions\\n\\nPlanning is essentially in order to optimize believability at the moment vs in time.\\nPrompt template: {Intro of an agent X}. Here is X's plan today in broad strokes: 1)\\nRelationships between agents and observations of one agent by another are all taken into consideration for planning and reacting.\\nEnvironment information is present in a tree structure.\\n\\n\\n\\n\\n\\nThe generative agent architecture. (Image source: Park et al. 2023)\\n\\nCitation#\\nCited as:\\n\\nWeng, Lilian. (Jun 2023). “LLM-powered Autonomous Agents”. Lil’Log. https://lilianweng.github.io/posts/2023-06-23-agent/.\\n\\nCitation#\\nCited as:\\n\\nWeng, Lilian. (Jun 2023). “LLM-powered Autonomous Agents”. Lil’Log. https://lilianweng.github.io/posts/2023-06-23-agent/.\", name='retriever-blog-post', id='2d2d5925-72a9-48cc-a62d-5660413efe98', tool_call_id='ptwh1sbhe')]}\n",
            "'\\n---\\n'\n",
            "---GENERATE---\n",
            "this is my response:content='An agent is a  system that plans and reacts based on reflections and environmental information. \\nIt aims to optimize believability in its actions over time. \\nRelationships between agents and observations are considered in this planning and reacting process. \\n\\n\\n' additional_kwargs={} response_metadata={'token_usage': {'completion_tokens': 51, 'prompt_tokens': 409, 'total_tokens': 460, 'completion_time': 0.092727273, 'prompt_time': 0.008302106, 'queue_time': 0.020534351, 'total_time': 0.101029379}, 'model_name': 'gemma2-9b-it', 'system_fingerprint': 'fp_10c08bf97d', 'service_tier': 'on_demand', 'finish_reason': 'stop', 'logprobs': None} id='run--46db0e1a-a468-46e3-8507-167dcc2da272-0' usage_metadata={'input_tokens': 409, 'output_tokens': 51, 'total_tokens': 460}\n",
            "\"Node 'Generate':\"\n",
            "{'messages': [AIMessage(content='An agent is a  system that plans and reacts based on reflections and environmental information. \\nIt aims to optimize believability in its actions over time. \\nRelationships between agents and observations are considered in this planning and reacting process. \\n\\n\\n', additional_kwargs={}, response_metadata={'token_usage': {'completion_tokens': 51, 'prompt_tokens': 409, 'total_tokens': 460, 'completion_time': 0.092727273, 'prompt_time': 0.008302106, 'queue_time': 0.020534351, 'total_time': 0.101029379}, 'model_name': 'gemma2-9b-it', 'system_fingerprint': 'fp_10c08bf97d', 'service_tier': 'on_demand', 'finish_reason': 'stop', 'logprobs': None}, id='run--46db0e1a-a468-46e3-8507-167dcc2da272-0', usage_metadata={'input_tokens': 409, 'output_tokens': 51, 'total_tokens': 460})]}\n",
            "'\\n---\\n'\n",
            "'Final Generation:'\n",
            "('An agent is a  system that plans and reacts based on reflections and '\n",
            " 'environmental information. \\n'\n",
            " 'It aims to optimize believability in its actions over time. \\n'\n",
            " 'Relationships between agents and observations are considered in this '\n",
            " 'planning and reacting process. \\n'\n",
            " '\\n'\n",
            " '\\n')\n"
          ]
        }
      ]
    },
    {
      "cell_type": "code",
      "source": [
        "inputs = {\n",
        "    \"messages\": [HumanMessage(content=\"What is the Capital Of India?\")],\n",
        "    \"rewrite_count\": 0\n",
        "}\n",
        "\n",
        "for step in builder.stream(inputs):\n",
        "    for key, value in step.items():\n",
        "        pprint(f\"Node '{key}':\")\n",
        "        pprint(value)\n",
        "    pprint(\"\\n---\\n\")\n",
        "\n",
        "final_state = value\n",
        "if \"messages\" in final_state:\n",
        "    final_message = final_state[\"messages\"][-1]\n",
        "    pprint(\"Final Generation:\")\n",
        "    pprint(final_message.content)"
      ],
      "metadata": {
        "colab": {
          "base_uri": "https://localhost:8080/"
        },
        "id": "UaXFu7A2RfrS",
        "outputId": "d320118b-9be9-41a7-cf51-fe3fdcbda509"
      },
      "execution_count": 61,
      "outputs": [
        {
          "output_type": "stream",
          "name": "stdout",
          "text": [
            "---CALL AGENT---\n",
            "\"Node 'Assistant':\"\n",
            "{'messages': [AIMessage(content='', additional_kwargs={'tool_calls': [{'id': '46fhhg12p', 'function': {'arguments': '{\"query\":\"What is the capital of India?\"}', 'name': 'retriever-blog-post'}, 'type': 'function'}]}, response_metadata={'token_usage': {'completion_tokens': 89, 'prompt_tokens': 977, 'total_tokens': 1066, 'completion_time': 0.161818182, 'prompt_time': 0.018744391, 'queue_time': 0.020336576000000002, 'total_time': 0.180562573}, 'model_name': 'gemma2-9b-it', 'system_fingerprint': 'fp_10c08bf97d', 'service_tier': 'on_demand', 'finish_reason': 'tool_calls', 'logprobs': None}, id='run--ad2c6ce4-ba0f-4d71-91ca-9e63fc80f3e0-0', tool_calls=[{'name': 'retriever-blog-post', 'args': {'query': 'What is the capital of India?'}, 'id': '46fhhg12p', 'type': 'tool_call'}], usage_metadata={'input_tokens': 977, 'output_tokens': 89, 'total_tokens': 1066})]}\n",
            "'\\n---\\n'\n",
            "---DECISION: DOCS NOT RELEVANT — TRY REWRITE---\n",
            "\"Node 'Vector_Retriever':\"\n",
            "{'messages': [ToolMessage(content='You will get instructions for code to write.\\nYou will write a very long answer. Make sure that every detail of the architecture is, in the end, implemented as code.\\nMake sure that every detail of the architecture is, in the end, implemented as code.\\nThink step by step and reason yourself to the right decisions to make sure we get it right.\\nYou will first lay out the names of the core classes, functions, methods that will be necessary, as well as a quick comment on their purpose.\\nThen you will output the content of each file including ALL code.\\nEach file must strictly follow a markdown code block format, where the following tokens must be replaced such that\\nFILENAME is the lowercase file name including the file extension,\\nLANG is the markup code block language for the code’s language, and CODE is the code:\\nFILENAME\\nCODE\\nYou will start with the “entrypoint” file, then go to the ones that are imported by that file, and so on.\\nPlease note that the code should be fully functional. No placeholders.\\nFollow a language and framework appropriate best practice file naming convention.\\n\\nYou will get instructions for code to write.\\nYou will write a very long answer. Make sure that every detail of the architecture is, in the end, implemented as code.\\nMake sure that every detail of the architecture is, in the end, implemented as code.\\nThink step by step and reason yourself to the right decisions to make sure we get it right.\\nYou will first lay out the names of the core classes, functions, methods that will be necessary, as well as a quick comment on their purpose.\\nThen you will output the content of each file including ALL code.\\nEach file must strictly follow a markdown code block format, where the following tokens must be replaced such that\\nFILENAME is the lowercase file name including the file extension,\\nLANG is the markup code block language for the code’s language, and CODE is the code:\\nFILENAME\\nCODE\\nYou will start with the “entrypoint” file, then go to the ones that are imported by that file, and so on.\\nPlease note that the code should be fully functional. No placeholders.\\nFollow a language and framework appropriate best practice file naming convention.\\n\\nCommands:\\n1. Google Search: \"google\", args: \"input\": \"<search>\"\\n2. Browse Website: \"browse_website\", args: \"url\": \"<url>\", \"question\": \"<what_you_want_to_find_on_website>\"\\n3. Start GPT Agent: \"start_agent\", args: \"name\": \"<name>\", \"task\": \"<short_task_desc>\", \"prompt\": \"<prompt>\"\\n4. Message GPT Agent: \"message_agent\", args: \"key\": \"<key>\", \"message\": \"<message>\"\\n5. List GPT Agents: \"list_agents\", args:\\n6. Delete GPT Agent: \"delete_agent\", args: \"key\": \"<key>\"\\n7. Clone Repository: \"clone_repository\", args: \"repository_url\": \"<url>\", \"clone_path\": \"<directory>\"\\n8. Write to file: \"write_to_file\", args: \"file\": \"<file>\", \"text\": \"<text>\"\\n\\nCommands:\\n1. Google Search: \"google\", args: \"input\": \"<search>\"\\n2. Browse Website: \"browse_website\", args: \"url\": \"<url>\", \"question\": \"<what_you_want_to_find_on_website>\"\\n3. Start GPT Agent: \"start_agent\", args: \"name\": \"<name>\", \"task\": \"<short_task_desc>\", \"prompt\": \"<prompt>\"\\n4. Message GPT Agent: \"message_agent\", args: \"key\": \"<key>\", \"message\": \"<message>\"\\n5. List GPT Agents: \"list_agents\", args:\\n6. Delete GPT Agent: \"delete_agent\", args: \"key\": \"<key>\"\\n7. Clone Repository: \"clone_repository\", args: \"repository_url\": \"<url>\", \"clone_path\": \"<directory>\"\\n8. Write to file: \"write_to_file\", args: \"file\": \"<file>\", \"text\": \"<text>\"', name='retriever-blog-post', id='16409732-e4e1-4b89-86b3-4670781ad425', tool_call_id='46fhhg12p')]}\n",
            "'\\n---\\n'\n",
            "---TRANSFORM QUERY---\n",
            "\"Node 'Query_Rewriter':\"\n",
            "{'messages': [AIMessage(content=\"The question is already clear! \\n\\nIt's a simple, direct question asking for the name of India's capital city. \\n\\nPerhaps you meant to ask something else, like:\\n\\n* **What is the history of the capital city of India?**\\n* **How was the capital city of India chosen?**\\n* **What are some interesting facts about the capital city of India?** \\n\\n\\nLet me know if you had something else in mind! \\n\", additional_kwargs={}, response_metadata={'token_usage': {'completion_tokens': 100, 'prompt_tokens': 21, 'total_tokens': 121, 'completion_time': 0.181818182, 'prompt_time': 0.001321999, 'queue_time': 0.017475269999999998, 'total_time': 0.183140181}, 'model_name': 'gemma2-9b-it', 'system_fingerprint': 'fp_10c08bf97d', 'service_tier': 'on_demand', 'finish_reason': 'stop', 'logprobs': None}, id='run--c820424f-1ccd-4c20-9626-7c309c78c67e-0', usage_metadata={'input_tokens': 21, 'output_tokens': 100, 'total_tokens': 121})],\n",
            " 'rewrite_count': 1}\n",
            "'\\n---\\n'\n",
            "---CALL AGENT---\n",
            "\"Node 'Assistant':\"\n",
            "{'messages': [AIMessage(content='', additional_kwargs={}, response_metadata={'token_usage': {'completion_tokens': 2, 'prompt_tokens': 2048, 'total_tokens': 2050, 'completion_time': 0.003636364, 'prompt_time': 0.04087275, 'queue_time': -9223372036.895649, 'total_time': 0.044509114}, 'model_name': 'gemma2-9b-it', 'system_fingerprint': 'fp_10c08bf97d', 'service_tier': 'on_demand', 'finish_reason': 'stop', 'logprobs': None}, id='run--5c6a92a5-73bb-4bc1-9b05-60b95a1ac247-0', usage_metadata={'input_tokens': 2048, 'output_tokens': 2, 'total_tokens': 2050})]}\n",
            "'\\n---\\n'\n",
            "'Final Generation:'\n",
            "''\n"
          ]
        }
      ]
    },
    {
      "cell_type": "code",
      "source": [],
      "metadata": {
        "id": "B0yNqfd7V7iY"
      },
      "execution_count": 61,
      "outputs": []
    }
  ]
}